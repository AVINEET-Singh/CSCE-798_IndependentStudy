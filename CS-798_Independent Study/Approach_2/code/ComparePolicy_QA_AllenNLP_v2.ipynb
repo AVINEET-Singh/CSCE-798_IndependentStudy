{
  "nbformat": 4,
  "nbformat_minor": 0,
  "metadata": {
    "colab": {
      "name": "ComparePolicy_QA_AllenNLP_v3.ipynb",
      "provenance": []
    },
    "kernelspec": {
      "name": "python3",
      "display_name": "Python 3"
    },
    "language_info": {
      "name": "python"
    },
    "accelerator": "GPU"
  },
  "cells": [
    {
      "cell_type": "markdown",
      "metadata": {
        "id": "VpHpBZHZoR_B"
      },
      "source": [
        "#Installations"
      ]
    },
    {
      "cell_type": "code",
      "metadata": {
        "colab": {
          "base_uri": "https://localhost:8080/"
        },
        "id": "EZKfly-Cm4UQ",
        "outputId": "3eea26f1-7919-4cfb-c98b-c9e4a66435ce"
      },
      "source": [
        "pip install texthero"
      ],
      "execution_count": null,
      "outputs": [
        {
          "output_type": "stream",
          "text": [
            "Collecting texthero\n",
            "  Downloading texthero-1.1.0-py3-none-any.whl (24 kB)\n",
            "Requirement already satisfied: plotly>=4.2.0 in /usr/local/lib/python3.7/dist-packages (from texthero) (4.4.1)\n",
            "Requirement already satisfied: numpy>=1.17 in /usr/local/lib/python3.7/dist-packages (from texthero) (1.19.5)\n",
            "Collecting nltk>=3.3\n",
            "  Downloading nltk-3.6.2-py3-none-any.whl (1.5 MB)\n",
            "\u001b[?25l\r\u001b[K     |▎                               | 10 kB 31.8 MB/s eta 0:00:01\r\u001b[K     |▌                               | 20 kB 35.6 MB/s eta 0:00:01\r\u001b[K     |▊                               | 30 kB 37.2 MB/s eta 0:00:01\r\u001b[K     |█                               | 40 kB 40.2 MB/s eta 0:00:01\r\u001b[K     |█▏                              | 51 kB 43.6 MB/s eta 0:00:01\r\u001b[K     |█▍                              | 61 kB 33.0 MB/s eta 0:00:01\r\u001b[K     |█▋                              | 71 kB 34.6 MB/s eta 0:00:01\r\u001b[K     |█▉                              | 81 kB 35.6 MB/s eta 0:00:01\r\u001b[K     |██                              | 92 kB 37.2 MB/s eta 0:00:01\r\u001b[K     |██▎                             | 102 kB 38.9 MB/s eta 0:00:01\r\u001b[K     |██▌                             | 112 kB 38.9 MB/s eta 0:00:01\r\u001b[K     |██▊                             | 122 kB 38.9 MB/s eta 0:00:01\r\u001b[K     |███                             | 133 kB 38.9 MB/s eta 0:00:01\r\u001b[K     |███▏                            | 143 kB 38.9 MB/s eta 0:00:01\r\u001b[K     |███▍                            | 153 kB 38.9 MB/s eta 0:00:01\r\u001b[K     |███▋                            | 163 kB 38.9 MB/s eta 0:00:01\r\u001b[K     |███▉                            | 174 kB 38.9 MB/s eta 0:00:01\r\u001b[K     |████                            | 184 kB 38.9 MB/s eta 0:00:01\r\u001b[K     |████▎                           | 194 kB 38.9 MB/s eta 0:00:01\r\u001b[K     |████▌                           | 204 kB 38.9 MB/s eta 0:00:01\r\u001b[K     |████▊                           | 215 kB 38.9 MB/s eta 0:00:01\r\u001b[K     |█████                           | 225 kB 38.9 MB/s eta 0:00:01\r\u001b[K     |█████▏                          | 235 kB 38.9 MB/s eta 0:00:01\r\u001b[K     |█████▍                          | 245 kB 38.9 MB/s eta 0:00:01\r\u001b[K     |█████▋                          | 256 kB 38.9 MB/s eta 0:00:01\r\u001b[K     |█████▉                          | 266 kB 38.9 MB/s eta 0:00:01\r\u001b[K     |██████                          | 276 kB 38.9 MB/s eta 0:00:01\r\u001b[K     |██████▎                         | 286 kB 38.9 MB/s eta 0:00:01\r\u001b[K     |██████▌                         | 296 kB 38.9 MB/s eta 0:00:01\r\u001b[K     |██████▊                         | 307 kB 38.9 MB/s eta 0:00:01\r\u001b[K     |███████                         | 317 kB 38.9 MB/s eta 0:00:01\r\u001b[K     |███████▏                        | 327 kB 38.9 MB/s eta 0:00:01\r\u001b[K     |███████▍                        | 337 kB 38.9 MB/s eta 0:00:01\r\u001b[K     |███████▊                        | 348 kB 38.9 MB/s eta 0:00:01\r\u001b[K     |████████                        | 358 kB 38.9 MB/s eta 0:00:01\r\u001b[K     |████████▏                       | 368 kB 38.9 MB/s eta 0:00:01\r\u001b[K     |████████▍                       | 378 kB 38.9 MB/s eta 0:00:01\r\u001b[K     |████████▋                       | 389 kB 38.9 MB/s eta 0:00:01\r\u001b[K     |████████▉                       | 399 kB 38.9 MB/s eta 0:00:01\r\u001b[K     |█████████                       | 409 kB 38.9 MB/s eta 0:00:01\r\u001b[K     |█████████▎                      | 419 kB 38.9 MB/s eta 0:00:01\r\u001b[K     |█████████▌                      | 430 kB 38.9 MB/s eta 0:00:01\r\u001b[K     |█████████▊                      | 440 kB 38.9 MB/s eta 0:00:01\r\u001b[K     |██████████                      | 450 kB 38.9 MB/s eta 0:00:01\r\u001b[K     |██████████▏                     | 460 kB 38.9 MB/s eta 0:00:01\r\u001b[K     |██████████▍                     | 471 kB 38.9 MB/s eta 0:00:01\r\u001b[K     |██████████▋                     | 481 kB 38.9 MB/s eta 0:00:01\r\u001b[K     |██████████▉                     | 491 kB 38.9 MB/s eta 0:00:01\r\u001b[K     |███████████                     | 501 kB 38.9 MB/s eta 0:00:01\r\u001b[K     |███████████▎                    | 512 kB 38.9 MB/s eta 0:00:01\r\u001b[K     |███████████▌                    | 522 kB 38.9 MB/s eta 0:00:01\r\u001b[K     |███████████▊                    | 532 kB 38.9 MB/s eta 0:00:01\r\u001b[K     |████████████                    | 542 kB 38.9 MB/s eta 0:00:01\r\u001b[K     |████████████▏                   | 552 kB 38.9 MB/s eta 0:00:01\r\u001b[K     |████████████▍                   | 563 kB 38.9 MB/s eta 0:00:01\r\u001b[K     |████████████▋                   | 573 kB 38.9 MB/s eta 0:00:01\r\u001b[K     |████████████▉                   | 583 kB 38.9 MB/s eta 0:00:01\r\u001b[K     |█████████████                   | 593 kB 38.9 MB/s eta 0:00:01\r\u001b[K     |█████████████▎                  | 604 kB 38.9 MB/s eta 0:00:01\r\u001b[K     |█████████████▌                  | 614 kB 38.9 MB/s eta 0:00:01\r\u001b[K     |█████████████▊                  | 624 kB 38.9 MB/s eta 0:00:01\r\u001b[K     |██████████████                  | 634 kB 38.9 MB/s eta 0:00:01\r\u001b[K     |██████████████▏                 | 645 kB 38.9 MB/s eta 0:00:01\r\u001b[K     |██████████████▍                 | 655 kB 38.9 MB/s eta 0:00:01\r\u001b[K     |██████████████▋                 | 665 kB 38.9 MB/s eta 0:00:01\r\u001b[K     |██████████████▉                 | 675 kB 38.9 MB/s eta 0:00:01\r\u001b[K     |███████████████▏                | 686 kB 38.9 MB/s eta 0:00:01\r\u001b[K     |███████████████▍                | 696 kB 38.9 MB/s eta 0:00:01\r\u001b[K     |███████████████▋                | 706 kB 38.9 MB/s eta 0:00:01\r\u001b[K     |███████████████▉                | 716 kB 38.9 MB/s eta 0:00:01\r\u001b[K     |████████████████                | 727 kB 38.9 MB/s eta 0:00:01\r\u001b[K     |████████████████▎               | 737 kB 38.9 MB/s eta 0:00:01\r\u001b[K     |████████████████▌               | 747 kB 38.9 MB/s eta 0:00:01\r\u001b[K     |████████████████▊               | 757 kB 38.9 MB/s eta 0:00:01\r\u001b[K     |█████████████████               | 768 kB 38.9 MB/s eta 0:00:01\r\u001b[K     |█████████████████▏              | 778 kB 38.9 MB/s eta 0:00:01\r\u001b[K     |█████████████████▍              | 788 kB 38.9 MB/s eta 0:00:01\r\u001b[K     |█████████████████▋              | 798 kB 38.9 MB/s eta 0:00:01\r\u001b[K     |█████████████████▉              | 808 kB 38.9 MB/s eta 0:00:01\r\u001b[K     |██████████████████              | 819 kB 38.9 MB/s eta 0:00:01\r\u001b[K     |██████████████████▎             | 829 kB 38.9 MB/s eta 0:00:01\r\u001b[K     |██████████████████▌             | 839 kB 38.9 MB/s eta 0:00:01\r\u001b[K     |██████████████████▊             | 849 kB 38.9 MB/s eta 0:00:01\r\u001b[K     |███████████████████             | 860 kB 38.9 MB/s eta 0:00:01\r\u001b[K     |███████████████████▏            | 870 kB 38.9 MB/s eta 0:00:01\r\u001b[K     |███████████████████▍            | 880 kB 38.9 MB/s eta 0:00:01\r\u001b[K     |███████████████████▋            | 890 kB 38.9 MB/s eta 0:00:01\r\u001b[K     |███████████████████▉            | 901 kB 38.9 MB/s eta 0:00:01\r\u001b[K     |████████████████████            | 911 kB 38.9 MB/s eta 0:00:01\r\u001b[K     |████████████████████▎           | 921 kB 38.9 MB/s eta 0:00:01\r\u001b[K     |████████████████████▌           | 931 kB 38.9 MB/s eta 0:00:01\r\u001b[K     |████████████████████▊           | 942 kB 38.9 MB/s eta 0:00:01\r\u001b[K     |█████████████████████           | 952 kB 38.9 MB/s eta 0:00:01\r\u001b[K     |█████████████████████▏          | 962 kB 38.9 MB/s eta 0:00:01\r\u001b[K     |█████████████████████▍          | 972 kB 38.9 MB/s eta 0:00:01\r\u001b[K     |█████████████████████▋          | 983 kB 38.9 MB/s eta 0:00:01\r\u001b[K     |█████████████████████▉          | 993 kB 38.9 MB/s eta 0:00:01\r\u001b[K     |██████████████████████          | 1.0 MB 38.9 MB/s eta 0:00:01\r\u001b[K     |██████████████████████▎         | 1.0 MB 38.9 MB/s eta 0:00:01\r\u001b[K     |██████████████████████▌         | 1.0 MB 38.9 MB/s eta 0:00:01\r\u001b[K     |██████████████████████▉         | 1.0 MB 38.9 MB/s eta 0:00:01\r\u001b[K     |███████████████████████         | 1.0 MB 38.9 MB/s eta 0:00:01\r\u001b[K     |███████████████████████▎        | 1.1 MB 38.9 MB/s eta 0:00:01\r\u001b[K     |███████████████████████▌        | 1.1 MB 38.9 MB/s eta 0:00:01\r\u001b[K     |███████████████████████▊        | 1.1 MB 38.9 MB/s eta 0:00:01\r\u001b[K     |████████████████████████        | 1.1 MB 38.9 MB/s eta 0:00:01\r\u001b[K     |████████████████████████▏       | 1.1 MB 38.9 MB/s eta 0:00:01\r\u001b[K     |████████████████████████▍       | 1.1 MB 38.9 MB/s eta 0:00:01\r\u001b[K     |████████████████████████▋       | 1.1 MB 38.9 MB/s eta 0:00:01\r\u001b[K     |████████████████████████▉       | 1.1 MB 38.9 MB/s eta 0:00:01\r\u001b[K     |█████████████████████████       | 1.1 MB 38.9 MB/s eta 0:00:01\r\u001b[K     |█████████████████████████▎      | 1.1 MB 38.9 MB/s eta 0:00:01\r\u001b[K     |█████████████████████████▌      | 1.2 MB 38.9 MB/s eta 0:00:01\r\u001b[K     |█████████████████████████▊      | 1.2 MB 38.9 MB/s eta 0:00:01\r\u001b[K     |██████████████████████████      | 1.2 MB 38.9 MB/s eta 0:00:01\r\u001b[K     |██████████████████████████▏     | 1.2 MB 38.9 MB/s eta 0:00:01\r\u001b[K     |██████████████████████████▍     | 1.2 MB 38.9 MB/s eta 0:00:01\r\u001b[K     |██████████████████████████▋     | 1.2 MB 38.9 MB/s eta 0:00:01\r\u001b[K     |██████████████████████████▉     | 1.2 MB 38.9 MB/s eta 0:00:01\r\u001b[K     |███████████████████████████     | 1.2 MB 38.9 MB/s eta 0:00:01\r\u001b[K     |███████████████████████████▎    | 1.2 MB 38.9 MB/s eta 0:00:01\r\u001b[K     |███████████████████████████▌    | 1.2 MB 38.9 MB/s eta 0:00:01\r\u001b[K     |███████████████████████████▊    | 1.3 MB 38.9 MB/s eta 0:00:01\r\u001b[K     |████████████████████████████    | 1.3 MB 38.9 MB/s eta 0:00:01\r\u001b[K     |████████████████████████████▏   | 1.3 MB 38.9 MB/s eta 0:00:01\r\u001b[K     |████████████████████████████▍   | 1.3 MB 38.9 MB/s eta 0:00:01\r\u001b[K     |████████████████████████████▋   | 1.3 MB 38.9 MB/s eta 0:00:01\r\u001b[K     |████████████████████████████▉   | 1.3 MB 38.9 MB/s eta 0:00:01\r\u001b[K     |█████████████████████████████   | 1.3 MB 38.9 MB/s eta 0:00:01\r\u001b[K     |█████████████████████████████▎  | 1.3 MB 38.9 MB/s eta 0:00:01\r\u001b[K     |█████████████████████████████▌  | 1.3 MB 38.9 MB/s eta 0:00:01\r\u001b[K     |█████████████████████████████▊  | 1.4 MB 38.9 MB/s eta 0:00:01\r\u001b[K     |██████████████████████████████  | 1.4 MB 38.9 MB/s eta 0:00:01\r\u001b[K     |██████████████████████████████▎ | 1.4 MB 38.9 MB/s eta 0:00:01\r\u001b[K     |██████████████████████████████▌ | 1.4 MB 38.9 MB/s eta 0:00:01\r\u001b[K     |██████████████████████████████▊ | 1.4 MB 38.9 MB/s eta 0:00:01\r\u001b[K     |███████████████████████████████ | 1.4 MB 38.9 MB/s eta 0:00:01\r\u001b[K     |███████████████████████████████▏| 1.4 MB 38.9 MB/s eta 0:00:01\r\u001b[K     |███████████████████████████████▍| 1.4 MB 38.9 MB/s eta 0:00:01\r\u001b[K     |███████████████████████████████▋| 1.4 MB 38.9 MB/s eta 0:00:01\r\u001b[K     |███████████████████████████████▉| 1.4 MB 38.9 MB/s eta 0:00:01\r\u001b[K     |████████████████████████████████| 1.5 MB 38.9 MB/s \n",
            "\u001b[?25hRequirement already satisfied: wordcloud>=1.5.0 in /usr/local/lib/python3.7/dist-packages (from texthero) (1.5.0)\n",
            "Requirement already satisfied: pandas>=1.0.2 in /usr/local/lib/python3.7/dist-packages (from texthero) (1.1.5)\n",
            "Requirement already satisfied: spacy<3.0.0 in /usr/local/lib/python3.7/dist-packages (from texthero) (2.2.4)\n",
            "Requirement already satisfied: gensim<4.0,>=3.6.0 in /usr/local/lib/python3.7/dist-packages (from texthero) (3.6.0)\n",
            "Requirement already satisfied: scikit-learn>=0.22 in /usr/local/lib/python3.7/dist-packages (from texthero) (0.22.2.post1)\n",
            "Requirement already satisfied: tqdm>=4.3 in /usr/local/lib/python3.7/dist-packages (from texthero) (4.41.1)\n",
            "Collecting unidecode>=1.1.1\n",
            "  Downloading Unidecode-1.2.0-py2.py3-none-any.whl (241 kB)\n",
            "\u001b[K     |████████████████████████████████| 241 kB 62.8 MB/s \n",
            "\u001b[?25hRequirement already satisfied: matplotlib>=3.1.0 in /usr/local/lib/python3.7/dist-packages (from texthero) (3.2.2)\n",
            "Requirement already satisfied: six>=1.5.0 in /usr/local/lib/python3.7/dist-packages (from gensim<4.0,>=3.6.0->texthero) (1.15.0)\n",
            "Requirement already satisfied: scipy>=0.18.1 in /usr/local/lib/python3.7/dist-packages (from gensim<4.0,>=3.6.0->texthero) (1.4.1)\n",
            "Requirement already satisfied: smart-open>=1.2.1 in /usr/local/lib/python3.7/dist-packages (from gensim<4.0,>=3.6.0->texthero) (5.1.0)\n",
            "Requirement already satisfied: cycler>=0.10 in /usr/local/lib/python3.7/dist-packages (from matplotlib>=3.1.0->texthero) (0.10.0)\n",
            "Requirement already satisfied: pyparsing!=2.0.4,!=2.1.2,!=2.1.6,>=2.0.1 in /usr/local/lib/python3.7/dist-packages (from matplotlib>=3.1.0->texthero) (2.4.7)\n",
            "Requirement already satisfied: python-dateutil>=2.1 in /usr/local/lib/python3.7/dist-packages (from matplotlib>=3.1.0->texthero) (2.8.1)\n",
            "Requirement already satisfied: kiwisolver>=1.0.1 in /usr/local/lib/python3.7/dist-packages (from matplotlib>=3.1.0->texthero) (1.3.1)\n",
            "Requirement already satisfied: click in /usr/local/lib/python3.7/dist-packages (from nltk>=3.3->texthero) (7.1.2)\n",
            "Requirement already satisfied: joblib in /usr/local/lib/python3.7/dist-packages (from nltk>=3.3->texthero) (1.0.1)\n",
            "Requirement already satisfied: regex in /usr/local/lib/python3.7/dist-packages (from nltk>=3.3->texthero) (2019.12.20)\n",
            "Requirement already satisfied: pytz>=2017.2 in /usr/local/lib/python3.7/dist-packages (from pandas>=1.0.2->texthero) (2018.9)\n",
            "Requirement already satisfied: retrying>=1.3.3 in /usr/local/lib/python3.7/dist-packages (from plotly>=4.2.0->texthero) (1.3.3)\n",
            "Requirement already satisfied: wasabi<1.1.0,>=0.4.0 in /usr/local/lib/python3.7/dist-packages (from spacy<3.0.0->texthero) (0.8.2)\n",
            "Requirement already satisfied: plac<1.2.0,>=0.9.6 in /usr/local/lib/python3.7/dist-packages (from spacy<3.0.0->texthero) (1.1.3)\n",
            "Requirement already satisfied: catalogue<1.1.0,>=0.0.7 in /usr/local/lib/python3.7/dist-packages (from spacy<3.0.0->texthero) (1.0.0)\n",
            "Requirement already satisfied: requests<3.0.0,>=2.13.0 in /usr/local/lib/python3.7/dist-packages (from spacy<3.0.0->texthero) (2.23.0)\n",
            "Requirement already satisfied: setuptools in /usr/local/lib/python3.7/dist-packages (from spacy<3.0.0->texthero) (57.2.0)\n",
            "Requirement already satisfied: preshed<3.1.0,>=3.0.2 in /usr/local/lib/python3.7/dist-packages (from spacy<3.0.0->texthero) (3.0.5)\n",
            "Requirement already satisfied: murmurhash<1.1.0,>=0.28.0 in /usr/local/lib/python3.7/dist-packages (from spacy<3.0.0->texthero) (1.0.5)\n",
            "Requirement already satisfied: cymem<2.1.0,>=2.0.2 in /usr/local/lib/python3.7/dist-packages (from spacy<3.0.0->texthero) (2.0.5)\n",
            "Requirement already satisfied: blis<0.5.0,>=0.4.0 in /usr/local/lib/python3.7/dist-packages (from spacy<3.0.0->texthero) (0.4.1)\n",
            "Requirement already satisfied: srsly<1.1.0,>=1.0.2 in /usr/local/lib/python3.7/dist-packages (from spacy<3.0.0->texthero) (1.0.5)\n",
            "Requirement already satisfied: thinc==7.4.0 in /usr/local/lib/python3.7/dist-packages (from spacy<3.0.0->texthero) (7.4.0)\n",
            "Requirement already satisfied: importlib-metadata>=0.20 in /usr/local/lib/python3.7/dist-packages (from catalogue<1.1.0,>=0.0.7->spacy<3.0.0->texthero) (4.6.1)\n",
            "Requirement already satisfied: zipp>=0.5 in /usr/local/lib/python3.7/dist-packages (from importlib-metadata>=0.20->catalogue<1.1.0,>=0.0.7->spacy<3.0.0->texthero) (3.5.0)\n",
            "Requirement already satisfied: typing-extensions>=3.6.4 in /usr/local/lib/python3.7/dist-packages (from importlib-metadata>=0.20->catalogue<1.1.0,>=0.0.7->spacy<3.0.0->texthero) (3.7.4.3)\n",
            "Requirement already satisfied: certifi>=2017.4.17 in /usr/local/lib/python3.7/dist-packages (from requests<3.0.0,>=2.13.0->spacy<3.0.0->texthero) (2021.5.30)\n",
            "Requirement already satisfied: urllib3!=1.25.0,!=1.25.1,<1.26,>=1.21.1 in /usr/local/lib/python3.7/dist-packages (from requests<3.0.0,>=2.13.0->spacy<3.0.0->texthero) (1.24.3)\n",
            "Requirement already satisfied: idna<3,>=2.5 in /usr/local/lib/python3.7/dist-packages (from requests<3.0.0,>=2.13.0->spacy<3.0.0->texthero) (2.10)\n",
            "Requirement already satisfied: chardet<4,>=3.0.2 in /usr/local/lib/python3.7/dist-packages (from requests<3.0.0,>=2.13.0->spacy<3.0.0->texthero) (3.0.4)\n",
            "Requirement already satisfied: pillow in /usr/local/lib/python3.7/dist-packages (from wordcloud>=1.5.0->texthero) (7.1.2)\n",
            "Installing collected packages: unidecode, nltk, texthero\n",
            "  Attempting uninstall: nltk\n",
            "    Found existing installation: nltk 3.2.5\n",
            "    Uninstalling nltk-3.2.5:\n",
            "      Successfully uninstalled nltk-3.2.5\n",
            "Successfully installed nltk-3.6.2 texthero-1.1.0 unidecode-1.2.0\n"
          ],
          "name": "stdout"
        }
      ]
    },
    {
      "cell_type": "code",
      "metadata": {
        "colab": {
          "base_uri": "https://localhost:8080/"
        },
        "id": "0orqy3mAn2O9",
        "outputId": "c78b3e07-9b3c-4c87-e24a-1dcc85e9c838"
      },
      "source": [
        "pip install transformers"
      ],
      "execution_count": null,
      "outputs": [
        {
          "output_type": "stream",
          "text": [
            "Collecting transformers\n",
            "  Downloading transformers-4.9.1-py3-none-any.whl (2.6 MB)\n",
            "\u001b[K     |████████████████████████████████| 2.6 MB 40.6 MB/s \n",
            "\u001b[?25hCollecting huggingface-hub==0.0.12\n",
            "  Downloading huggingface_hub-0.0.12-py3-none-any.whl (37 kB)\n",
            "Requirement already satisfied: packaging in /usr/local/lib/python3.7/dist-packages (from transformers) (21.0)\n",
            "Requirement already satisfied: tqdm>=4.27 in /usr/local/lib/python3.7/dist-packages (from transformers) (4.41.1)\n",
            "Requirement already satisfied: filelock in /usr/local/lib/python3.7/dist-packages (from transformers) (3.0.12)\n",
            "Requirement already satisfied: numpy>=1.17 in /usr/local/lib/python3.7/dist-packages (from transformers) (1.19.5)\n",
            "Collecting sacremoses\n",
            "  Downloading sacremoses-0.0.45-py3-none-any.whl (895 kB)\n",
            "\u001b[K     |████████████████████████████████| 895 kB 66.5 MB/s \n",
            "\u001b[?25hRequirement already satisfied: importlib-metadata in /usr/local/lib/python3.7/dist-packages (from transformers) (4.6.1)\n",
            "Requirement already satisfied: requests in /usr/local/lib/python3.7/dist-packages (from transformers) (2.23.0)\n",
            "Collecting tokenizers<0.11,>=0.10.1\n",
            "  Downloading tokenizers-0.10.3-cp37-cp37m-manylinux_2_5_x86_64.manylinux1_x86_64.manylinux_2_12_x86_64.manylinux2010_x86_64.whl (3.3 MB)\n",
            "\u001b[K     |████████████████████████████████| 3.3 MB 45.8 MB/s \n",
            "\u001b[?25hRequirement already satisfied: regex!=2019.12.17 in /usr/local/lib/python3.7/dist-packages (from transformers) (2019.12.20)\n",
            "Collecting pyyaml>=5.1\n",
            "  Downloading PyYAML-5.4.1-cp37-cp37m-manylinux1_x86_64.whl (636 kB)\n",
            "\u001b[K     |████████████████████████████████| 636 kB 58.1 MB/s \n",
            "\u001b[?25hRequirement already satisfied: typing-extensions in /usr/local/lib/python3.7/dist-packages (from huggingface-hub==0.0.12->transformers) (3.7.4.3)\n",
            "Requirement already satisfied: pyparsing>=2.0.2 in /usr/local/lib/python3.7/dist-packages (from packaging->transformers) (2.4.7)\n",
            "Requirement already satisfied: zipp>=0.5 in /usr/local/lib/python3.7/dist-packages (from importlib-metadata->transformers) (3.5.0)\n",
            "Requirement already satisfied: certifi>=2017.4.17 in /usr/local/lib/python3.7/dist-packages (from requests->transformers) (2021.5.30)\n",
            "Requirement already satisfied: idna<3,>=2.5 in /usr/local/lib/python3.7/dist-packages (from requests->transformers) (2.10)\n",
            "Requirement already satisfied: chardet<4,>=3.0.2 in /usr/local/lib/python3.7/dist-packages (from requests->transformers) (3.0.4)\n",
            "Requirement already satisfied: urllib3!=1.25.0,!=1.25.1,<1.26,>=1.21.1 in /usr/local/lib/python3.7/dist-packages (from requests->transformers) (1.24.3)\n",
            "Requirement already satisfied: six in /usr/local/lib/python3.7/dist-packages (from sacremoses->transformers) (1.15.0)\n",
            "Requirement already satisfied: joblib in /usr/local/lib/python3.7/dist-packages (from sacremoses->transformers) (1.0.1)\n",
            "Requirement already satisfied: click in /usr/local/lib/python3.7/dist-packages (from sacremoses->transformers) (7.1.2)\n",
            "Installing collected packages: tokenizers, sacremoses, pyyaml, huggingface-hub, transformers\n",
            "  Attempting uninstall: pyyaml\n",
            "    Found existing installation: PyYAML 3.13\n",
            "    Uninstalling PyYAML-3.13:\n",
            "      Successfully uninstalled PyYAML-3.13\n",
            "Successfully installed huggingface-hub-0.0.12 pyyaml-5.4.1 sacremoses-0.0.45 tokenizers-0.10.3 transformers-4.9.1\n"
          ],
          "name": "stdout"
        }
      ]
    },
    {
      "cell_type": "code",
      "metadata": {
        "colab": {
          "base_uri": "https://localhost:8080/"
        },
        "id": "s0BWkq5hn9UC",
        "outputId": "870e4b28-3cab-4254-cac2-45ae47eb2f56"
      },
      "source": [
        "pip install sentencepiece"
      ],
      "execution_count": null,
      "outputs": [
        {
          "output_type": "stream",
          "text": [
            "Collecting sentencepiece\n",
            "  Downloading sentencepiece-0.1.96-cp37-cp37m-manylinux_2_17_x86_64.manylinux2014_x86_64.whl (1.2 MB)\n",
            "\u001b[?25l\r\u001b[K     |▎                               | 10 kB 24.7 MB/s eta 0:00:01\r\u001b[K     |▌                               | 20 kB 27.3 MB/s eta 0:00:01\r\u001b[K     |▉                               | 30 kB 30.3 MB/s eta 0:00:01\r\u001b[K     |█                               | 40 kB 30.8 MB/s eta 0:00:01\r\u001b[K     |█▍                              | 51 kB 31.3 MB/s eta 0:00:01\r\u001b[K     |█▋                              | 61 kB 32.2 MB/s eta 0:00:01\r\u001b[K     |██                              | 71 kB 32.2 MB/s eta 0:00:01\r\u001b[K     |██▏                             | 81 kB 32.7 MB/s eta 0:00:01\r\u001b[K     |██▍                             | 92 kB 33.7 MB/s eta 0:00:01\r\u001b[K     |██▊                             | 102 kB 30.2 MB/s eta 0:00:01\r\u001b[K     |███                             | 112 kB 30.2 MB/s eta 0:00:01\r\u001b[K     |███▎                            | 122 kB 30.2 MB/s eta 0:00:01\r\u001b[K     |███▌                            | 133 kB 30.2 MB/s eta 0:00:01\r\u001b[K     |███▉                            | 143 kB 30.2 MB/s eta 0:00:01\r\u001b[K     |████                            | 153 kB 30.2 MB/s eta 0:00:01\r\u001b[K     |████▎                           | 163 kB 30.2 MB/s eta 0:00:01\r\u001b[K     |████▋                           | 174 kB 30.2 MB/s eta 0:00:01\r\u001b[K     |████▉                           | 184 kB 30.2 MB/s eta 0:00:01\r\u001b[K     |█████▏                          | 194 kB 30.2 MB/s eta 0:00:01\r\u001b[K     |█████▍                          | 204 kB 30.2 MB/s eta 0:00:01\r\u001b[K     |█████▊                          | 215 kB 30.2 MB/s eta 0:00:01\r\u001b[K     |██████                          | 225 kB 30.2 MB/s eta 0:00:01\r\u001b[K     |██████▏                         | 235 kB 30.2 MB/s eta 0:00:01\r\u001b[K     |██████▌                         | 245 kB 30.2 MB/s eta 0:00:01\r\u001b[K     |██████▊                         | 256 kB 30.2 MB/s eta 0:00:01\r\u001b[K     |███████                         | 266 kB 30.2 MB/s eta 0:00:01\r\u001b[K     |███████▎                        | 276 kB 30.2 MB/s eta 0:00:01\r\u001b[K     |███████▋                        | 286 kB 30.2 MB/s eta 0:00:01\r\u001b[K     |███████▉                        | 296 kB 30.2 MB/s eta 0:00:01\r\u001b[K     |████████                        | 307 kB 30.2 MB/s eta 0:00:01\r\u001b[K     |████████▍                       | 317 kB 30.2 MB/s eta 0:00:01\r\u001b[K     |████████▋                       | 327 kB 30.2 MB/s eta 0:00:01\r\u001b[K     |█████████                       | 337 kB 30.2 MB/s eta 0:00:01\r\u001b[K     |█████████▏                      | 348 kB 30.2 MB/s eta 0:00:01\r\u001b[K     |█████████▌                      | 358 kB 30.2 MB/s eta 0:00:01\r\u001b[K     |█████████▊                      | 368 kB 30.2 MB/s eta 0:00:01\r\u001b[K     |██████████                      | 378 kB 30.2 MB/s eta 0:00:01\r\u001b[K     |██████████▎                     | 389 kB 30.2 MB/s eta 0:00:01\r\u001b[K     |██████████▌                     | 399 kB 30.2 MB/s eta 0:00:01\r\u001b[K     |██████████▉                     | 409 kB 30.2 MB/s eta 0:00:01\r\u001b[K     |███████████                     | 419 kB 30.2 MB/s eta 0:00:01\r\u001b[K     |███████████▍                    | 430 kB 30.2 MB/s eta 0:00:01\r\u001b[K     |███████████▋                    | 440 kB 30.2 MB/s eta 0:00:01\r\u001b[K     |███████████▉                    | 450 kB 30.2 MB/s eta 0:00:01\r\u001b[K     |████████████▏                   | 460 kB 30.2 MB/s eta 0:00:01\r\u001b[K     |████████████▍                   | 471 kB 30.2 MB/s eta 0:00:01\r\u001b[K     |████████████▊                   | 481 kB 30.2 MB/s eta 0:00:01\r\u001b[K     |█████████████                   | 491 kB 30.2 MB/s eta 0:00:01\r\u001b[K     |█████████████▎                  | 501 kB 30.2 MB/s eta 0:00:01\r\u001b[K     |█████████████▌                  | 512 kB 30.2 MB/s eta 0:00:01\r\u001b[K     |█████████████▊                  | 522 kB 30.2 MB/s eta 0:00:01\r\u001b[K     |██████████████                  | 532 kB 30.2 MB/s eta 0:00:01\r\u001b[K     |██████████████▎                 | 542 kB 30.2 MB/s eta 0:00:01\r\u001b[K     |██████████████▋                 | 552 kB 30.2 MB/s eta 0:00:01\r\u001b[K     |██████████████▉                 | 563 kB 30.2 MB/s eta 0:00:01\r\u001b[K     |███████████████▏                | 573 kB 30.2 MB/s eta 0:00:01\r\u001b[K     |███████████████▍                | 583 kB 30.2 MB/s eta 0:00:01\r\u001b[K     |███████████████▋                | 593 kB 30.2 MB/s eta 0:00:01\r\u001b[K     |████████████████                | 604 kB 30.2 MB/s eta 0:00:01\r\u001b[K     |████████████████▏               | 614 kB 30.2 MB/s eta 0:00:01\r\u001b[K     |████████████████▌               | 624 kB 30.2 MB/s eta 0:00:01\r\u001b[K     |████████████████▊               | 634 kB 30.2 MB/s eta 0:00:01\r\u001b[K     |█████████████████               | 645 kB 30.2 MB/s eta 0:00:01\r\u001b[K     |█████████████████▎              | 655 kB 30.2 MB/s eta 0:00:01\r\u001b[K     |█████████████████▌              | 665 kB 30.2 MB/s eta 0:00:01\r\u001b[K     |█████████████████▉              | 675 kB 30.2 MB/s eta 0:00:01\r\u001b[K     |██████████████████              | 686 kB 30.2 MB/s eta 0:00:01\r\u001b[K     |██████████████████▍             | 696 kB 30.2 MB/s eta 0:00:01\r\u001b[K     |██████████████████▋             | 706 kB 30.2 MB/s eta 0:00:01\r\u001b[K     |███████████████████             | 716 kB 30.2 MB/s eta 0:00:01\r\u001b[K     |███████████████████▏            | 727 kB 30.2 MB/s eta 0:00:01\r\u001b[K     |███████████████████▍            | 737 kB 30.2 MB/s eta 0:00:01\r\u001b[K     |███████████████████▊            | 747 kB 30.2 MB/s eta 0:00:01\r\u001b[K     |████████████████████            | 757 kB 30.2 MB/s eta 0:00:01\r\u001b[K     |████████████████████▎           | 768 kB 30.2 MB/s eta 0:00:01\r\u001b[K     |████████████████████▌           | 778 kB 30.2 MB/s eta 0:00:01\r\u001b[K     |████████████████████▉           | 788 kB 30.2 MB/s eta 0:00:01\r\u001b[K     |█████████████████████           | 798 kB 30.2 MB/s eta 0:00:01\r\u001b[K     |█████████████████████▎          | 808 kB 30.2 MB/s eta 0:00:01\r\u001b[K     |█████████████████████▋          | 819 kB 30.2 MB/s eta 0:00:01\r\u001b[K     |█████████████████████▉          | 829 kB 30.2 MB/s eta 0:00:01\r\u001b[K     |██████████████████████▏         | 839 kB 30.2 MB/s eta 0:00:01\r\u001b[K     |██████████████████████▍         | 849 kB 30.2 MB/s eta 0:00:01\r\u001b[K     |██████████████████████▊         | 860 kB 30.2 MB/s eta 0:00:01\r\u001b[K     |███████████████████████         | 870 kB 30.2 MB/s eta 0:00:01\r\u001b[K     |███████████████████████▏        | 880 kB 30.2 MB/s eta 0:00:01\r\u001b[K     |███████████████████████▌        | 890 kB 30.2 MB/s eta 0:00:01\r\u001b[K     |███████████████████████▊        | 901 kB 30.2 MB/s eta 0:00:01\r\u001b[K     |████████████████████████        | 911 kB 30.2 MB/s eta 0:00:01\r\u001b[K     |████████████████████████▎       | 921 kB 30.2 MB/s eta 0:00:01\r\u001b[K     |████████████████████████▋       | 931 kB 30.2 MB/s eta 0:00:01\r\u001b[K     |████████████████████████▉       | 942 kB 30.2 MB/s eta 0:00:01\r\u001b[K     |█████████████████████████       | 952 kB 30.2 MB/s eta 0:00:01\r\u001b[K     |█████████████████████████▍      | 962 kB 30.2 MB/s eta 0:00:01\r\u001b[K     |█████████████████████████▋      | 972 kB 30.2 MB/s eta 0:00:01\r\u001b[K     |██████████████████████████      | 983 kB 30.2 MB/s eta 0:00:01\r\u001b[K     |██████████████████████████▏     | 993 kB 30.2 MB/s eta 0:00:01\r\u001b[K     |██████████████████████████▌     | 1.0 MB 30.2 MB/s eta 0:00:01\r\u001b[K     |██████████████████████████▊     | 1.0 MB 30.2 MB/s eta 0:00:01\r\u001b[K     |███████████████████████████     | 1.0 MB 30.2 MB/s eta 0:00:01\r\u001b[K     |███████████████████████████▎    | 1.0 MB 30.2 MB/s eta 0:00:01\r\u001b[K     |███████████████████████████▌    | 1.0 MB 30.2 MB/s eta 0:00:01\r\u001b[K     |███████████████████████████▉    | 1.1 MB 30.2 MB/s eta 0:00:01\r\u001b[K     |████████████████████████████    | 1.1 MB 30.2 MB/s eta 0:00:01\r\u001b[K     |████████████████████████████▍   | 1.1 MB 30.2 MB/s eta 0:00:01\r\u001b[K     |████████████████████████████▋   | 1.1 MB 30.2 MB/s eta 0:00:01\r\u001b[K     |████████████████████████████▉   | 1.1 MB 30.2 MB/s eta 0:00:01\r\u001b[K     |█████████████████████████████▏  | 1.1 MB 30.2 MB/s eta 0:00:01\r\u001b[K     |█████████████████████████████▍  | 1.1 MB 30.2 MB/s eta 0:00:01\r\u001b[K     |█████████████████████████████▊  | 1.1 MB 30.2 MB/s eta 0:00:01\r\u001b[K     |██████████████████████████████  | 1.1 MB 30.2 MB/s eta 0:00:01\r\u001b[K     |██████████████████████████████▎ | 1.1 MB 30.2 MB/s eta 0:00:01\r\u001b[K     |██████████████████████████████▌ | 1.2 MB 30.2 MB/s eta 0:00:01\r\u001b[K     |██████████████████████████████▊ | 1.2 MB 30.2 MB/s eta 0:00:01\r\u001b[K     |███████████████████████████████ | 1.2 MB 30.2 MB/s eta 0:00:01\r\u001b[K     |███████████████████████████████▎| 1.2 MB 30.2 MB/s eta 0:00:01\r\u001b[K     |███████████████████████████████▋| 1.2 MB 30.2 MB/s eta 0:00:01\r\u001b[K     |███████████████████████████████▉| 1.2 MB 30.2 MB/s eta 0:00:01\r\u001b[K     |████████████████████████████████| 1.2 MB 30.2 MB/s \n",
            "\u001b[?25hInstalling collected packages: sentencepiece\n",
            "Successfully installed sentencepiece-0.1.96\n"
          ],
          "name": "stdout"
        }
      ]
    },
    {
      "cell_type": "code",
      "metadata": {
        "colab": {
          "base_uri": "https://localhost:8080/"
        },
        "id": "wMH2UJG0qYZq",
        "outputId": "b249b181-3d88-429f-96e9-6f6aa0472791"
      },
      "source": [
        "pip install bert-serving-client"
      ],
      "execution_count": null,
      "outputs": [
        {
          "output_type": "stream",
          "text": [
            "Collecting bert-serving-client\n",
            "  Downloading bert_serving_client-1.10.0-py2.py3-none-any.whl (28 kB)\n",
            "Requirement already satisfied: numpy in /usr/local/lib/python3.7/dist-packages (from bert-serving-client) (1.19.5)\n",
            "Requirement already satisfied: pyzmq>=17.1.0 in /usr/local/lib/python3.7/dist-packages (from bert-serving-client) (22.1.0)\n",
            "Installing collected packages: bert-serving-client\n",
            "Successfully installed bert-serving-client-1.10.0\n"
          ],
          "name": "stdout"
        }
      ]
    },
    {
      "cell_type": "code",
      "metadata": {
        "colab": {
          "base_uri": "https://localhost:8080/"
        },
        "id": "hr1dZXUUqZC2",
        "outputId": "8010a671-05cb-4581-dd13-1f5957d04ab8"
      },
      "source": [
        "pip install -U bert-serving-server[http]"
      ],
      "execution_count": null,
      "outputs": [
        {
          "output_type": "stream",
          "text": [
            "Collecting bert-serving-server[http]\n",
            "  Downloading bert_serving_server-1.10.0-py3-none-any.whl (61 kB)\n",
            "\u001b[?25l\r\u001b[K     |█████▎                          | 10 kB 29.8 MB/s eta 0:00:01\r\u001b[K     |██████████▋                     | 20 kB 34.0 MB/s eta 0:00:01\r\u001b[K     |████████████████                | 30 kB 37.6 MB/s eta 0:00:01\r\u001b[K     |█████████████████████▎          | 40 kB 38.9 MB/s eta 0:00:01\r\u001b[K     |██████████████████████████▋     | 51 kB 41.7 MB/s eta 0:00:01\r\u001b[K     |███████████████████████████████▉| 61 kB 37.9 MB/s eta 0:00:01\r\u001b[K     |████████████████████████████████| 61 kB 266 kB/s \n",
            "\u001b[?25hRequirement already satisfied: six in /usr/local/lib/python3.7/dist-packages (from bert-serving-server[http]) (1.15.0)\n",
            "Collecting GPUtil>=1.3.0\n",
            "  Downloading GPUtil-1.4.0.tar.gz (5.5 kB)\n",
            "Requirement already satisfied: pyzmq>=17.1.0 in /usr/local/lib/python3.7/dist-packages (from bert-serving-server[http]) (22.1.0)\n",
            "Requirement already satisfied: numpy in /usr/local/lib/python3.7/dist-packages (from bert-serving-server[http]) (1.19.5)\n",
            "Requirement already satisfied: termcolor>=1.1 in /usr/local/lib/python3.7/dist-packages (from bert-serving-server[http]) (1.1.0)\n",
            "Collecting flask-cors\n",
            "  Downloading Flask_Cors-3.0.10-py2.py3-none-any.whl (14 kB)\n",
            "Collecting flask-json\n",
            "  Downloading Flask_JSON-0.3.4-py3-none-any.whl (9.0 kB)\n",
            "Collecting flask-compress\n",
            "  Downloading Flask_Compress-1.10.1-py3-none-any.whl (7.9 kB)\n",
            "Requirement already satisfied: flask in /usr/local/lib/python3.7/dist-packages (from bert-serving-server[http]) (1.1.4)\n",
            "Requirement already satisfied: bert-serving-client in /usr/local/lib/python3.7/dist-packages (from bert-serving-server[http]) (1.10.0)\n",
            "Requirement already satisfied: click<8.0,>=5.1 in /usr/local/lib/python3.7/dist-packages (from flask->bert-serving-server[http]) (7.1.2)\n",
            "Requirement already satisfied: Jinja2<3.0,>=2.10.1 in /usr/local/lib/python3.7/dist-packages (from flask->bert-serving-server[http]) (2.11.3)\n",
            "Requirement already satisfied: Werkzeug<2.0,>=0.15 in /usr/local/lib/python3.7/dist-packages (from flask->bert-serving-server[http]) (1.0.1)\n",
            "Requirement already satisfied: itsdangerous<2.0,>=0.24 in /usr/local/lib/python3.7/dist-packages (from flask->bert-serving-server[http]) (1.1.0)\n",
            "Requirement already satisfied: MarkupSafe>=0.23 in /usr/local/lib/python3.7/dist-packages (from Jinja2<3.0,>=2.10.1->flask->bert-serving-server[http]) (2.0.1)\n",
            "Collecting brotli\n",
            "  Downloading Brotli-1.0.9-cp37-cp37m-manylinux1_x86_64.whl (357 kB)\n",
            "\u001b[K     |████████████████████████████████| 357 kB 19.2 MB/s \n",
            "\u001b[?25hBuilding wheels for collected packages: GPUtil\n",
            "  Building wheel for GPUtil (setup.py) ... \u001b[?25l\u001b[?25hdone\n",
            "  Created wheel for GPUtil: filename=GPUtil-1.4.0-py3-none-any.whl size=7410 sha256=a1fd02082cde237faa8cc8c793cf50bbe27ed6c58f0b90e122ca47f77f9ffc31\n",
            "  Stored in directory: /root/.cache/pip/wheels/6e/f8/83/534c52482d6da64622ddbf72cd93c35d2ef2881b78fd08ff0c\n",
            "Successfully built GPUtil\n",
            "Installing collected packages: GPUtil, brotli, flask-json, flask-cors, flask-compress, bert-serving-server\n",
            "Successfully installed GPUtil-1.4.0 bert-serving-server-1.10.0 brotli-1.0.9 flask-compress-1.10.1 flask-cors-3.0.10 flask-json-0.3.4\n"
          ],
          "name": "stdout"
        }
      ]
    },
    {
      "cell_type": "code",
      "metadata": {
        "colab": {
          "base_uri": "https://localhost:8080/"
        },
        "id": "6EfopOCpqbj7",
        "outputId": "18392705-e282-4354-f856-4d05ed95998c"
      },
      "source": [
        "#Download a model listed below, then uncompress the zip file into some folder, say /tmp/english_L-12_H-768_A-12/\n",
        "!wget https://storage.googleapis.com/bert_models/2018_10_18/uncased_L-12_H-768_A-12.zip"
      ],
      "execution_count": null,
      "outputs": [
        {
          "output_type": "stream",
          "text": [
            "--2021-07-29 19:18:16--  https://storage.googleapis.com/bert_models/2018_10_18/uncased_L-12_H-768_A-12.zip\n",
            "Resolving storage.googleapis.com (storage.googleapis.com)... 142.251.45.16, 142.250.73.208, 142.250.65.80, ...\n",
            "Connecting to storage.googleapis.com (storage.googleapis.com)|142.251.45.16|:443... connected.\n",
            "HTTP request sent, awaiting response... 200 OK\n",
            "Length: 407727028 (389M) [application/zip]\n",
            "Saving to: ‘uncased_L-12_H-768_A-12.zip’\n",
            "\n",
            "uncased_L-12_H-768_ 100%[===================>] 388.84M   166MB/s    in 2.3s    \n",
            "\n",
            "2021-07-29 19:18:18 (166 MB/s) - ‘uncased_L-12_H-768_A-12.zip’ saved [407727028/407727028]\n",
            "\n"
          ],
          "name": "stdout"
        }
      ]
    },
    {
      "cell_type": "code",
      "metadata": {
        "colab": {
          "base_uri": "https://localhost:8080/"
        },
        "id": "3jYrsRz2qhP9",
        "outputId": "f13fecea-bb8b-4fe4-bc0a-76dbc50db96d"
      },
      "source": [
        "!unzip uncased_L-12_H-768_A-12.zip"
      ],
      "execution_count": null,
      "outputs": [
        {
          "output_type": "stream",
          "text": [
            "Archive:  uncased_L-12_H-768_A-12.zip\n",
            "   creating: uncased_L-12_H-768_A-12/\n",
            "  inflating: uncased_L-12_H-768_A-12/bert_model.ckpt.meta  \n",
            "  inflating: uncased_L-12_H-768_A-12/bert_model.ckpt.data-00000-of-00001  \n",
            "  inflating: uncased_L-12_H-768_A-12/vocab.txt  \n",
            "  inflating: uncased_L-12_H-768_A-12/bert_model.ckpt.index  \n",
            "  inflating: uncased_L-12_H-768_A-12/bert_config.json  \n"
          ],
          "name": "stdout"
        }
      ]
    },
    {
      "cell_type": "code",
      "metadata": {
        "colab": {
          "base_uri": "https://localhost:8080/"
        },
        "id": "M_l7W-LKqjdJ",
        "outputId": "e06877fe-1cfc-497a-d420-99e5b556b679"
      },
      "source": [
        "%tensorflow_version 1.x"
      ],
      "execution_count": null,
      "outputs": [
        {
          "output_type": "stream",
          "text": [
            "TensorFlow 1.x selected.\n"
          ],
          "name": "stdout"
        }
      ]
    },
    {
      "cell_type": "code",
      "metadata": {
        "id": "SmBvN4Q3qmIn"
      },
      "source": [
        "!nohup bert-serving-start -model_dir=./uncased_L-12_H-768_A-12 > out.file 2>&1 -max_seq_len=512 &"
      ],
      "execution_count": null,
      "outputs": []
    },
    {
      "cell_type": "code",
      "metadata": {
        "id": "aNbM7umjqpht"
      },
      "source": [
        "from bert_serving.client import BertClient\n",
        "bc = BertClient()"
      ],
      "execution_count": null,
      "outputs": []
    },
    {
      "cell_type": "markdown",
      "metadata": {
        "id": "GcfnWD9tzmB6"
      },
      "source": [
        "## Install AllenNLP dependencies"
      ]
    },
    {
      "cell_type": "code",
      "metadata": {
        "colab": {
          "base_uri": "https://localhost:8080/"
        },
        "id": "ocHGSZn3xzgX",
        "outputId": "1dccc19d-69d3-48f1-bfcc-b0bdfcae0b4f"
      },
      "source": [
        "!pip install allennlp==1.0.0 allennlp-models==1.0.0"
      ],
      "execution_count": null,
      "outputs": [
        {
          "output_type": "stream",
          "text": [
            "Collecting allennlp==1.0.0\n",
            "  Downloading allennlp-1.0.0-py3-none-any.whl (473 kB)\n",
            "\u001b[K     |████████████████████████████████| 473 kB 29.1 MB/s \n",
            "\u001b[?25hCollecting allennlp-models==1.0.0\n",
            "  Downloading allennlp_models-1.0.0-py3-none-any.whl (282 kB)\n",
            "\u001b[K     |████████████████████████████████| 282 kB 67.0 MB/s \n",
            "\u001b[?25hCollecting transformers<2.12,>=2.9\n",
            "  Downloading transformers-2.11.0-py3-none-any.whl (674 kB)\n",
            "\u001b[K     |████████████████████████████████| 674 kB 67.6 MB/s \n",
            "\u001b[?25hCollecting jsonnet>=0.10.0\n",
            "  Downloading jsonnet-0.17.0.tar.gz (259 kB)\n",
            "\u001b[K     |████████████████████████████████| 259 kB 64.3 MB/s \n",
            "\u001b[?25hRequirement already satisfied: filelock<3.1,>=3.0 in /usr/local/lib/python3.7/dist-packages (from allennlp==1.0.0) (3.0.12)\n",
            "Requirement already satisfied: tqdm>=4.19 in /usr/local/lib/python3.7/dist-packages (from allennlp==1.0.0) (4.41.1)\n",
            "Collecting jsonpickle\n",
            "  Downloading jsonpickle-2.0.0-py2.py3-none-any.whl (37 kB)\n",
            "Collecting tensorboardX>=1.2\n",
            "  Downloading tensorboardX-2.4-py2.py3-none-any.whl (124 kB)\n",
            "\u001b[K     |████████████████████████████████| 124 kB 61.5 MB/s \n",
            "\u001b[?25hRequirement already satisfied: scipy in /usr/local/lib/python3.7/dist-packages (from allennlp==1.0.0) (1.4.1)\n",
            "Requirement already satisfied: spacy<2.3,>=2.1.0 in /usr/local/lib/python3.7/dist-packages (from allennlp==1.0.0) (2.2.4)\n",
            "Requirement already satisfied: h5py in /usr/local/lib/python3.7/dist-packages (from allennlp==1.0.0) (3.1.0)\n",
            "Requirement already satisfied: requests>=2.18 in /usr/local/lib/python3.7/dist-packages (from allennlp==1.0.0) (2.23.0)\n",
            "Requirement already satisfied: nltk in /usr/local/lib/python3.7/dist-packages (from allennlp==1.0.0) (3.6.2)\n",
            "Requirement already satisfied: numpy in /usr/local/lib/python3.7/dist-packages (from allennlp==1.0.0) (1.19.5)\n",
            "Requirement already satisfied: pytest in /usr/local/lib/python3.7/dist-packages (from allennlp==1.0.0) (3.6.4)\n",
            "Collecting boto3\n",
            "  Downloading boto3-1.18.10-py3-none-any.whl (131 kB)\n",
            "\u001b[K     |████████████████████████████████| 131 kB 68.0 MB/s \n",
            "\u001b[?25hCollecting overrides==3.0.0\n",
            "  Downloading overrides-3.0.0.tar.gz (4.5 kB)\n",
            "Collecting torch<1.6.0,>=1.5.0\n",
            "  Downloading torch-1.5.1-cp37-cp37m-manylinux1_x86_64.whl (753.2 MB)\n",
            "\u001b[K     |████████████████████████████████| 753.2 MB 14 kB/s \n",
            "\u001b[?25hRequirement already satisfied: scikit-learn in /usr/local/lib/python3.7/dist-packages (from allennlp==1.0.0) (0.22.2.post1)\n",
            "Collecting py-rouge==1.1\n",
            "  Downloading py_rouge-1.1-py3-none-any.whl (56 kB)\n",
            "\u001b[K     |████████████████████████████████| 56 kB 5.8 MB/s \n",
            "\u001b[?25hCollecting word2number>=1.1\n",
            "  Downloading word2number-1.1.zip (9.7 kB)\n",
            "Collecting conllu==3.0\n",
            "  Downloading conllu-3.0-py2.py3-none-any.whl (14 kB)\n",
            "Requirement already satisfied: certifi>=2017.4.17 in /usr/local/lib/python3.7/dist-packages (from requests>=2.18->allennlp==1.0.0) (2021.5.30)\n",
            "Requirement already satisfied: chardet<4,>=3.0.2 in /usr/local/lib/python3.7/dist-packages (from requests>=2.18->allennlp==1.0.0) (3.0.4)\n",
            "Requirement already satisfied: urllib3!=1.25.0,!=1.25.1,<1.26,>=1.21.1 in /usr/local/lib/python3.7/dist-packages (from requests>=2.18->allennlp==1.0.0) (1.24.3)\n",
            "Requirement already satisfied: idna<3,>=2.5 in /usr/local/lib/python3.7/dist-packages (from requests>=2.18->allennlp==1.0.0) (2.10)\n",
            "Requirement already satisfied: thinc==7.4.0 in /usr/local/lib/python3.7/dist-packages (from spacy<2.3,>=2.1.0->allennlp==1.0.0) (7.4.0)\n",
            "Requirement already satisfied: plac<1.2.0,>=0.9.6 in /usr/local/lib/python3.7/dist-packages (from spacy<2.3,>=2.1.0->allennlp==1.0.0) (1.1.3)\n",
            "Requirement already satisfied: catalogue<1.1.0,>=0.0.7 in /usr/local/lib/python3.7/dist-packages (from spacy<2.3,>=2.1.0->allennlp==1.0.0) (1.0.0)\n",
            "Requirement already satisfied: murmurhash<1.1.0,>=0.28.0 in /usr/local/lib/python3.7/dist-packages (from spacy<2.3,>=2.1.0->allennlp==1.0.0) (1.0.5)\n",
            "Requirement already satisfied: cymem<2.1.0,>=2.0.2 in /usr/local/lib/python3.7/dist-packages (from spacy<2.3,>=2.1.0->allennlp==1.0.0) (2.0.5)\n",
            "Requirement already satisfied: blis<0.5.0,>=0.4.0 in /usr/local/lib/python3.7/dist-packages (from spacy<2.3,>=2.1.0->allennlp==1.0.0) (0.4.1)\n",
            "Requirement already satisfied: srsly<1.1.0,>=1.0.2 in /usr/local/lib/python3.7/dist-packages (from spacy<2.3,>=2.1.0->allennlp==1.0.0) (1.0.5)\n",
            "Requirement already satisfied: wasabi<1.1.0,>=0.4.0 in /usr/local/lib/python3.7/dist-packages (from spacy<2.3,>=2.1.0->allennlp==1.0.0) (0.8.2)\n",
            "Requirement already satisfied: setuptools in /usr/local/lib/python3.7/dist-packages (from spacy<2.3,>=2.1.0->allennlp==1.0.0) (57.2.0)\n",
            "Requirement already satisfied: preshed<3.1.0,>=3.0.2 in /usr/local/lib/python3.7/dist-packages (from spacy<2.3,>=2.1.0->allennlp==1.0.0) (3.0.5)\n",
            "Requirement already satisfied: importlib-metadata>=0.20 in /usr/local/lib/python3.7/dist-packages (from catalogue<1.1.0,>=0.0.7->spacy<2.3,>=2.1.0->allennlp==1.0.0) (4.6.1)\n",
            "Requirement already satisfied: zipp>=0.5 in /usr/local/lib/python3.7/dist-packages (from importlib-metadata>=0.20->catalogue<1.1.0,>=0.0.7->spacy<2.3,>=2.1.0->allennlp==1.0.0) (3.5.0)\n",
            "Requirement already satisfied: typing-extensions>=3.6.4 in /usr/local/lib/python3.7/dist-packages (from importlib-metadata>=0.20->catalogue<1.1.0,>=0.0.7->spacy<2.3,>=2.1.0->allennlp==1.0.0) (3.7.4.3)\n",
            "Requirement already satisfied: protobuf>=3.8.0 in /usr/local/lib/python3.7/dist-packages (from tensorboardX>=1.2->allennlp==1.0.0) (3.17.3)\n",
            "Requirement already satisfied: six>=1.9 in /usr/local/lib/python3.7/dist-packages (from protobuf>=3.8.0->tensorboardX>=1.2->allennlp==1.0.0) (1.15.0)\n",
            "Requirement already satisfied: future in /usr/local/lib/python3.7/dist-packages (from torch<1.6.0,>=1.5.0->allennlp==1.0.0) (0.16.0)\n",
            "Requirement already satisfied: sacremoses in /usr/local/lib/python3.7/dist-packages (from transformers<2.12,>=2.9->allennlp==1.0.0) (0.0.45)\n",
            "Requirement already satisfied: packaging in /usr/local/lib/python3.7/dist-packages (from transformers<2.12,>=2.9->allennlp==1.0.0) (21.0)\n",
            "Requirement already satisfied: regex!=2019.12.17 in /usr/local/lib/python3.7/dist-packages (from transformers<2.12,>=2.9->allennlp==1.0.0) (2019.12.20)\n",
            "Requirement already satisfied: sentencepiece in /usr/local/lib/python3.7/dist-packages (from transformers<2.12,>=2.9->allennlp==1.0.0) (0.1.96)\n",
            "Collecting tokenizers==0.7.0\n",
            "  Downloading tokenizers-0.7.0-cp37-cp37m-manylinux1_x86_64.whl (5.6 MB)\n",
            "\u001b[K     |████████████████████████████████| 5.6 MB 25.5 MB/s \n",
            "\u001b[?25hCollecting s3transfer<0.6.0,>=0.5.0\n",
            "  Downloading s3transfer-0.5.0-py3-none-any.whl (79 kB)\n",
            "\u001b[K     |████████████████████████████████| 79 kB 9.1 MB/s \n",
            "\u001b[?25hCollecting jmespath<1.0.0,>=0.7.1\n",
            "  Downloading jmespath-0.10.0-py2.py3-none-any.whl (24 kB)\n",
            "Collecting botocore<1.22.0,>=1.21.10\n",
            "  Downloading botocore-1.21.10-py3-none-any.whl (7.8 MB)\n",
            "\u001b[K     |████████████████████████████████| 7.8 MB 69.6 MB/s \n",
            "\u001b[?25hCollecting urllib3!=1.25.0,!=1.25.1,<1.26,>=1.21.1\n",
            "  Downloading urllib3-1.25.11-py2.py3-none-any.whl (127 kB)\n",
            "\u001b[K     |████████████████████████████████| 127 kB 73.3 MB/s \n",
            "\u001b[?25hRequirement already satisfied: python-dateutil<3.0.0,>=2.1 in /usr/local/lib/python3.7/dist-packages (from botocore<1.22.0,>=1.21.10->boto3->allennlp==1.0.0) (2.8.1)\n",
            "Requirement already satisfied: cached-property in /usr/local/lib/python3.7/dist-packages (from h5py->allennlp==1.0.0) (1.5.2)\n",
            "Requirement already satisfied: joblib in /usr/local/lib/python3.7/dist-packages (from nltk->allennlp==1.0.0) (1.0.1)\n",
            "Requirement already satisfied: click in /usr/local/lib/python3.7/dist-packages (from nltk->allennlp==1.0.0) (7.1.2)\n",
            "Requirement already satisfied: pyparsing>=2.0.2 in /usr/local/lib/python3.7/dist-packages (from packaging->transformers<2.12,>=2.9->allennlp==1.0.0) (2.4.7)\n",
            "Requirement already satisfied: atomicwrites>=1.0 in /usr/local/lib/python3.7/dist-packages (from pytest->allennlp==1.0.0) (1.4.0)\n",
            "Requirement already satisfied: pluggy<0.8,>=0.5 in /usr/local/lib/python3.7/dist-packages (from pytest->allennlp==1.0.0) (0.7.1)\n",
            "Requirement already satisfied: attrs>=17.4.0 in /usr/local/lib/python3.7/dist-packages (from pytest->allennlp==1.0.0) (21.2.0)\n",
            "Requirement already satisfied: py>=1.5.0 in /usr/local/lib/python3.7/dist-packages (from pytest->allennlp==1.0.0) (1.10.0)\n",
            "Requirement already satisfied: more-itertools>=4.0.0 in /usr/local/lib/python3.7/dist-packages (from pytest->allennlp==1.0.0) (8.8.0)\n",
            "Building wheels for collected packages: overrides, jsonnet, word2number\n",
            "  Building wheel for overrides (setup.py) ... \u001b[?25l\u001b[?25hdone\n",
            "  Created wheel for overrides: filename=overrides-3.0.0-py3-none-any.whl size=5676 sha256=d7de2c7d69369fc80c599e3acf3bb4c70065c1db94bf60de0cda2e18a74faa6a\n",
            "  Stored in directory: /root/.cache/pip/wheels/7d/c6/bf/bff44a9cc6c899e2d77ec968b2d0707616a3d66e4ebefb2411\n",
            "  Building wheel for jsonnet (setup.py) ... \u001b[?25l\u001b[?25hdone\n",
            "  Created wheel for jsonnet: filename=jsonnet-0.17.0-cp37-cp37m-linux_x86_64.whl size=3388667 sha256=8c8ce4236e3773322ea9d42f4db729215335798ad3ac9fe8c7325a270640cf20\n",
            "  Stored in directory: /root/.cache/pip/wheels/1c/28/7e/287c6b19f7161bb03c6986a3c46b51d0d7d9a1805346634e3a\n",
            "  Building wheel for word2number (setup.py) ... \u001b[?25l\u001b[?25hdone\n",
            "  Created wheel for word2number: filename=word2number-1.1-py3-none-any.whl size=5581 sha256=5577868e2307922fff355aa2b3a6af01ed40a42c654904c721aad97db81a57b7\n",
            "  Stored in directory: /root/.cache/pip/wheels/4b/c3/77/a5f48aeb0d3efb7cd5ad61cbd3da30bbf9ffc9662b07c9f879\n",
            "Successfully built overrides jsonnet word2number\n",
            "Installing collected packages: urllib3, jmespath, botocore, tokenizers, s3transfer, transformers, torch, tensorboardX, overrides, jsonpickle, jsonnet, boto3, word2number, py-rouge, conllu, allennlp, allennlp-models\n",
            "  Attempting uninstall: urllib3\n",
            "    Found existing installation: urllib3 1.24.3\n",
            "    Uninstalling urllib3-1.24.3:\n",
            "      Successfully uninstalled urllib3-1.24.3\n",
            "  Attempting uninstall: tokenizers\n",
            "    Found existing installation: tokenizers 0.10.3\n",
            "    Uninstalling tokenizers-0.10.3:\n",
            "      Successfully uninstalled tokenizers-0.10.3\n",
            "  Attempting uninstall: transformers\n",
            "    Found existing installation: transformers 4.9.1\n",
            "    Uninstalling transformers-4.9.1:\n",
            "      Successfully uninstalled transformers-4.9.1\n",
            "  Attempting uninstall: torch\n",
            "    Found existing installation: torch 1.9.0+cu102\n",
            "    Uninstalling torch-1.9.0+cu102:\n",
            "      Successfully uninstalled torch-1.9.0+cu102\n",
            "\u001b[31mERROR: pip's dependency resolver does not currently take into account all the packages that are installed. This behaviour is the source of the following dependency conflicts.\n",
            "torchvision 0.10.0+cu102 requires torch==1.9.0, but you have torch 1.5.1 which is incompatible.\n",
            "torchtext 0.10.0 requires torch==1.9.0, but you have torch 1.5.1 which is incompatible.\n",
            "kapre 0.3.5 requires tensorflow>=2.0.0, but you have tensorflow 1.15.2 which is incompatible.\n",
            "datascience 0.10.6 requires folium==0.2.1, but you have folium 0.8.3 which is incompatible.\u001b[0m\n",
            "Successfully installed allennlp-1.0.0 allennlp-models-1.0.0 boto3-1.18.10 botocore-1.21.10 conllu-3.0 jmespath-0.10.0 jsonnet-0.17.0 jsonpickle-2.0.0 overrides-3.0.0 py-rouge-1.1 s3transfer-0.5.0 tensorboardX-2.4 tokenizers-0.7.0 torch-1.5.1 transformers-2.11.0 urllib3-1.25.11 word2number-1.1\n"
          ],
          "name": "stdout"
        },
        {
          "output_type": "display_data",
          "data": {
            "application/vnd.colab-display-data+json": {
              "pip_warning": {
                "packages": [
                  "urllib3"
                ]
              }
            }
          },
          "metadata": {
            "tags": []
          }
        }
      ]
    },
    {
      "cell_type": "code",
      "metadata": {
        "colab": {
          "base_uri": "https://localhost:8080/"
        },
        "id": "HFqzIGRjzs-N",
        "outputId": "3d910f10-8f70-4e57-e05c-db4d5ea13db4"
      },
      "source": [
        "from allennlp.predictors.predictor import Predictor\n",
        "\n",
        "predictor = Predictor.from_path(\"https://storage.googleapis.com/allennlp-public-models/bidaf-model-2020.03.19.tar.gz\")"
      ],
      "execution_count": null,
      "outputs": [
        {
          "output_type": "stream",
          "text": [
            "[nltk_data] Downloading package punkt to /root/nltk_data...\n",
            "[nltk_data]   Unzipping tokenizers/punkt.zip.\n",
            "[nltk_data] Downloading package wordnet to /root/nltk_data...\n",
            "[nltk_data]   Unzipping corpora/wordnet.zip.\n",
            "100%|██████████| 45959361/45959361 [00:00<00:00, 47847833.08B/s]\n"
          ],
          "name": "stderr"
        }
      ]
    },
    {
      "cell_type": "markdown",
      "metadata": {
        "id": "NG0Pgluzob-V"
      },
      "source": [
        "#Import Libraries"
      ]
    },
    {
      "cell_type": "code",
      "metadata": {
        "colab": {
          "base_uri": "https://localhost:8080/"
        },
        "id": "fMb8S5qonYbN",
        "outputId": "31ff54e1-90d8-4406-d8f0-b8be3fd097ce"
      },
      "source": [
        "import texthero as hero\n",
        "import pandas as pd\n",
        "import difflib\n",
        "import numpy as np"
      ],
      "execution_count": null,
      "outputs": [
        {
          "output_type": "stream",
          "text": [
            "[nltk_data] Downloading package stopwords to /root/nltk_data...\n",
            "[nltk_data]   Unzipping corpora/stopwords.zip.\n"
          ],
          "name": "stderr"
        }
      ]
    },
    {
      "cell_type": "code",
      "metadata": {
        "id": "a1wTz8FHxxHR"
      },
      "source": [
        "import sklearn\n",
        "from sklearn.metrics.pairwise import cosine_similarity;"
      ],
      "execution_count": null,
      "outputs": []
    },
    {
      "cell_type": "code",
      "metadata": {
        "id": "6rD-9OlEx3-0"
      },
      "source": [
        ""
      ],
      "execution_count": null,
      "outputs": []
    },
    {
      "cell_type": "markdown",
      "metadata": {
        "id": "ZT5tBAEEo6dH"
      },
      "source": [
        "#Read Data"
      ]
    },
    {
      "cell_type": "code",
      "metadata": {
        "id": "sz_5y7LUnarf"
      },
      "source": [
        "df_old= pd.read_excel(\"AT&T_previous_policy.xlsx\")\n",
        "df_new= pd.read_excel(\"AT&T_current_policy.xlsx\")\n",
        "df_QA= pd.read_excel(\"AT&T_QA.xlsx\")"
      ],
      "execution_count": null,
      "outputs": []
    },
    {
      "cell_type": "code",
      "metadata": {
        "id": "lEv_im5Wnd1k"
      },
      "source": [
        "df_old['clean_text'] = hero.clean(df_old['policy'])\n",
        "df_new['clean_text'] = hero.clean(df_new['policy'])"
      ],
      "execution_count": null,
      "outputs": []
    },
    {
      "cell_type": "code",
      "metadata": {
        "id": "9ahLoY1uyo3r"
      },
      "source": [
        ""
      ],
      "execution_count": null,
      "outputs": []
    },
    {
      "cell_type": "markdown",
      "metadata": {
        "id": "cXuVaaEW3Dy3"
      },
      "source": [
        "# QA_using AllenNLP"
      ]
    },
    {
      "cell_type": "code",
      "metadata": {
        "colab": {
          "base_uri": "https://localhost:8080/"
        },
        "id": "bxadv2gw3RLk",
        "outputId": "cd28daa4-4b8e-496e-a47d-5587a511bde8"
      },
      "source": [
        "df_QA['Answer_PreviousPolicy']=[None] * len(df_QA['Question'])\n",
        "df_QA['Answer_CurrentPolicy']=[None] * len(df_QA['Question'])\n",
        "\n",
        "for i in range(len(df_QA['Question'])):\n",
        "  policy_number= df_QA['PolicyNumber'][i]\n",
        "  common_question= df_QA['Question'][i]\n",
        "  previous_policy_passage= df_old['policy'][policy_number]\n",
        "  current_policy_passage= df_new['policy'][policy_number]\n",
        "   \n",
        "  #answer from previous policy \n",
        "  result_previous_policy=predictor.predict(\n",
        "  passage=previous_policy_passage,\n",
        "  question=common_question)\n",
        "  df_QA['Answer_PreviousPolicy'][i]= result_previous_policy['best_span_str']\n",
        "\n",
        "  #answer from current policy \n",
        "  result_current_policy=predictor.predict(\n",
        "  passage=current_policy_passage,\n",
        "  question=common_question)\n",
        "  df_QA['Answer_CurrentPolicy'][i]= result_current_policy['best_span_str']"
      ],
      "execution_count": null,
      "outputs": [
        {
          "output_type": "stream",
          "text": [
            "/usr/local/lib/python3.7/dist-packages/ipykernel_launcher.py:14: SettingWithCopyWarning:\n",
            "\n",
            "\n",
            "A value is trying to be set on a copy of a slice from a DataFrame\n",
            "\n",
            "See the caveats in the documentation: https://pandas.pydata.org/pandas-docs/stable/user_guide/indexing.html#returning-a-view-versus-a-copy\n",
            "\n",
            "/usr/local/lib/python3.7/dist-packages/ipykernel_launcher.py:20: SettingWithCopyWarning:\n",
            "\n",
            "\n",
            "A value is trying to be set on a copy of a slice from a DataFrame\n",
            "\n",
            "See the caveats in the documentation: https://pandas.pydata.org/pandas-docs/stable/user_guide/indexing.html#returning-a-view-versus-a-copy\n",
            "\n"
          ],
          "name": "stderr"
        }
      ]
    },
    {
      "cell_type": "code",
      "metadata": {
        "colab": {
          "base_uri": "https://localhost:8080/"
        },
        "id": "aetTvvK97B0b",
        "outputId": "f71ce786-97bb-4663-da9b-cfa1db04458f"
      },
      "source": [
        "df_QA"
      ],
      "execution_count": null,
      "outputs": [
        {
          "output_type": "execute_result",
          "data": {
            "text/html": [
              "<div>\n",
              "<style scoped>\n",
              "    .dataframe tbody tr th:only-of-type {\n",
              "        vertical-align: middle;\n",
              "    }\n",
              "\n",
              "    .dataframe tbody tr th {\n",
              "        vertical-align: top;\n",
              "    }\n",
              "\n",
              "    .dataframe thead th {\n",
              "        text-align: right;\n",
              "    }\n",
              "</style>\n",
              "<table border=\"1\" class=\"dataframe\">\n",
              "  <thead>\n",
              "    <tr style=\"text-align: right;\">\n",
              "      <th></th>\n",
              "      <th>PolicyNumber</th>\n",
              "      <th>Severity</th>\n",
              "      <th>Question</th>\n",
              "      <th>Expected_PreviousPolicy_Answer</th>\n",
              "      <th>Expected_CurrentPolicy_Answer</th>\n",
              "      <th>Answer_PreviousPolicy</th>\n",
              "      <th>Answer_CurrentPolicy</th>\n",
              "    </tr>\n",
              "  </thead>\n",
              "  <tbody>\n",
              "    <tr>\n",
              "      <th>0</th>\n",
              "      <td>0</td>\n",
              "      <td>2</td>\n",
              "      <td>Is the AutoPay amount refundable?</td>\n",
              "      <td>NaN</td>\n",
              "      <td>NaN</td>\n",
              "      <td>Account balance is not refundable and is forfe...</td>\n",
              "      <td>Account balance is not refundable and is forfe...</td>\n",
              "    </tr>\n",
              "    <tr>\n",
              "      <th>1</th>\n",
              "      <td>0</td>\n",
              "      <td>9</td>\n",
              "      <td>When will my account get cancelled?</td>\n",
              "      <td>NaN</td>\n",
              "      <td>NaN</td>\n",
              "      <td>60 days after expiration</td>\n",
              "      <td>60 days after expiration</td>\n",
              "    </tr>\n",
              "    <tr>\n",
              "      <th>2</th>\n",
              "      <td>1</td>\n",
              "      <td>8</td>\n",
              "      <td>What are different payment methods for AutoPay?</td>\n",
              "      <td>NaN</td>\n",
              "      <td>NaN</td>\n",
              "      <td>By entering your checking account, credit card...</td>\n",
              "      <td>By entering Your checking account, credit or d...</td>\n",
              "    </tr>\n",
              "    <tr>\n",
              "      <th>3</th>\n",
              "      <td>1</td>\n",
              "      <td>1</td>\n",
              "      <td>Do you store payment method information?</td>\n",
              "      <td>NaN</td>\n",
              "      <td>NaN</td>\n",
              "      <td>You certify you are the card holder or checkin...</td>\n",
              "      <td>are authorized to make charges to and permit Us</td>\n",
              "    </tr>\n",
              "    <tr>\n",
              "      <th>4</th>\n",
              "      <td>1</td>\n",
              "      <td>12</td>\n",
              "      <td>How often do I need to pay for monthly plans?</td>\n",
              "      <td>NaN</td>\n",
              "      <td>NaN</td>\n",
              "      <td>$25</td>\n",
              "      <td>multiple months of service</td>\n",
              "    </tr>\n",
              "    <tr>\n",
              "      <th>5</th>\n",
              "      <td>1</td>\n",
              "      <td>7</td>\n",
              "      <td>I have a monthly plan. When will I be charged?</td>\n",
              "      <td>NaN</td>\n",
              "      <td>NaN</td>\n",
              "      <td>the amount of the monthly plan plus the cost o...</td>\n",
              "      <td>$25</td>\n",
              "    </tr>\n",
              "    <tr>\n",
              "      <th>6</th>\n",
              "      <td>2</td>\n",
              "      <td>4</td>\n",
              "      <td>I have a monthly plan. Do you send any notice ...</td>\n",
              "      <td>NaN</td>\n",
              "      <td>NaN</td>\n",
              "      <td>Account holders on a monthly plan will be noti...</td>\n",
              "      <td>Account holders on a monthly plan</td>\n",
              "    </tr>\n",
              "    <tr>\n",
              "      <th>7</th>\n",
              "      <td>3</td>\n",
              "      <td>13</td>\n",
              "      <td>How will AutoPay cancellation affect?</td>\n",
              "      <td>NaN</td>\n",
              "      <td>NaN</td>\n",
              "      <td>by dialing 611 from your Pre-paid device or 80...</td>\n",
              "      <td>cancellation notice will be effective when AT&amp;...</td>\n",
              "    </tr>\n",
              "    <tr>\n",
              "      <th>8</th>\n",
              "      <td>3</td>\n",
              "      <td>3</td>\n",
              "      <td>Does AT&amp;T keep my card information?</td>\n",
              "      <td>NaN</td>\n",
              "      <td>NaN</td>\n",
              "      <td>This authorization will remain in effect until...</td>\n",
              "      <td>can receive updated card information from the ...</td>\n",
              "    </tr>\n",
              "    <tr>\n",
              "      <th>9</th>\n",
              "      <td>3</td>\n",
              "      <td>10</td>\n",
              "      <td>What will happen if I have insufficient funds ...</td>\n",
              "      <td>NaN</td>\n",
              "      <td>NaN</td>\n",
              "      <td>This authorization will remain in effect until...</td>\n",
              "      <td>re-submit the charge up to the number of\\ntime...</td>\n",
              "    </tr>\n",
              "    <tr>\n",
              "      <th>10</th>\n",
              "      <td>4</td>\n",
              "      <td>6</td>\n",
              "      <td>How will I know that I am using AutoPay method...</td>\n",
              "      <td>NaN</td>\n",
              "      <td>NaN</td>\n",
              "      <td>withdrawing Your consent will result in Your a...</td>\n",
              "      <td>A confirmation of Your enrollment in AutoPay w...</td>\n",
              "    </tr>\n",
              "    <tr>\n",
              "      <th>11</th>\n",
              "      <td>4</td>\n",
              "      <td>5</td>\n",
              "      <td>What kind consents I am giving to AT&amp;T?</td>\n",
              "      <td>NaN</td>\n",
              "      <td>NaN</td>\n",
              "      <td>text messages to your wireless number</td>\n",
              "      <td>text messages to your wireless number</td>\n",
              "    </tr>\n",
              "    <tr>\n",
              "      <th>12</th>\n",
              "      <td>4</td>\n",
              "      <td>11</td>\n",
              "      <td>How will AT&amp;T communicate with me?</td>\n",
              "      <td>NaN</td>\n",
              "      <td>NaN</td>\n",
              "      <td>sending text messages to your wireless number</td>\n",
              "      <td>sending text messages to your wireless number</td>\n",
              "    </tr>\n",
              "  </tbody>\n",
              "</table>\n",
              "</div>"
            ],
            "text/plain": [
              "    PolicyNumber  ...                               Answer_CurrentPolicy\n",
              "0              0  ...  Account balance is not refundable and is forfe...\n",
              "1              0  ...                           60 days after expiration\n",
              "2              1  ...  By entering Your checking account, credit or d...\n",
              "3              1  ...    are authorized to make charges to and permit Us\n",
              "4              1  ...                         multiple months of service\n",
              "5              1  ...                                                $25\n",
              "6              2  ...                  Account holders on a monthly plan\n",
              "7              3  ...  cancellation notice will be effective when AT&...\n",
              "8              3  ...  can receive updated card information from the ...\n",
              "9              3  ...  re-submit the charge up to the number of\\ntime...\n",
              "10             4  ...  A confirmation of Your enrollment in AutoPay w...\n",
              "11             4  ...              text messages to your wireless number\n",
              "12             4  ...      sending text messages to your wireless number\n",
              "\n",
              "[13 rows x 7 columns]"
            ]
          },
          "metadata": {
            "tags": []
          },
          "execution_count": 18
        }
      ]
    },
    {
      "cell_type": "markdown",
      "metadata": {
        "id": "DmgEreRFpPLG"
      },
      "source": [
        "#Summarize the policy"
      ]
    },
    {
      "cell_type": "code",
      "metadata": {
        "colab": {
          "base_uri": "https://localhost:8080/",
          "height": 350
        },
        "id": "4E3dsjyToAhl",
        "outputId": "faaddce5-b21f-4150-99f3-ff036dfc860e"
      },
      "source": [
        "from transformers import AutoTokenizer, AutoModelForSeq2SeqLM\n",
        "\n",
        "tokenizer = AutoTokenizer.from_pretrained(\"nsi319/legal-pegasus\")  \n",
        "model = AutoModelForSeq2SeqLM.from_pretrained(\"nsi319/legal-pegasus\")\n"
      ],
      "execution_count": null,
      "outputs": [
        {
          "output_type": "error",
          "ename": "ImportError",
          "evalue": "ignored",
          "traceback": [
            "\u001b[0;31m---------------------------------------------------------------------------\u001b[0m",
            "\u001b[0;31mImportError\u001b[0m                               Traceback (most recent call last)",
            "\u001b[0;32m<ipython-input-19-e2ba1af987d9>\u001b[0m in \u001b[0;36m<module>\u001b[0;34m()\u001b[0m\n\u001b[0;32m----> 1\u001b[0;31m \u001b[0;32mfrom\u001b[0m \u001b[0mtransformers\u001b[0m \u001b[0;32mimport\u001b[0m \u001b[0mAutoTokenizer\u001b[0m\u001b[0;34m,\u001b[0m \u001b[0mAutoModelForSeq2SeqLM\u001b[0m\u001b[0;34m\u001b[0m\u001b[0;34m\u001b[0m\u001b[0m\n\u001b[0m\u001b[1;32m      2\u001b[0m \u001b[0;34m\u001b[0m\u001b[0m\n\u001b[1;32m      3\u001b[0m \u001b[0mtokenizer\u001b[0m \u001b[0;34m=\u001b[0m \u001b[0mAutoTokenizer\u001b[0m\u001b[0;34m.\u001b[0m\u001b[0mfrom_pretrained\u001b[0m\u001b[0;34m(\u001b[0m\u001b[0;34m\"nsi319/legal-pegasus\"\u001b[0m\u001b[0;34m)\u001b[0m\u001b[0;34m\u001b[0m\u001b[0;34m\u001b[0m\u001b[0m\n\u001b[1;32m      4\u001b[0m \u001b[0mmodel\u001b[0m \u001b[0;34m=\u001b[0m \u001b[0mAutoModelForSeq2SeqLM\u001b[0m\u001b[0;34m.\u001b[0m\u001b[0mfrom_pretrained\u001b[0m\u001b[0;34m(\u001b[0m\u001b[0;34m\"nsi319/legal-pegasus\"\u001b[0m\u001b[0;34m)\u001b[0m\u001b[0;34m\u001b[0m\u001b[0;34m\u001b[0m\u001b[0m\n",
            "\u001b[0;31mImportError\u001b[0m: cannot import name 'AutoModelForSeq2SeqLM' from 'transformers' (/usr/local/lib/python3.7/dist-packages/transformers/__init__.py)",
            "",
            "\u001b[0;31m---------------------------------------------------------------------------\u001b[0;32m\nNOTE: If your import is failing due to a missing package, you can\nmanually install dependencies using either !pip or !apt.\n\nTo view examples of installing some common dependencies, click the\n\"Open Examples\" button below.\n\u001b[0;31m---------------------------------------------------------------------------\u001b[0m\n"
          ]
        }
      ]
    },
    {
      "cell_type": "code",
      "metadata": {
        "colab": {
          "base_uri": "https://localhost:8080/",
          "height": 35
        },
        "id": "lv-75TvKRJTB",
        "outputId": "b71c9786-d2ef-4c26-b5df-7465ea35b2cf"
      },
      "source": [
        "import transformers\n",
        "transformers.__version__"
      ],
      "execution_count": null,
      "outputs": [
        {
          "output_type": "execute_result",
          "data": {
            "application/vnd.google.colaboratory.intrinsic+json": {
              "type": "string"
            },
            "text/plain": [
              "'2.11.0'"
            ]
          },
          "metadata": {
            "tags": []
          },
          "execution_count": 20
        }
      ]
    },
    {
      "cell_type": "code",
      "metadata": {
        "id": "sIqj8NLwoC5-"
      },
      "source": [
        "def summ(text):\n",
        "  input_tokenized = tokenizer.encode(text, return_tensors='pt',max_length=1024,truncation=True)\n",
        "  summary_ids = model.generate(input_tokenized,\n",
        "                                  num_beams=9,\n",
        "                                  no_repeat_ngram_size=3,\n",
        "                                  length_penalty=2.0,\n",
        "                                  min_length=10,\n",
        "                                  max_length=250,\n",
        "                                  early_stopping=True)\n",
        "  summary = [tokenizer.decode(g, skip_special_tokens=True, clean_up_tokenization_spaces=False) for g in summary_ids][0]\n",
        "  return summary"
      ],
      "execution_count": null,
      "outputs": []
    },
    {
      "cell_type": "code",
      "metadata": {
        "id": "mD5YyctkoF6s"
      },
      "source": [
        "df_QA['updated_Summary']=[None] * len(df_QA[\"Question\"])\n",
        "for i in range(len(df_QA[\"Question\"])):\n",
        "  policy_number= df_QA['PolicyNumber'][i]\n",
        "  current_policy_passage= df_new['policy'][policy_number]\n",
        "  df_QA['updated_Summary'][i]=summ(current_policy_passage)\n",
        "\n",
        "df_QA"
      ],
      "execution_count": null,
      "outputs": []
    },
    {
      "cell_type": "markdown",
      "metadata": {
        "id": "iXy76SnSpETo"
      },
      "source": [
        "#Create Embeddings"
      ]
    },
    {
      "cell_type": "markdown",
      "metadata": {
        "id": "-MIuS15g7Go6"
      },
      "source": [
        "## using BERT"
      ]
    },
    {
      "cell_type": "code",
      "metadata": {
        "colab": {
          "base_uri": "https://localhost:8080/"
        },
        "id": "cG9d6VOGyQ0F",
        "outputId": "783dab26-f801-4dc9-e4f4-e1380f6a5ff7"
      },
      "source": [
        "#Find similarity using bert embeddings\n",
        "df_QA['Change_Score_BERT']=[None] * len(df_QA['Question'])\n",
        "for i in range(len(df_QA['Question'])):\n",
        "  sim=cosine_similarity(bc.encode([df_QA['Answer_PreviousPolicy'][i]]),bc.encode([df_QA['Answer_CurrentPolicy'][i]]))\n",
        "  print(sim)\n",
        "  df_QA['Change_Score_BERT'][i]=1-sim"
      ],
      "execution_count": null,
      "outputs": [
        {
          "output_type": "stream",
          "text": [
            "[[1.]]\n",
            "[[1.]]\n",
            "[[0.9429207]]\n"
          ],
          "name": "stdout"
        },
        {
          "output_type": "stream",
          "text": [
            "/usr/local/lib/python3.7/dist-packages/ipykernel_launcher.py:6: SettingWithCopyWarning:\n",
            "\n",
            "\n",
            "A value is trying to be set on a copy of a slice from a DataFrame\n",
            "\n",
            "See the caveats in the documentation: https://pandas.pydata.org/pandas-docs/stable/user_guide/indexing.html#returning-a-view-versus-a-copy\n",
            "\n",
            "/usr/local/lib/python3.7/dist-packages/ipykernel_launcher.py:6: SettingWithCopyWarning:\n",
            "\n",
            "\n",
            "A value is trying to be set on a copy of a slice from a DataFrame\n",
            "\n",
            "See the caveats in the documentation: https://pandas.pydata.org/pandas-docs/stable/user_guide/indexing.html#returning-a-view-versus-a-copy\n",
            "\n",
            "/usr/local/lib/python3.7/dist-packages/ipykernel_launcher.py:6: SettingWithCopyWarning:\n",
            "\n",
            "\n",
            "A value is trying to be set on a copy of a slice from a DataFrame\n",
            "\n",
            "See the caveats in the documentation: https://pandas.pydata.org/pandas-docs/stable/user_guide/indexing.html#returning-a-view-versus-a-copy\n",
            "\n"
          ],
          "name": "stderr"
        },
        {
          "output_type": "stream",
          "text": [
            "[[0.7385138]]\n",
            "[[0.5781298]]\n",
            "[[0.58695966]]\n"
          ],
          "name": "stdout"
        },
        {
          "output_type": "stream",
          "text": [
            "/usr/local/lib/python3.7/dist-packages/ipykernel_launcher.py:6: SettingWithCopyWarning:\n",
            "\n",
            "\n",
            "A value is trying to be set on a copy of a slice from a DataFrame\n",
            "\n",
            "See the caveats in the documentation: https://pandas.pydata.org/pandas-docs/stable/user_guide/indexing.html#returning-a-view-versus-a-copy\n",
            "\n",
            "/usr/local/lib/python3.7/dist-packages/ipykernel_launcher.py:6: SettingWithCopyWarning:\n",
            "\n",
            "\n",
            "A value is trying to be set on a copy of a slice from a DataFrame\n",
            "\n",
            "See the caveats in the documentation: https://pandas.pydata.org/pandas-docs/stable/user_guide/indexing.html#returning-a-view-versus-a-copy\n",
            "\n",
            "/usr/local/lib/python3.7/dist-packages/ipykernel_launcher.py:6: SettingWithCopyWarning:\n",
            "\n",
            "\n",
            "A value is trying to be set on a copy of a slice from a DataFrame\n",
            "\n",
            "See the caveats in the documentation: https://pandas.pydata.org/pandas-docs/stable/user_guide/indexing.html#returning-a-view-versus-a-copy\n",
            "\n"
          ],
          "name": "stderr"
        },
        {
          "output_type": "stream",
          "text": [
            "[[0.81271017]]\n",
            "[[0.7097928]]\n",
            "[[0.75069106]]\n"
          ],
          "name": "stdout"
        },
        {
          "output_type": "stream",
          "text": [
            "/usr/local/lib/python3.7/dist-packages/ipykernel_launcher.py:6: SettingWithCopyWarning:\n",
            "\n",
            "\n",
            "A value is trying to be set on a copy of a slice from a DataFrame\n",
            "\n",
            "See the caveats in the documentation: https://pandas.pydata.org/pandas-docs/stable/user_guide/indexing.html#returning-a-view-versus-a-copy\n",
            "\n",
            "/usr/local/lib/python3.7/dist-packages/ipykernel_launcher.py:6: SettingWithCopyWarning:\n",
            "\n",
            "\n",
            "A value is trying to be set on a copy of a slice from a DataFrame\n",
            "\n",
            "See the caveats in the documentation: https://pandas.pydata.org/pandas-docs/stable/user_guide/indexing.html#returning-a-view-versus-a-copy\n",
            "\n",
            "/usr/local/lib/python3.7/dist-packages/ipykernel_launcher.py:6: SettingWithCopyWarning:\n",
            "\n",
            "\n",
            "A value is trying to be set on a copy of a slice from a DataFrame\n",
            "\n",
            "See the caveats in the documentation: https://pandas.pydata.org/pandas-docs/stable/user_guide/indexing.html#returning-a-view-versus-a-copy\n",
            "\n"
          ],
          "name": "stderr"
        },
        {
          "output_type": "stream",
          "text": [
            "[[0.7930191]]\n",
            "[[0.9431055]]\n",
            "[[0.99999994]]\n"
          ],
          "name": "stdout"
        },
        {
          "output_type": "stream",
          "text": [
            "/usr/local/lib/python3.7/dist-packages/ipykernel_launcher.py:6: SettingWithCopyWarning:\n",
            "\n",
            "\n",
            "A value is trying to be set on a copy of a slice from a DataFrame\n",
            "\n",
            "See the caveats in the documentation: https://pandas.pydata.org/pandas-docs/stable/user_guide/indexing.html#returning-a-view-versus-a-copy\n",
            "\n",
            "/usr/local/lib/python3.7/dist-packages/ipykernel_launcher.py:6: SettingWithCopyWarning:\n",
            "\n",
            "\n",
            "A value is trying to be set on a copy of a slice from a DataFrame\n",
            "\n",
            "See the caveats in the documentation: https://pandas.pydata.org/pandas-docs/stable/user_guide/indexing.html#returning-a-view-versus-a-copy\n",
            "\n",
            "/usr/local/lib/python3.7/dist-packages/ipykernel_launcher.py:6: SettingWithCopyWarning:\n",
            "\n",
            "\n",
            "A value is trying to be set on a copy of a slice from a DataFrame\n",
            "\n",
            "See the caveats in the documentation: https://pandas.pydata.org/pandas-docs/stable/user_guide/indexing.html#returning-a-view-versus-a-copy\n",
            "\n"
          ],
          "name": "stderr"
        },
        {
          "output_type": "stream",
          "text": [
            "[[0.99999994]]\n"
          ],
          "name": "stdout"
        },
        {
          "output_type": "stream",
          "text": [
            "/usr/local/lib/python3.7/dist-packages/ipykernel_launcher.py:6: SettingWithCopyWarning:\n",
            "\n",
            "\n",
            "A value is trying to be set on a copy of a slice from a DataFrame\n",
            "\n",
            "See the caveats in the documentation: https://pandas.pydata.org/pandas-docs/stable/user_guide/indexing.html#returning-a-view-versus-a-copy\n",
            "\n"
          ],
          "name": "stderr"
        }
      ]
    },
    {
      "cell_type": "code",
      "metadata": {
        "colab": {
          "base_uri": "https://localhost:8080/"
        },
        "id": "KRBRPAGg0WVG",
        "outputId": "e9bffbdb-a32b-417c-c6f0-5dde9c8fd215"
      },
      "source": [
        "df_QA"
      ],
      "execution_count": null,
      "outputs": [
        {
          "output_type": "execute_result",
          "data": {
            "text/html": [
              "<div>\n",
              "<style scoped>\n",
              "    .dataframe tbody tr th:only-of-type {\n",
              "        vertical-align: middle;\n",
              "    }\n",
              "\n",
              "    .dataframe tbody tr th {\n",
              "        vertical-align: top;\n",
              "    }\n",
              "\n",
              "    .dataframe thead th {\n",
              "        text-align: right;\n",
              "    }\n",
              "</style>\n",
              "<table border=\"1\" class=\"dataframe\">\n",
              "  <thead>\n",
              "    <tr style=\"text-align: right;\">\n",
              "      <th></th>\n",
              "      <th>PolicyNumber</th>\n",
              "      <th>Severity</th>\n",
              "      <th>Question</th>\n",
              "      <th>Expected_PreviousPolicy_Answer</th>\n",
              "      <th>Expected_CurrentPolicy_Answer</th>\n",
              "      <th>Answer_PreviousPolicy</th>\n",
              "      <th>Answer_CurrentPolicy</th>\n",
              "      <th>Change_Score_BERT</th>\n",
              "    </tr>\n",
              "  </thead>\n",
              "  <tbody>\n",
              "    <tr>\n",
              "      <th>0</th>\n",
              "      <td>0</td>\n",
              "      <td>2</td>\n",
              "      <td>Is the AutoPay amount refundable?</td>\n",
              "      <td>NaN</td>\n",
              "      <td>NaN</td>\n",
              "      <td>Account balance is not refundable and is forfe...</td>\n",
              "      <td>Account balance is not refundable and is forfe...</td>\n",
              "      <td>[[0.0]]</td>\n",
              "    </tr>\n",
              "    <tr>\n",
              "      <th>1</th>\n",
              "      <td>0</td>\n",
              "      <td>9</td>\n",
              "      <td>When will my account get cancelled?</td>\n",
              "      <td>NaN</td>\n",
              "      <td>NaN</td>\n",
              "      <td>60 days after expiration</td>\n",
              "      <td>60 days after expiration</td>\n",
              "      <td>[[0.0]]</td>\n",
              "    </tr>\n",
              "    <tr>\n",
              "      <th>2</th>\n",
              "      <td>1</td>\n",
              "      <td>8</td>\n",
              "      <td>What are different payment methods for AutoPay?</td>\n",
              "      <td>NaN</td>\n",
              "      <td>NaN</td>\n",
              "      <td>By entering your checking account, credit card...</td>\n",
              "      <td>By entering Your checking account, credit or d...</td>\n",
              "      <td>[[0.057079315]]</td>\n",
              "    </tr>\n",
              "    <tr>\n",
              "      <th>3</th>\n",
              "      <td>1</td>\n",
              "      <td>1</td>\n",
              "      <td>Do you store payment method information?</td>\n",
              "      <td>NaN</td>\n",
              "      <td>NaN</td>\n",
              "      <td>You certify you are the card holder or checkin...</td>\n",
              "      <td>are authorized to make charges to and permit Us</td>\n",
              "      <td>[[0.26148617]]</td>\n",
              "    </tr>\n",
              "    <tr>\n",
              "      <th>4</th>\n",
              "      <td>1</td>\n",
              "      <td>12</td>\n",
              "      <td>How often do I need to pay for monthly plans?</td>\n",
              "      <td>NaN</td>\n",
              "      <td>NaN</td>\n",
              "      <td>$25</td>\n",
              "      <td>multiple months of service</td>\n",
              "      <td>[[0.42187017]]</td>\n",
              "    </tr>\n",
              "    <tr>\n",
              "      <th>5</th>\n",
              "      <td>1</td>\n",
              "      <td>7</td>\n",
              "      <td>I have a monthly plan. When will I be charged?</td>\n",
              "      <td>NaN</td>\n",
              "      <td>NaN</td>\n",
              "      <td>the amount of the monthly plan plus the cost o...</td>\n",
              "      <td>$25</td>\n",
              "      <td>[[0.41304034]]</td>\n",
              "    </tr>\n",
              "    <tr>\n",
              "      <th>6</th>\n",
              "      <td>2</td>\n",
              "      <td>4</td>\n",
              "      <td>I have a monthly plan. Do you send any notice ...</td>\n",
              "      <td>NaN</td>\n",
              "      <td>NaN</td>\n",
              "      <td>Account holders on a monthly plan will be noti...</td>\n",
              "      <td>Account holders on a monthly plan</td>\n",
              "      <td>[[0.18728983]]</td>\n",
              "    </tr>\n",
              "    <tr>\n",
              "      <th>7</th>\n",
              "      <td>3</td>\n",
              "      <td>13</td>\n",
              "      <td>How will AutoPay cancellation affect?</td>\n",
              "      <td>NaN</td>\n",
              "      <td>NaN</td>\n",
              "      <td>by dialing 611 from your Pre-paid device or 80...</td>\n",
              "      <td>cancellation notice will be effective when AT&amp;...</td>\n",
              "      <td>[[0.2902072]]</td>\n",
              "    </tr>\n",
              "    <tr>\n",
              "      <th>8</th>\n",
              "      <td>3</td>\n",
              "      <td>3</td>\n",
              "      <td>Does AT&amp;T keep my card information?</td>\n",
              "      <td>NaN</td>\n",
              "      <td>NaN</td>\n",
              "      <td>This authorization will remain in effect until...</td>\n",
              "      <td>can receive updated card information from the ...</td>\n",
              "      <td>[[0.24930894]]</td>\n",
              "    </tr>\n",
              "    <tr>\n",
              "      <th>9</th>\n",
              "      <td>3</td>\n",
              "      <td>10</td>\n",
              "      <td>What will happen if I have insufficient funds ...</td>\n",
              "      <td>NaN</td>\n",
              "      <td>NaN</td>\n",
              "      <td>This authorization will remain in effect until...</td>\n",
              "      <td>re-submit the charge up to the number of\\ntime...</td>\n",
              "      <td>[[0.20698088]]</td>\n",
              "    </tr>\n",
              "    <tr>\n",
              "      <th>10</th>\n",
              "      <td>4</td>\n",
              "      <td>6</td>\n",
              "      <td>How will I know that I am using AutoPay method...</td>\n",
              "      <td>NaN</td>\n",
              "      <td>NaN</td>\n",
              "      <td>withdrawing Your consent will result in Your a...</td>\n",
              "      <td>A confirmation of Your enrollment in AutoPay w...</td>\n",
              "      <td>[[0.05689448]]</td>\n",
              "    </tr>\n",
              "    <tr>\n",
              "      <th>11</th>\n",
              "      <td>4</td>\n",
              "      <td>5</td>\n",
              "      <td>What kind consents I am giving to AT&amp;T?</td>\n",
              "      <td>NaN</td>\n",
              "      <td>NaN</td>\n",
              "      <td>text messages to your wireless number</td>\n",
              "      <td>text messages to your wireless number</td>\n",
              "      <td>[[5.9604645e-08]]</td>\n",
              "    </tr>\n",
              "    <tr>\n",
              "      <th>12</th>\n",
              "      <td>4</td>\n",
              "      <td>11</td>\n",
              "      <td>How will AT&amp;T communicate with me?</td>\n",
              "      <td>NaN</td>\n",
              "      <td>NaN</td>\n",
              "      <td>sending text messages to your wireless number</td>\n",
              "      <td>sending text messages to your wireless number</td>\n",
              "      <td>[[5.9604645e-08]]</td>\n",
              "    </tr>\n",
              "  </tbody>\n",
              "</table>\n",
              "</div>"
            ],
            "text/plain": [
              "    PolicyNumber  ...  Change_Score_BERT\n",
              "0              0  ...            [[0.0]]\n",
              "1              0  ...            [[0.0]]\n",
              "2              1  ...    [[0.057079315]]\n",
              "3              1  ...     [[0.26148617]]\n",
              "4              1  ...     [[0.42187017]]\n",
              "5              1  ...     [[0.41304034]]\n",
              "6              2  ...     [[0.18728983]]\n",
              "7              3  ...      [[0.2902072]]\n",
              "8              3  ...     [[0.24930894]]\n",
              "9              3  ...     [[0.20698088]]\n",
              "10             4  ...     [[0.05689448]]\n",
              "11             4  ...  [[5.9604645e-08]]\n",
              "12             4  ...  [[5.9604645e-08]]\n",
              "\n",
              "[13 rows x 8 columns]"
            ]
          },
          "metadata": {
            "tags": []
          },
          "execution_count": 22
        }
      ]
    },
    {
      "cell_type": "code",
      "metadata": {
        "id": "evnQk2tS7LIq"
      },
      "source": [
        ""
      ],
      "execution_count": null,
      "outputs": []
    },
    {
      "cell_type": "markdown",
      "metadata": {
        "id": "zU8Pa6hP7LiD"
      },
      "source": [
        "## Using TF-IDF"
      ]
    },
    {
      "cell_type": "code",
      "metadata": {
        "id": "I-wG4lTB7Rg_"
      },
      "source": [
        "df_QA['TF_IDF_PreviousPolicy'] = (\n",
        "    hero.tfidf(df_QA['Answer_PreviousPolicy'], max_features=50)\n",
        ")\n",
        "\n",
        "df_QA['TF_IDF_CurrentPolicy'] = (\n",
        "    hero.tfidf(df_QA['Answer_CurrentPolicy'], max_features=50)\n",
        ")"
      ],
      "execution_count": null,
      "outputs": []
    },
    {
      "cell_type": "code",
      "metadata": {
        "id": "CMIGi3QZ_Tgf",
        "colab": {
          "base_uri": "https://localhost:8080/"
        },
        "outputId": "0b8d1718-2f69-44d7-d646-aaacaccd048f"
      },
      "source": [
        "#Find similarity using TF-IDF\n",
        "df_QA['Change_Score_TF_IDF']=[None] * len(df_QA['Question'])\n",
        "for i in range(len(df_QA['Question'])):\n",
        "  sim=cosine_similarity([df_QA['TF_IDF_PreviousPolicy'][i]],[df_QA['TF_IDF_CurrentPolicy'][i]])\n",
        "  #print(sim)\n",
        "  df_QA['Change_Score_TF_IDF'][i]=1-sim\n"
      ],
      "execution_count": null,
      "outputs": [
        {
          "output_type": "stream",
          "text": [
            "/usr/local/lib/python3.7/dist-packages/ipykernel_launcher.py:6: SettingWithCopyWarning:\n",
            "\n",
            "\n",
            "A value is trying to be set on a copy of a slice from a DataFrame\n",
            "\n",
            "See the caveats in the documentation: https://pandas.pydata.org/pandas-docs/stable/user_guide/indexing.html#returning-a-view-versus-a-copy\n",
            "\n",
            "/usr/local/lib/python3.7/dist-packages/ipykernel_launcher.py:6: SettingWithCopyWarning:\n",
            "\n",
            "\n",
            "A value is trying to be set on a copy of a slice from a DataFrame\n",
            "\n",
            "See the caveats in the documentation: https://pandas.pydata.org/pandas-docs/stable/user_guide/indexing.html#returning-a-view-versus-a-copy\n",
            "\n",
            "/usr/local/lib/python3.7/dist-packages/ipykernel_launcher.py:6: SettingWithCopyWarning:\n",
            "\n",
            "\n",
            "A value is trying to be set on a copy of a slice from a DataFrame\n",
            "\n",
            "See the caveats in the documentation: https://pandas.pydata.org/pandas-docs/stable/user_guide/indexing.html#returning-a-view-versus-a-copy\n",
            "\n",
            "/usr/local/lib/python3.7/dist-packages/ipykernel_launcher.py:6: SettingWithCopyWarning:\n",
            "\n",
            "\n",
            "A value is trying to be set on a copy of a slice from a DataFrame\n",
            "\n",
            "See the caveats in the documentation: https://pandas.pydata.org/pandas-docs/stable/user_guide/indexing.html#returning-a-view-versus-a-copy\n",
            "\n",
            "/usr/local/lib/python3.7/dist-packages/ipykernel_launcher.py:6: SettingWithCopyWarning:\n",
            "\n",
            "\n",
            "A value is trying to be set on a copy of a slice from a DataFrame\n",
            "\n",
            "See the caveats in the documentation: https://pandas.pydata.org/pandas-docs/stable/user_guide/indexing.html#returning-a-view-versus-a-copy\n",
            "\n",
            "/usr/local/lib/python3.7/dist-packages/ipykernel_launcher.py:6: SettingWithCopyWarning:\n",
            "\n",
            "\n",
            "A value is trying to be set on a copy of a slice from a DataFrame\n",
            "\n",
            "See the caveats in the documentation: https://pandas.pydata.org/pandas-docs/stable/user_guide/indexing.html#returning-a-view-versus-a-copy\n",
            "\n",
            "/usr/local/lib/python3.7/dist-packages/ipykernel_launcher.py:6: SettingWithCopyWarning:\n",
            "\n",
            "\n",
            "A value is trying to be set on a copy of a slice from a DataFrame\n",
            "\n",
            "See the caveats in the documentation: https://pandas.pydata.org/pandas-docs/stable/user_guide/indexing.html#returning-a-view-versus-a-copy\n",
            "\n",
            "/usr/local/lib/python3.7/dist-packages/ipykernel_launcher.py:6: SettingWithCopyWarning:\n",
            "\n",
            "\n",
            "A value is trying to be set on a copy of a slice from a DataFrame\n",
            "\n",
            "See the caveats in the documentation: https://pandas.pydata.org/pandas-docs/stable/user_guide/indexing.html#returning-a-view-versus-a-copy\n",
            "\n",
            "/usr/local/lib/python3.7/dist-packages/ipykernel_launcher.py:6: SettingWithCopyWarning:\n",
            "\n",
            "\n",
            "A value is trying to be set on a copy of a slice from a DataFrame\n",
            "\n",
            "See the caveats in the documentation: https://pandas.pydata.org/pandas-docs/stable/user_guide/indexing.html#returning-a-view-versus-a-copy\n",
            "\n",
            "/usr/local/lib/python3.7/dist-packages/ipykernel_launcher.py:6: SettingWithCopyWarning:\n",
            "\n",
            "\n",
            "A value is trying to be set on a copy of a slice from a DataFrame\n",
            "\n",
            "See the caveats in the documentation: https://pandas.pydata.org/pandas-docs/stable/user_guide/indexing.html#returning-a-view-versus-a-copy\n",
            "\n",
            "/usr/local/lib/python3.7/dist-packages/ipykernel_launcher.py:6: SettingWithCopyWarning:\n",
            "\n",
            "\n",
            "A value is trying to be set on a copy of a slice from a DataFrame\n",
            "\n",
            "See the caveats in the documentation: https://pandas.pydata.org/pandas-docs/stable/user_guide/indexing.html#returning-a-view-versus-a-copy\n",
            "\n",
            "/usr/local/lib/python3.7/dist-packages/ipykernel_launcher.py:6: SettingWithCopyWarning:\n",
            "\n",
            "\n",
            "A value is trying to be set on a copy of a slice from a DataFrame\n",
            "\n",
            "See the caveats in the documentation: https://pandas.pydata.org/pandas-docs/stable/user_guide/indexing.html#returning-a-view-versus-a-copy\n",
            "\n",
            "/usr/local/lib/python3.7/dist-packages/ipykernel_launcher.py:6: SettingWithCopyWarning:\n",
            "\n",
            "\n",
            "A value is trying to be set on a copy of a slice from a DataFrame\n",
            "\n",
            "See the caveats in the documentation: https://pandas.pydata.org/pandas-docs/stable/user_guide/indexing.html#returning-a-view-versus-a-copy\n",
            "\n"
          ],
          "name": "stderr"
        }
      ]
    },
    {
      "cell_type": "code",
      "metadata": {
        "colab": {
          "base_uri": "https://localhost:8080/",
          "height": 1000
        },
        "id": "P6knbHCnBwHB",
        "outputId": "644ff779-77e4-44a5-d8aa-4a92cf9f6647"
      },
      "source": [
        "df_QA = df_QA.drop(columns=['TF_IDF_PreviousPolicy', 'TF_IDF_CurrentPolicy'])\n",
        "df_QA"
      ],
      "execution_count": null,
      "outputs": [
        {
          "output_type": "execute_result",
          "data": {
            "text/html": [
              "<div>\n",
              "<style scoped>\n",
              "    .dataframe tbody tr th:only-of-type {\n",
              "        vertical-align: middle;\n",
              "    }\n",
              "\n",
              "    .dataframe tbody tr th {\n",
              "        vertical-align: top;\n",
              "    }\n",
              "\n",
              "    .dataframe thead th {\n",
              "        text-align: right;\n",
              "    }\n",
              "</style>\n",
              "<table border=\"1\" class=\"dataframe\">\n",
              "  <thead>\n",
              "    <tr style=\"text-align: right;\">\n",
              "      <th></th>\n",
              "      <th>PolicyNumber</th>\n",
              "      <th>Severity</th>\n",
              "      <th>Question</th>\n",
              "      <th>Expected_PreviousPolicy_Answer</th>\n",
              "      <th>Expected_CurrentPolicy_Answer</th>\n",
              "      <th>Answer_PreviousPolicy</th>\n",
              "      <th>Answer_CurrentPolicy</th>\n",
              "      <th>Change_Score_BERT</th>\n",
              "      <th>Change_Score_TF_IDF</th>\n",
              "    </tr>\n",
              "  </thead>\n",
              "  <tbody>\n",
              "    <tr>\n",
              "      <th>0</th>\n",
              "      <td>0</td>\n",
              "      <td>2</td>\n",
              "      <td>Is the AutoPay amount refundable?</td>\n",
              "      <td>NaN</td>\n",
              "      <td>NaN</td>\n",
              "      <td>Account balance is not refundable and is forfe...</td>\n",
              "      <td>Account balance is not refundable and is forfe...</td>\n",
              "      <td>[[0.0]]</td>\n",
              "      <td>[[1.0]]</td>\n",
              "    </tr>\n",
              "    <tr>\n",
              "      <th>1</th>\n",
              "      <td>0</td>\n",
              "      <td>9</td>\n",
              "      <td>When will my account get cancelled?</td>\n",
              "      <td>NaN</td>\n",
              "      <td>NaN</td>\n",
              "      <td>60 days after expiration</td>\n",
              "      <td>60 days after expiration</td>\n",
              "      <td>[[0.0]]</td>\n",
              "      <td>[[1.0]]</td>\n",
              "    </tr>\n",
              "    <tr>\n",
              "      <th>2</th>\n",
              "      <td>1</td>\n",
              "      <td>8</td>\n",
              "      <td>What are different payment methods for AutoPay?</td>\n",
              "      <td>NaN</td>\n",
              "      <td>NaN</td>\n",
              "      <td>By entering your checking account, credit card...</td>\n",
              "      <td>By entering Your checking account, credit or d...</td>\n",
              "      <td>[[0.057079315]]</td>\n",
              "      <td>[[1.0]]</td>\n",
              "    </tr>\n",
              "    <tr>\n",
              "      <th>3</th>\n",
              "      <td>1</td>\n",
              "      <td>1</td>\n",
              "      <td>Do you store payment method information?</td>\n",
              "      <td>NaN</td>\n",
              "      <td>NaN</td>\n",
              "      <td>You certify you are the card holder or checkin...</td>\n",
              "      <td>are authorized to make charges to and permit Us</td>\n",
              "      <td>[[0.26148617]]</td>\n",
              "      <td>[[1.0]]</td>\n",
              "    </tr>\n",
              "    <tr>\n",
              "      <th>4</th>\n",
              "      <td>1</td>\n",
              "      <td>12</td>\n",
              "      <td>How often do I need to pay for monthly plans?</td>\n",
              "      <td>NaN</td>\n",
              "      <td>NaN</td>\n",
              "      <td>$25</td>\n",
              "      <td>multiple months of service</td>\n",
              "      <td>[[0.42187017]]</td>\n",
              "      <td>[[1.0]]</td>\n",
              "    </tr>\n",
              "    <tr>\n",
              "      <th>5</th>\n",
              "      <td>1</td>\n",
              "      <td>7</td>\n",
              "      <td>I have a monthly plan. When will I be charged?</td>\n",
              "      <td>NaN</td>\n",
              "      <td>NaN</td>\n",
              "      <td>the amount of the monthly plan plus the cost o...</td>\n",
              "      <td>$25</td>\n",
              "      <td>[[0.41304034]]</td>\n",
              "      <td>[[1.0]]</td>\n",
              "    </tr>\n",
              "    <tr>\n",
              "      <th>6</th>\n",
              "      <td>2</td>\n",
              "      <td>4</td>\n",
              "      <td>I have a monthly plan. Do you send any notice ...</td>\n",
              "      <td>NaN</td>\n",
              "      <td>NaN</td>\n",
              "      <td>Account holders on a monthly plan will be noti...</td>\n",
              "      <td>Account holders on a monthly plan</td>\n",
              "      <td>[[0.18728983]]</td>\n",
              "      <td>[[0.9191992461985881]]</td>\n",
              "    </tr>\n",
              "    <tr>\n",
              "      <th>7</th>\n",
              "      <td>3</td>\n",
              "      <td>13</td>\n",
              "      <td>How will AutoPay cancellation affect?</td>\n",
              "      <td>NaN</td>\n",
              "      <td>NaN</td>\n",
              "      <td>by dialing 611 from your Pre-paid device or 80...</td>\n",
              "      <td>cancellation notice will be effective when AT&amp;...</td>\n",
              "      <td>[[0.2902072]]</td>\n",
              "      <td>[[1.0]]</td>\n",
              "    </tr>\n",
              "    <tr>\n",
              "      <th>8</th>\n",
              "      <td>3</td>\n",
              "      <td>3</td>\n",
              "      <td>Does AT&amp;T keep my card information?</td>\n",
              "      <td>NaN</td>\n",
              "      <td>NaN</td>\n",
              "      <td>This authorization will remain in effect until...</td>\n",
              "      <td>can receive updated card information from the ...</td>\n",
              "      <td>[[0.24930894]]</td>\n",
              "      <td>[[1.0]]</td>\n",
              "    </tr>\n",
              "    <tr>\n",
              "      <th>9</th>\n",
              "      <td>3</td>\n",
              "      <td>10</td>\n",
              "      <td>What will happen if I have insufficient funds ...</td>\n",
              "      <td>NaN</td>\n",
              "      <td>NaN</td>\n",
              "      <td>This authorization will remain in effect until...</td>\n",
              "      <td>re-submit the charge up to the number of\\ntime...</td>\n",
              "      <td>[[0.20698088]]</td>\n",
              "      <td>[[0.8710639715693376]]</td>\n",
              "    </tr>\n",
              "    <tr>\n",
              "      <th>10</th>\n",
              "      <td>4</td>\n",
              "      <td>6</td>\n",
              "      <td>How will I know that I am using AutoPay method...</td>\n",
              "      <td>NaN</td>\n",
              "      <td>NaN</td>\n",
              "      <td>withdrawing Your consent will result in Your a...</td>\n",
              "      <td>A confirmation of Your enrollment in AutoPay w...</td>\n",
              "      <td>[[0.05689448]]</td>\n",
              "      <td>[[0.5677108217355533]]</td>\n",
              "    </tr>\n",
              "    <tr>\n",
              "      <th>11</th>\n",
              "      <td>4</td>\n",
              "      <td>5</td>\n",
              "      <td>What kind consents I am giving to AT&amp;T?</td>\n",
              "      <td>NaN</td>\n",
              "      <td>NaN</td>\n",
              "      <td>text messages to your wireless number</td>\n",
              "      <td>text messages to your wireless number</td>\n",
              "      <td>[[5.9604645e-08]]</td>\n",
              "      <td>[[0.7747567638940407]]</td>\n",
              "    </tr>\n",
              "    <tr>\n",
              "      <th>12</th>\n",
              "      <td>4</td>\n",
              "      <td>11</td>\n",
              "      <td>How will AT&amp;T communicate with me?</td>\n",
              "      <td>NaN</td>\n",
              "      <td>NaN</td>\n",
              "      <td>sending text messages to your wireless number</td>\n",
              "      <td>sending text messages to your wireless number</td>\n",
              "      <td>[[5.9604645e-08]]</td>\n",
              "      <td>[[0.7999738819388205]]</td>\n",
              "    </tr>\n",
              "  </tbody>\n",
              "</table>\n",
              "</div>"
            ],
            "text/plain": [
              "    PolicyNumber  Severity  ...  Change_Score_BERT     Change_Score_TF_IDF\n",
              "0              0         2  ...            [[0.0]]                 [[1.0]]\n",
              "1              0         9  ...            [[0.0]]                 [[1.0]]\n",
              "2              1         8  ...    [[0.057079315]]                 [[1.0]]\n",
              "3              1         1  ...     [[0.26148617]]                 [[1.0]]\n",
              "4              1        12  ...     [[0.42187017]]                 [[1.0]]\n",
              "5              1         7  ...     [[0.41304034]]                 [[1.0]]\n",
              "6              2         4  ...     [[0.18728983]]  [[0.9191992461985881]]\n",
              "7              3        13  ...      [[0.2902072]]                 [[1.0]]\n",
              "8              3         3  ...     [[0.24930894]]                 [[1.0]]\n",
              "9              3        10  ...     [[0.20698088]]  [[0.8710639715693376]]\n",
              "10             4         6  ...     [[0.05689448]]  [[0.5677108217355533]]\n",
              "11             4         5  ...  [[5.9604645e-08]]  [[0.7747567638940407]]\n",
              "12             4        11  ...  [[5.9604645e-08]]  [[0.7999738819388205]]\n",
              "\n",
              "[13 rows x 9 columns]"
            ]
          },
          "metadata": {
            "tags": []
          },
          "execution_count": 25
        }
      ]
    },
    {
      "cell_type": "code",
      "metadata": {
        "id": "ncX_d7TVErTK"
      },
      "source": [
        ""
      ],
      "execution_count": null,
      "outputs": []
    },
    {
      "cell_type": "code",
      "metadata": {
        "id": "bBqR3gznoJWh"
      },
      "source": [
        "df_QA.to_excel('changedPolicy_AT&T_AllenNLP' +'.xlsx')"
      ],
      "execution_count": null,
      "outputs": []
    }
  ]
}