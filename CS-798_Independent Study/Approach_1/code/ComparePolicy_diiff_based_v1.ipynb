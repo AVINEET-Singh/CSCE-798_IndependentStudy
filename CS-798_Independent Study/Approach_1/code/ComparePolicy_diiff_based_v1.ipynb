{
  "nbformat": 4,
  "nbformat_minor": 0,
  "metadata": {
    "colab": {
      "name": "ComparePolicy_diiff_based_v2.ipynb",
      "provenance": []
    },
    "kernelspec": {
      "name": "python3",
      "display_name": "Python 3"
    },
    "language_info": {
      "name": "python"
    },
    "accelerator": "GPU",
    "widgets": {
      "application/vnd.jupyter.widget-state+json": {
        "fd1c63e93fa64e08aeac78fe3a175251": {
          "model_module": "@jupyter-widgets/controls",
          "model_name": "HBoxModel",
          "state": {
            "_view_name": "HBoxView",
            "_dom_classes": [],
            "_model_name": "HBoxModel",
            "_view_module": "@jupyter-widgets/controls",
            "_model_module_version": "1.5.0",
            "_view_count": null,
            "_view_module_version": "1.5.0",
            "box_style": "",
            "layout": "IPY_MODEL_fe3d4453dce441c7bfee4cf4eaab4d6e",
            "_model_module": "@jupyter-widgets/controls",
            "children": [
              "IPY_MODEL_dc1725aac39044538bd485646d0db096",
              "IPY_MODEL_90802f76f6754e6faea75889d8191ad3"
            ]
          }
        },
        "fe3d4453dce441c7bfee4cf4eaab4d6e": {
          "model_module": "@jupyter-widgets/base",
          "model_name": "LayoutModel",
          "state": {
            "_view_name": "LayoutView",
            "grid_template_rows": null,
            "right": null,
            "justify_content": null,
            "_view_module": "@jupyter-widgets/base",
            "overflow": null,
            "_model_module_version": "1.2.0",
            "_view_count": null,
            "flex_flow": null,
            "width": null,
            "min_width": null,
            "border": null,
            "align_items": null,
            "bottom": null,
            "_model_module": "@jupyter-widgets/base",
            "top": null,
            "grid_column": null,
            "overflow_y": null,
            "overflow_x": null,
            "grid_auto_flow": null,
            "grid_area": null,
            "grid_template_columns": null,
            "flex": null,
            "_model_name": "LayoutModel",
            "justify_items": null,
            "grid_row": null,
            "max_height": null,
            "align_content": null,
            "visibility": null,
            "align_self": null,
            "height": null,
            "min_height": null,
            "padding": null,
            "grid_auto_rows": null,
            "grid_gap": null,
            "max_width": null,
            "order": null,
            "_view_module_version": "1.2.0",
            "grid_template_areas": null,
            "object_position": null,
            "object_fit": null,
            "grid_auto_columns": null,
            "margin": null,
            "display": null,
            "left": null
          }
        },
        "dc1725aac39044538bd485646d0db096": {
          "model_module": "@jupyter-widgets/controls",
          "model_name": "FloatProgressModel",
          "state": {
            "_view_name": "ProgressView",
            "style": "IPY_MODEL_fd3e26d197ed40aca1fc622cd7e5fcf3",
            "_dom_classes": [],
            "description": "Downloading: 100%",
            "_model_name": "FloatProgressModel",
            "bar_style": "success",
            "max": 1508,
            "_view_module": "@jupyter-widgets/controls",
            "_model_module_version": "1.5.0",
            "value": 1508,
            "_view_count": null,
            "_view_module_version": "1.5.0",
            "orientation": "horizontal",
            "min": 0,
            "description_tooltip": null,
            "_model_module": "@jupyter-widgets/controls",
            "layout": "IPY_MODEL_8c967c170fcf473ca38db09ed0b47272"
          }
        },
        "90802f76f6754e6faea75889d8191ad3": {
          "model_module": "@jupyter-widgets/controls",
          "model_name": "HTMLModel",
          "state": {
            "_view_name": "HTMLView",
            "style": "IPY_MODEL_f22a294cf61f4fb88824d1a20e176b99",
            "_dom_classes": [],
            "description": "",
            "_model_name": "HTMLModel",
            "placeholder": "​",
            "_view_module": "@jupyter-widgets/controls",
            "_model_module_version": "1.5.0",
            "value": " 1.51k/1.51k [01:41&lt;00:00, 14.9B/s]",
            "_view_count": null,
            "_view_module_version": "1.5.0",
            "description_tooltip": null,
            "_model_module": "@jupyter-widgets/controls",
            "layout": "IPY_MODEL_fa555b23e884446382d03d1815ea8f12"
          }
        },
        "fd3e26d197ed40aca1fc622cd7e5fcf3": {
          "model_module": "@jupyter-widgets/controls",
          "model_name": "ProgressStyleModel",
          "state": {
            "_view_name": "StyleView",
            "_model_name": "ProgressStyleModel",
            "description_width": "initial",
            "_view_module": "@jupyter-widgets/base",
            "_model_module_version": "1.5.0",
            "_view_count": null,
            "_view_module_version": "1.2.0",
            "bar_color": null,
            "_model_module": "@jupyter-widgets/controls"
          }
        },
        "8c967c170fcf473ca38db09ed0b47272": {
          "model_module": "@jupyter-widgets/base",
          "model_name": "LayoutModel",
          "state": {
            "_view_name": "LayoutView",
            "grid_template_rows": null,
            "right": null,
            "justify_content": null,
            "_view_module": "@jupyter-widgets/base",
            "overflow": null,
            "_model_module_version": "1.2.0",
            "_view_count": null,
            "flex_flow": null,
            "width": null,
            "min_width": null,
            "border": null,
            "align_items": null,
            "bottom": null,
            "_model_module": "@jupyter-widgets/base",
            "top": null,
            "grid_column": null,
            "overflow_y": null,
            "overflow_x": null,
            "grid_auto_flow": null,
            "grid_area": null,
            "grid_template_columns": null,
            "flex": null,
            "_model_name": "LayoutModel",
            "justify_items": null,
            "grid_row": null,
            "max_height": null,
            "align_content": null,
            "visibility": null,
            "align_self": null,
            "height": null,
            "min_height": null,
            "padding": null,
            "grid_auto_rows": null,
            "grid_gap": null,
            "max_width": null,
            "order": null,
            "_view_module_version": "1.2.0",
            "grid_template_areas": null,
            "object_position": null,
            "object_fit": null,
            "grid_auto_columns": null,
            "margin": null,
            "display": null,
            "left": null
          }
        },
        "f22a294cf61f4fb88824d1a20e176b99": {
          "model_module": "@jupyter-widgets/controls",
          "model_name": "DescriptionStyleModel",
          "state": {
            "_view_name": "StyleView",
            "_model_name": "DescriptionStyleModel",
            "description_width": "",
            "_view_module": "@jupyter-widgets/base",
            "_model_module_version": "1.5.0",
            "_view_count": null,
            "_view_module_version": "1.2.0",
            "_model_module": "@jupyter-widgets/controls"
          }
        },
        "fa555b23e884446382d03d1815ea8f12": {
          "model_module": "@jupyter-widgets/base",
          "model_name": "LayoutModel",
          "state": {
            "_view_name": "LayoutView",
            "grid_template_rows": null,
            "right": null,
            "justify_content": null,
            "_view_module": "@jupyter-widgets/base",
            "overflow": null,
            "_model_module_version": "1.2.0",
            "_view_count": null,
            "flex_flow": null,
            "width": null,
            "min_width": null,
            "border": null,
            "align_items": null,
            "bottom": null,
            "_model_module": "@jupyter-widgets/base",
            "top": null,
            "grid_column": null,
            "overflow_y": null,
            "overflow_x": null,
            "grid_auto_flow": null,
            "grid_area": null,
            "grid_template_columns": null,
            "flex": null,
            "_model_name": "LayoutModel",
            "justify_items": null,
            "grid_row": null,
            "max_height": null,
            "align_content": null,
            "visibility": null,
            "align_self": null,
            "height": null,
            "min_height": null,
            "padding": null,
            "grid_auto_rows": null,
            "grid_gap": null,
            "max_width": null,
            "order": null,
            "_view_module_version": "1.2.0",
            "grid_template_areas": null,
            "object_position": null,
            "object_fit": null,
            "grid_auto_columns": null,
            "margin": null,
            "display": null,
            "left": null
          }
        },
        "fd70c7ec5905405180d11080d558647c": {
          "model_module": "@jupyter-widgets/controls",
          "model_name": "HBoxModel",
          "state": {
            "_view_name": "HBoxView",
            "_dom_classes": [],
            "_model_name": "HBoxModel",
            "_view_module": "@jupyter-widgets/controls",
            "_model_module_version": "1.5.0",
            "_view_count": null,
            "_view_module_version": "1.5.0",
            "box_style": "",
            "layout": "IPY_MODEL_f315701c52d14f73a6eeb99c91a9b434",
            "_model_module": "@jupyter-widgets/controls",
            "children": [
              "IPY_MODEL_eeeb475cb0e44ef0ae5d24a4fd3dd6ef",
              "IPY_MODEL_ffa9bb010e54411499dd82c38b767a9c"
            ]
          }
        },
        "f315701c52d14f73a6eeb99c91a9b434": {
          "model_module": "@jupyter-widgets/base",
          "model_name": "LayoutModel",
          "state": {
            "_view_name": "LayoutView",
            "grid_template_rows": null,
            "right": null,
            "justify_content": null,
            "_view_module": "@jupyter-widgets/base",
            "overflow": null,
            "_model_module_version": "1.2.0",
            "_view_count": null,
            "flex_flow": null,
            "width": null,
            "min_width": null,
            "border": null,
            "align_items": null,
            "bottom": null,
            "_model_module": "@jupyter-widgets/base",
            "top": null,
            "grid_column": null,
            "overflow_y": null,
            "overflow_x": null,
            "grid_auto_flow": null,
            "grid_area": null,
            "grid_template_columns": null,
            "flex": null,
            "_model_name": "LayoutModel",
            "justify_items": null,
            "grid_row": null,
            "max_height": null,
            "align_content": null,
            "visibility": null,
            "align_self": null,
            "height": null,
            "min_height": null,
            "padding": null,
            "grid_auto_rows": null,
            "grid_gap": null,
            "max_width": null,
            "order": null,
            "_view_module_version": "1.2.0",
            "grid_template_areas": null,
            "object_position": null,
            "object_fit": null,
            "grid_auto_columns": null,
            "margin": null,
            "display": null,
            "left": null
          }
        },
        "eeeb475cb0e44ef0ae5d24a4fd3dd6ef": {
          "model_module": "@jupyter-widgets/controls",
          "model_name": "FloatProgressModel",
          "state": {
            "_view_name": "ProgressView",
            "style": "IPY_MODEL_2582571a528d4d1999b071cd05521817",
            "_dom_classes": [],
            "description": "Downloading: 100%",
            "_model_name": "FloatProgressModel",
            "bar_style": "success",
            "max": 1328,
            "_view_module": "@jupyter-widgets/controls",
            "_model_module_version": "1.5.0",
            "value": 1328,
            "_view_count": null,
            "_view_module_version": "1.5.0",
            "orientation": "horizontal",
            "min": 0,
            "description_tooltip": null,
            "_model_module": "@jupyter-widgets/controls",
            "layout": "IPY_MODEL_8597001b79354179a3384b3be048cd46"
          }
        },
        "ffa9bb010e54411499dd82c38b767a9c": {
          "model_module": "@jupyter-widgets/controls",
          "model_name": "HTMLModel",
          "state": {
            "_view_name": "HTMLView",
            "style": "IPY_MODEL_31418cb57b9c437d8c9b83fa8ce93d45",
            "_dom_classes": [],
            "description": "",
            "_model_name": "HTMLModel",
            "placeholder": "​",
            "_view_module": "@jupyter-widgets/controls",
            "_model_module_version": "1.5.0",
            "value": " 1.33k/1.33k [00:00&lt;00:00, 7.65kB/s]",
            "_view_count": null,
            "_view_module_version": "1.5.0",
            "description_tooltip": null,
            "_model_module": "@jupyter-widgets/controls",
            "layout": "IPY_MODEL_33f814f442524cbca03a48885f5ca966"
          }
        },
        "2582571a528d4d1999b071cd05521817": {
          "model_module": "@jupyter-widgets/controls",
          "model_name": "ProgressStyleModel",
          "state": {
            "_view_name": "StyleView",
            "_model_name": "ProgressStyleModel",
            "description_width": "initial",
            "_view_module": "@jupyter-widgets/base",
            "_model_module_version": "1.5.0",
            "_view_count": null,
            "_view_module_version": "1.2.0",
            "bar_color": null,
            "_model_module": "@jupyter-widgets/controls"
          }
        },
        "8597001b79354179a3384b3be048cd46": {
          "model_module": "@jupyter-widgets/base",
          "model_name": "LayoutModel",
          "state": {
            "_view_name": "LayoutView",
            "grid_template_rows": null,
            "right": null,
            "justify_content": null,
            "_view_module": "@jupyter-widgets/base",
            "overflow": null,
            "_model_module_version": "1.2.0",
            "_view_count": null,
            "flex_flow": null,
            "width": null,
            "min_width": null,
            "border": null,
            "align_items": null,
            "bottom": null,
            "_model_module": "@jupyter-widgets/base",
            "top": null,
            "grid_column": null,
            "overflow_y": null,
            "overflow_x": null,
            "grid_auto_flow": null,
            "grid_area": null,
            "grid_template_columns": null,
            "flex": null,
            "_model_name": "LayoutModel",
            "justify_items": null,
            "grid_row": null,
            "max_height": null,
            "align_content": null,
            "visibility": null,
            "align_self": null,
            "height": null,
            "min_height": null,
            "padding": null,
            "grid_auto_rows": null,
            "grid_gap": null,
            "max_width": null,
            "order": null,
            "_view_module_version": "1.2.0",
            "grid_template_areas": null,
            "object_position": null,
            "object_fit": null,
            "grid_auto_columns": null,
            "margin": null,
            "display": null,
            "left": null
          }
        },
        "31418cb57b9c437d8c9b83fa8ce93d45": {
          "model_module": "@jupyter-widgets/controls",
          "model_name": "DescriptionStyleModel",
          "state": {
            "_view_name": "StyleView",
            "_model_name": "DescriptionStyleModel",
            "description_width": "",
            "_view_module": "@jupyter-widgets/base",
            "_model_module_version": "1.5.0",
            "_view_count": null,
            "_view_module_version": "1.2.0",
            "_model_module": "@jupyter-widgets/controls"
          }
        },
        "33f814f442524cbca03a48885f5ca966": {
          "model_module": "@jupyter-widgets/base",
          "model_name": "LayoutModel",
          "state": {
            "_view_name": "LayoutView",
            "grid_template_rows": null,
            "right": null,
            "justify_content": null,
            "_view_module": "@jupyter-widgets/base",
            "overflow": null,
            "_model_module_version": "1.2.0",
            "_view_count": null,
            "flex_flow": null,
            "width": null,
            "min_width": null,
            "border": null,
            "align_items": null,
            "bottom": null,
            "_model_module": "@jupyter-widgets/base",
            "top": null,
            "grid_column": null,
            "overflow_y": null,
            "overflow_x": null,
            "grid_auto_flow": null,
            "grid_area": null,
            "grid_template_columns": null,
            "flex": null,
            "_model_name": "LayoutModel",
            "justify_items": null,
            "grid_row": null,
            "max_height": null,
            "align_content": null,
            "visibility": null,
            "align_self": null,
            "height": null,
            "min_height": null,
            "padding": null,
            "grid_auto_rows": null,
            "grid_gap": null,
            "max_width": null,
            "order": null,
            "_view_module_version": "1.2.0",
            "grid_template_areas": null,
            "object_position": null,
            "object_fit": null,
            "grid_auto_columns": null,
            "margin": null,
            "display": null,
            "left": null
          }
        },
        "53c622ebefdb4935af34024cc866b4cf": {
          "model_module": "@jupyter-widgets/controls",
          "model_name": "HBoxModel",
          "state": {
            "_view_name": "HBoxView",
            "_dom_classes": [],
            "_model_name": "HBoxModel",
            "_view_module": "@jupyter-widgets/controls",
            "_model_module_version": "1.5.0",
            "_view_count": null,
            "_view_module_version": "1.5.0",
            "box_style": "",
            "layout": "IPY_MODEL_b692528ce55440e9ac9f09e21ae57c52",
            "_model_module": "@jupyter-widgets/controls",
            "children": [
              "IPY_MODEL_776a50cecdf34a689c807000196c00a9",
              "IPY_MODEL_4f07ae1858564f59b293bbc36c1917fc"
            ]
          }
        },
        "b692528ce55440e9ac9f09e21ae57c52": {
          "model_module": "@jupyter-widgets/base",
          "model_name": "LayoutModel",
          "state": {
            "_view_name": "LayoutView",
            "grid_template_rows": null,
            "right": null,
            "justify_content": null,
            "_view_module": "@jupyter-widgets/base",
            "overflow": null,
            "_model_module_version": "1.2.0",
            "_view_count": null,
            "flex_flow": null,
            "width": null,
            "min_width": null,
            "border": null,
            "align_items": null,
            "bottom": null,
            "_model_module": "@jupyter-widgets/base",
            "top": null,
            "grid_column": null,
            "overflow_y": null,
            "overflow_x": null,
            "grid_auto_flow": null,
            "grid_area": null,
            "grid_template_columns": null,
            "flex": null,
            "_model_name": "LayoutModel",
            "justify_items": null,
            "grid_row": null,
            "max_height": null,
            "align_content": null,
            "visibility": null,
            "align_self": null,
            "height": null,
            "min_height": null,
            "padding": null,
            "grid_auto_rows": null,
            "grid_gap": null,
            "max_width": null,
            "order": null,
            "_view_module_version": "1.2.0",
            "grid_template_areas": null,
            "object_position": null,
            "object_fit": null,
            "grid_auto_columns": null,
            "margin": null,
            "display": null,
            "left": null
          }
        },
        "776a50cecdf34a689c807000196c00a9": {
          "model_module": "@jupyter-widgets/controls",
          "model_name": "FloatProgressModel",
          "state": {
            "_view_name": "ProgressView",
            "style": "IPY_MODEL_be4d7ce19ac147ef9730e4700287c925",
            "_dom_classes": [],
            "description": "Downloading: 100%",
            "_model_name": "FloatProgressModel",
            "bar_style": "success",
            "max": 1912529,
            "_view_module": "@jupyter-widgets/controls",
            "_model_module_version": "1.5.0",
            "value": 1912529,
            "_view_count": null,
            "_view_module_version": "1.5.0",
            "orientation": "horizontal",
            "min": 0,
            "description_tooltip": null,
            "_model_module": "@jupyter-widgets/controls",
            "layout": "IPY_MODEL_b3fbeb4f96854d3eae8094a9bf559a55"
          }
        },
        "4f07ae1858564f59b293bbc36c1917fc": {
          "model_module": "@jupyter-widgets/controls",
          "model_name": "HTMLModel",
          "state": {
            "_view_name": "HTMLView",
            "style": "IPY_MODEL_a2b85ed71e3e48789965bd4b9af728e2",
            "_dom_classes": [],
            "description": "",
            "_model_name": "HTMLModel",
            "placeholder": "​",
            "_view_module": "@jupyter-widgets/controls",
            "_model_module_version": "1.5.0",
            "value": " 1.91M/1.91M [00:02&lt;00:00, 765kB/s]",
            "_view_count": null,
            "_view_module_version": "1.5.0",
            "description_tooltip": null,
            "_model_module": "@jupyter-widgets/controls",
            "layout": "IPY_MODEL_a753636fc2604ad7a0fc2b30ea959917"
          }
        },
        "be4d7ce19ac147ef9730e4700287c925": {
          "model_module": "@jupyter-widgets/controls",
          "model_name": "ProgressStyleModel",
          "state": {
            "_view_name": "StyleView",
            "_model_name": "ProgressStyleModel",
            "description_width": "initial",
            "_view_module": "@jupyter-widgets/base",
            "_model_module_version": "1.5.0",
            "_view_count": null,
            "_view_module_version": "1.2.0",
            "bar_color": null,
            "_model_module": "@jupyter-widgets/controls"
          }
        },
        "b3fbeb4f96854d3eae8094a9bf559a55": {
          "model_module": "@jupyter-widgets/base",
          "model_name": "LayoutModel",
          "state": {
            "_view_name": "LayoutView",
            "grid_template_rows": null,
            "right": null,
            "justify_content": null,
            "_view_module": "@jupyter-widgets/base",
            "overflow": null,
            "_model_module_version": "1.2.0",
            "_view_count": null,
            "flex_flow": null,
            "width": null,
            "min_width": null,
            "border": null,
            "align_items": null,
            "bottom": null,
            "_model_module": "@jupyter-widgets/base",
            "top": null,
            "grid_column": null,
            "overflow_y": null,
            "overflow_x": null,
            "grid_auto_flow": null,
            "grid_area": null,
            "grid_template_columns": null,
            "flex": null,
            "_model_name": "LayoutModel",
            "justify_items": null,
            "grid_row": null,
            "max_height": null,
            "align_content": null,
            "visibility": null,
            "align_self": null,
            "height": null,
            "min_height": null,
            "padding": null,
            "grid_auto_rows": null,
            "grid_gap": null,
            "max_width": null,
            "order": null,
            "_view_module_version": "1.2.0",
            "grid_template_areas": null,
            "object_position": null,
            "object_fit": null,
            "grid_auto_columns": null,
            "margin": null,
            "display": null,
            "left": null
          }
        },
        "a2b85ed71e3e48789965bd4b9af728e2": {
          "model_module": "@jupyter-widgets/controls",
          "model_name": "DescriptionStyleModel",
          "state": {
            "_view_name": "StyleView",
            "_model_name": "DescriptionStyleModel",
            "description_width": "",
            "_view_module": "@jupyter-widgets/base",
            "_model_module_version": "1.5.0",
            "_view_count": null,
            "_view_module_version": "1.2.0",
            "_model_module": "@jupyter-widgets/controls"
          }
        },
        "a753636fc2604ad7a0fc2b30ea959917": {
          "model_module": "@jupyter-widgets/base",
          "model_name": "LayoutModel",
          "state": {
            "_view_name": "LayoutView",
            "grid_template_rows": null,
            "right": null,
            "justify_content": null,
            "_view_module": "@jupyter-widgets/base",
            "overflow": null,
            "_model_module_version": "1.2.0",
            "_view_count": null,
            "flex_flow": null,
            "width": null,
            "min_width": null,
            "border": null,
            "align_items": null,
            "bottom": null,
            "_model_module": "@jupyter-widgets/base",
            "top": null,
            "grid_column": null,
            "overflow_y": null,
            "overflow_x": null,
            "grid_auto_flow": null,
            "grid_area": null,
            "grid_template_columns": null,
            "flex": null,
            "_model_name": "LayoutModel",
            "justify_items": null,
            "grid_row": null,
            "max_height": null,
            "align_content": null,
            "visibility": null,
            "align_self": null,
            "height": null,
            "min_height": null,
            "padding": null,
            "grid_auto_rows": null,
            "grid_gap": null,
            "max_width": null,
            "order": null,
            "_view_module_version": "1.2.0",
            "grid_template_areas": null,
            "object_position": null,
            "object_fit": null,
            "grid_auto_columns": null,
            "margin": null,
            "display": null,
            "left": null
          }
        },
        "9b48af6cdf764d4981b2844df94b2e61": {
          "model_module": "@jupyter-widgets/controls",
          "model_name": "HBoxModel",
          "state": {
            "_view_name": "HBoxView",
            "_dom_classes": [],
            "_model_name": "HBoxModel",
            "_view_module": "@jupyter-widgets/controls",
            "_model_module_version": "1.5.0",
            "_view_count": null,
            "_view_module_version": "1.5.0",
            "box_style": "",
            "layout": "IPY_MODEL_ac45ce90a5fa4a999c0ae487fec8eeb6",
            "_model_module": "@jupyter-widgets/controls",
            "children": [
              "IPY_MODEL_1d3b3f1210a3423fb36388168eb02585",
              "IPY_MODEL_b7e3d60ac69c4835882dc32c640728b0"
            ]
          }
        },
        "ac45ce90a5fa4a999c0ae487fec8eeb6": {
          "model_module": "@jupyter-widgets/base",
          "model_name": "LayoutModel",
          "state": {
            "_view_name": "LayoutView",
            "grid_template_rows": null,
            "right": null,
            "justify_content": null,
            "_view_module": "@jupyter-widgets/base",
            "overflow": null,
            "_model_module_version": "1.2.0",
            "_view_count": null,
            "flex_flow": null,
            "width": null,
            "min_width": null,
            "border": null,
            "align_items": null,
            "bottom": null,
            "_model_module": "@jupyter-widgets/base",
            "top": null,
            "grid_column": null,
            "overflow_y": null,
            "overflow_x": null,
            "grid_auto_flow": null,
            "grid_area": null,
            "grid_template_columns": null,
            "flex": null,
            "_model_name": "LayoutModel",
            "justify_items": null,
            "grid_row": null,
            "max_height": null,
            "align_content": null,
            "visibility": null,
            "align_self": null,
            "height": null,
            "min_height": null,
            "padding": null,
            "grid_auto_rows": null,
            "grid_gap": null,
            "max_width": null,
            "order": null,
            "_view_module_version": "1.2.0",
            "grid_template_areas": null,
            "object_position": null,
            "object_fit": null,
            "grid_auto_columns": null,
            "margin": null,
            "display": null,
            "left": null
          }
        },
        "1d3b3f1210a3423fb36388168eb02585": {
          "model_module": "@jupyter-widgets/controls",
          "model_name": "FloatProgressModel",
          "state": {
            "_view_name": "ProgressView",
            "style": "IPY_MODEL_192935e147274aba9c24c16f5d9b3264",
            "_dom_classes": [],
            "description": "Downloading: 100%",
            "_model_name": "FloatProgressModel",
            "bar_style": "success",
            "max": 1341,
            "_view_module": "@jupyter-widgets/controls",
            "_model_module_version": "1.5.0",
            "value": 1341,
            "_view_count": null,
            "_view_module_version": "1.5.0",
            "orientation": "horizontal",
            "min": 0,
            "description_tooltip": null,
            "_model_module": "@jupyter-widgets/controls",
            "layout": "IPY_MODEL_78e3d014205c4f2da8e7abb260eb8a5f"
          }
        },
        "b7e3d60ac69c4835882dc32c640728b0": {
          "model_module": "@jupyter-widgets/controls",
          "model_name": "HTMLModel",
          "state": {
            "_view_name": "HTMLView",
            "style": "IPY_MODEL_5cae1e1e8e464b4a803a1f04a2591b02",
            "_dom_classes": [],
            "description": "",
            "_model_name": "HTMLModel",
            "placeholder": "​",
            "_view_module": "@jupyter-widgets/controls",
            "_model_module_version": "1.5.0",
            "value": " 1.34k/1.34k [00:01&lt;00:00, 918B/s]",
            "_view_count": null,
            "_view_module_version": "1.5.0",
            "description_tooltip": null,
            "_model_module": "@jupyter-widgets/controls",
            "layout": "IPY_MODEL_200d9f065b644fbba1cd659b78609afe"
          }
        },
        "192935e147274aba9c24c16f5d9b3264": {
          "model_module": "@jupyter-widgets/controls",
          "model_name": "ProgressStyleModel",
          "state": {
            "_view_name": "StyleView",
            "_model_name": "ProgressStyleModel",
            "description_width": "initial",
            "_view_module": "@jupyter-widgets/base",
            "_model_module_version": "1.5.0",
            "_view_count": null,
            "_view_module_version": "1.2.0",
            "bar_color": null,
            "_model_module": "@jupyter-widgets/controls"
          }
        },
        "78e3d014205c4f2da8e7abb260eb8a5f": {
          "model_module": "@jupyter-widgets/base",
          "model_name": "LayoutModel",
          "state": {
            "_view_name": "LayoutView",
            "grid_template_rows": null,
            "right": null,
            "justify_content": null,
            "_view_module": "@jupyter-widgets/base",
            "overflow": null,
            "_model_module_version": "1.2.0",
            "_view_count": null,
            "flex_flow": null,
            "width": null,
            "min_width": null,
            "border": null,
            "align_items": null,
            "bottom": null,
            "_model_module": "@jupyter-widgets/base",
            "top": null,
            "grid_column": null,
            "overflow_y": null,
            "overflow_x": null,
            "grid_auto_flow": null,
            "grid_area": null,
            "grid_template_columns": null,
            "flex": null,
            "_model_name": "LayoutModel",
            "justify_items": null,
            "grid_row": null,
            "max_height": null,
            "align_content": null,
            "visibility": null,
            "align_self": null,
            "height": null,
            "min_height": null,
            "padding": null,
            "grid_auto_rows": null,
            "grid_gap": null,
            "max_width": null,
            "order": null,
            "_view_module_version": "1.2.0",
            "grid_template_areas": null,
            "object_position": null,
            "object_fit": null,
            "grid_auto_columns": null,
            "margin": null,
            "display": null,
            "left": null
          }
        },
        "5cae1e1e8e464b4a803a1f04a2591b02": {
          "model_module": "@jupyter-widgets/controls",
          "model_name": "DescriptionStyleModel",
          "state": {
            "_view_name": "StyleView",
            "_model_name": "DescriptionStyleModel",
            "description_width": "",
            "_view_module": "@jupyter-widgets/base",
            "_model_module_version": "1.5.0",
            "_view_count": null,
            "_view_module_version": "1.2.0",
            "_model_module": "@jupyter-widgets/controls"
          }
        },
        "200d9f065b644fbba1cd659b78609afe": {
          "model_module": "@jupyter-widgets/base",
          "model_name": "LayoutModel",
          "state": {
            "_view_name": "LayoutView",
            "grid_template_rows": null,
            "right": null,
            "justify_content": null,
            "_view_module": "@jupyter-widgets/base",
            "overflow": null,
            "_model_module_version": "1.2.0",
            "_view_count": null,
            "flex_flow": null,
            "width": null,
            "min_width": null,
            "border": null,
            "align_items": null,
            "bottom": null,
            "_model_module": "@jupyter-widgets/base",
            "top": null,
            "grid_column": null,
            "overflow_y": null,
            "overflow_x": null,
            "grid_auto_flow": null,
            "grid_area": null,
            "grid_template_columns": null,
            "flex": null,
            "_model_name": "LayoutModel",
            "justify_items": null,
            "grid_row": null,
            "max_height": null,
            "align_content": null,
            "visibility": null,
            "align_self": null,
            "height": null,
            "min_height": null,
            "padding": null,
            "grid_auto_rows": null,
            "grid_gap": null,
            "max_width": null,
            "order": null,
            "_view_module_version": "1.2.0",
            "grid_template_areas": null,
            "object_position": null,
            "object_fit": null,
            "grid_auto_columns": null,
            "margin": null,
            "display": null,
            "left": null
          }
        },
        "4ac9dff1457943eba79cc5b21f9ae52f": {
          "model_module": "@jupyter-widgets/controls",
          "model_name": "HBoxModel",
          "state": {
            "_view_name": "HBoxView",
            "_dom_classes": [],
            "_model_name": "HBoxModel",
            "_view_module": "@jupyter-widgets/controls",
            "_model_module_version": "1.5.0",
            "_view_count": null,
            "_view_module_version": "1.5.0",
            "box_style": "",
            "layout": "IPY_MODEL_f53b5fda002b464b91adf1ecff3b47fc",
            "_model_module": "@jupyter-widgets/controls",
            "children": [
              "IPY_MODEL_a7eb29d578da4d3b982c4e893f21b379",
              "IPY_MODEL_b8725336436a4f5c87616444e69fb6be"
            ]
          }
        },
        "f53b5fda002b464b91adf1ecff3b47fc": {
          "model_module": "@jupyter-widgets/base",
          "model_name": "LayoutModel",
          "state": {
            "_view_name": "LayoutView",
            "grid_template_rows": null,
            "right": null,
            "justify_content": null,
            "_view_module": "@jupyter-widgets/base",
            "overflow": null,
            "_model_module_version": "1.2.0",
            "_view_count": null,
            "flex_flow": null,
            "width": null,
            "min_width": null,
            "border": null,
            "align_items": null,
            "bottom": null,
            "_model_module": "@jupyter-widgets/base",
            "top": null,
            "grid_column": null,
            "overflow_y": null,
            "overflow_x": null,
            "grid_auto_flow": null,
            "grid_area": null,
            "grid_template_columns": null,
            "flex": null,
            "_model_name": "LayoutModel",
            "justify_items": null,
            "grid_row": null,
            "max_height": null,
            "align_content": null,
            "visibility": null,
            "align_self": null,
            "height": null,
            "min_height": null,
            "padding": null,
            "grid_auto_rows": null,
            "grid_gap": null,
            "max_width": null,
            "order": null,
            "_view_module_version": "1.2.0",
            "grid_template_areas": null,
            "object_position": null,
            "object_fit": null,
            "grid_auto_columns": null,
            "margin": null,
            "display": null,
            "left": null
          }
        },
        "a7eb29d578da4d3b982c4e893f21b379": {
          "model_module": "@jupyter-widgets/controls",
          "model_name": "FloatProgressModel",
          "state": {
            "_view_name": "ProgressView",
            "style": "IPY_MODEL_d4b0e09c2f2d40b7a8ba8e57777297ce",
            "_dom_classes": [],
            "description": "Downloading: 100%",
            "_model_name": "FloatProgressModel",
            "bar_style": "success",
            "max": 2283841687,
            "_view_module": "@jupyter-widgets/controls",
            "_model_module_version": "1.5.0",
            "value": 2283841687,
            "_view_count": null,
            "_view_module_version": "1.5.0",
            "orientation": "horizontal",
            "min": 0,
            "description_tooltip": null,
            "_model_module": "@jupyter-widgets/controls",
            "layout": "IPY_MODEL_f225d158df0c400d89725151665424f5"
          }
        },
        "b8725336436a4f5c87616444e69fb6be": {
          "model_module": "@jupyter-widgets/controls",
          "model_name": "HTMLModel",
          "state": {
            "_view_name": "HTMLView",
            "style": "IPY_MODEL_91296e6e0bed4d698ad6369fdbe4f22f",
            "_dom_classes": [],
            "description": "",
            "_model_name": "HTMLModel",
            "placeholder": "​",
            "_view_module": "@jupyter-widgets/controls",
            "_model_module_version": "1.5.0",
            "value": " 2.28G/2.28G [00:47&lt;00:00, 47.8MB/s]",
            "_view_count": null,
            "_view_module_version": "1.5.0",
            "description_tooltip": null,
            "_model_module": "@jupyter-widgets/controls",
            "layout": "IPY_MODEL_4ccbd7c5de16452f92a1f5ba52470f7e"
          }
        },
        "d4b0e09c2f2d40b7a8ba8e57777297ce": {
          "model_module": "@jupyter-widgets/controls",
          "model_name": "ProgressStyleModel",
          "state": {
            "_view_name": "StyleView",
            "_model_name": "ProgressStyleModel",
            "description_width": "initial",
            "_view_module": "@jupyter-widgets/base",
            "_model_module_version": "1.5.0",
            "_view_count": null,
            "_view_module_version": "1.2.0",
            "bar_color": null,
            "_model_module": "@jupyter-widgets/controls"
          }
        },
        "f225d158df0c400d89725151665424f5": {
          "model_module": "@jupyter-widgets/base",
          "model_name": "LayoutModel",
          "state": {
            "_view_name": "LayoutView",
            "grid_template_rows": null,
            "right": null,
            "justify_content": null,
            "_view_module": "@jupyter-widgets/base",
            "overflow": null,
            "_model_module_version": "1.2.0",
            "_view_count": null,
            "flex_flow": null,
            "width": null,
            "min_width": null,
            "border": null,
            "align_items": null,
            "bottom": null,
            "_model_module": "@jupyter-widgets/base",
            "top": null,
            "grid_column": null,
            "overflow_y": null,
            "overflow_x": null,
            "grid_auto_flow": null,
            "grid_area": null,
            "grid_template_columns": null,
            "flex": null,
            "_model_name": "LayoutModel",
            "justify_items": null,
            "grid_row": null,
            "max_height": null,
            "align_content": null,
            "visibility": null,
            "align_self": null,
            "height": null,
            "min_height": null,
            "padding": null,
            "grid_auto_rows": null,
            "grid_gap": null,
            "max_width": null,
            "order": null,
            "_view_module_version": "1.2.0",
            "grid_template_areas": null,
            "object_position": null,
            "object_fit": null,
            "grid_auto_columns": null,
            "margin": null,
            "display": null,
            "left": null
          }
        },
        "91296e6e0bed4d698ad6369fdbe4f22f": {
          "model_module": "@jupyter-widgets/controls",
          "model_name": "DescriptionStyleModel",
          "state": {
            "_view_name": "StyleView",
            "_model_name": "DescriptionStyleModel",
            "description_width": "",
            "_view_module": "@jupyter-widgets/base",
            "_model_module_version": "1.5.0",
            "_view_count": null,
            "_view_module_version": "1.2.0",
            "_model_module": "@jupyter-widgets/controls"
          }
        },
        "4ccbd7c5de16452f92a1f5ba52470f7e": {
          "model_module": "@jupyter-widgets/base",
          "model_name": "LayoutModel",
          "state": {
            "_view_name": "LayoutView",
            "grid_template_rows": null,
            "right": null,
            "justify_content": null,
            "_view_module": "@jupyter-widgets/base",
            "overflow": null,
            "_model_module_version": "1.2.0",
            "_view_count": null,
            "flex_flow": null,
            "width": null,
            "min_width": null,
            "border": null,
            "align_items": null,
            "bottom": null,
            "_model_module": "@jupyter-widgets/base",
            "top": null,
            "grid_column": null,
            "overflow_y": null,
            "overflow_x": null,
            "grid_auto_flow": null,
            "grid_area": null,
            "grid_template_columns": null,
            "flex": null,
            "_model_name": "LayoutModel",
            "justify_items": null,
            "grid_row": null,
            "max_height": null,
            "align_content": null,
            "visibility": null,
            "align_self": null,
            "height": null,
            "min_height": null,
            "padding": null,
            "grid_auto_rows": null,
            "grid_gap": null,
            "max_width": null,
            "order": null,
            "_view_module_version": "1.2.0",
            "grid_template_areas": null,
            "object_position": null,
            "object_fit": null,
            "grid_auto_columns": null,
            "margin": null,
            "display": null,
            "left": null
          }
        }
      }
    }
  },
  "cells": [
    {
      "cell_type": "markdown",
      "metadata": {
        "id": "VpHpBZHZoR_B"
      },
      "source": [
        "#Installations"
      ]
    },
    {
      "cell_type": "code",
      "metadata": {
        "colab": {
          "base_uri": "https://localhost:8080/"
        },
        "id": "EZKfly-Cm4UQ",
        "outputId": "04ba4de3-6ef1-4209-ab4c-386379d084b4"
      },
      "source": [
        "pip install texthero"
      ],
      "execution_count": null,
      "outputs": [
        {
          "output_type": "stream",
          "text": [
            "Collecting texthero\n",
            "  Downloading texthero-1.1.0-py3-none-any.whl (24 kB)\n",
            "Requirement already satisfied: spacy<3.0.0 in /usr/local/lib/python3.7/dist-packages (from texthero) (2.2.4)\n",
            "Requirement already satisfied: gensim<4.0,>=3.6.0 in /usr/local/lib/python3.7/dist-packages (from texthero) (3.6.0)\n",
            "Requirement already satisfied: pandas>=1.0.2 in /usr/local/lib/python3.7/dist-packages (from texthero) (1.1.5)\n",
            "Requirement already satisfied: tqdm>=4.3 in /usr/local/lib/python3.7/dist-packages (from texthero) (4.41.1)\n",
            "Requirement already satisfied: wordcloud>=1.5.0 in /usr/local/lib/python3.7/dist-packages (from texthero) (1.5.0)\n",
            "Collecting unidecode>=1.1.1\n",
            "  Downloading Unidecode-1.2.0-py2.py3-none-any.whl (241 kB)\n",
            "\u001b[K     |████████████████████████████████| 241 kB 9.9 MB/s \n",
            "\u001b[?25hRequirement already satisfied: numpy>=1.17 in /usr/local/lib/python3.7/dist-packages (from texthero) (1.19.5)\n",
            "Requirement already satisfied: scikit-learn>=0.22 in /usr/local/lib/python3.7/dist-packages (from texthero) (0.22.2.post1)\n",
            "Requirement already satisfied: matplotlib>=3.1.0 in /usr/local/lib/python3.7/dist-packages (from texthero) (3.2.2)\n",
            "Collecting nltk>=3.3\n",
            "  Downloading nltk-3.6.2-py3-none-any.whl (1.5 MB)\n",
            "\u001b[K     |████████████████████████████████| 1.5 MB 39.0 MB/s \n",
            "\u001b[?25hRequirement already satisfied: plotly>=4.2.0 in /usr/local/lib/python3.7/dist-packages (from texthero) (4.4.1)\n",
            "Requirement already satisfied: scipy>=0.18.1 in /usr/local/lib/python3.7/dist-packages (from gensim<4.0,>=3.6.0->texthero) (1.4.1)\n",
            "Requirement already satisfied: six>=1.5.0 in /usr/local/lib/python3.7/dist-packages (from gensim<4.0,>=3.6.0->texthero) (1.15.0)\n",
            "Requirement already satisfied: smart-open>=1.2.1 in /usr/local/lib/python3.7/dist-packages (from gensim<4.0,>=3.6.0->texthero) (5.1.0)\n",
            "Requirement already satisfied: kiwisolver>=1.0.1 in /usr/local/lib/python3.7/dist-packages (from matplotlib>=3.1.0->texthero) (1.3.1)\n",
            "Requirement already satisfied: pyparsing!=2.0.4,!=2.1.2,!=2.1.6,>=2.0.1 in /usr/local/lib/python3.7/dist-packages (from matplotlib>=3.1.0->texthero) (2.4.7)\n",
            "Requirement already satisfied: cycler>=0.10 in /usr/local/lib/python3.7/dist-packages (from matplotlib>=3.1.0->texthero) (0.10.0)\n",
            "Requirement already satisfied: python-dateutil>=2.1 in /usr/local/lib/python3.7/dist-packages (from matplotlib>=3.1.0->texthero) (2.8.1)\n",
            "Requirement already satisfied: click in /usr/local/lib/python3.7/dist-packages (from nltk>=3.3->texthero) (7.1.2)\n",
            "Requirement already satisfied: regex in /usr/local/lib/python3.7/dist-packages (from nltk>=3.3->texthero) (2019.12.20)\n",
            "Requirement already satisfied: joblib in /usr/local/lib/python3.7/dist-packages (from nltk>=3.3->texthero) (1.0.1)\n",
            "Requirement already satisfied: pytz>=2017.2 in /usr/local/lib/python3.7/dist-packages (from pandas>=1.0.2->texthero) (2018.9)\n",
            "Requirement already satisfied: retrying>=1.3.3 in /usr/local/lib/python3.7/dist-packages (from plotly>=4.2.0->texthero) (1.3.3)\n",
            "Requirement already satisfied: plac<1.2.0,>=0.9.6 in /usr/local/lib/python3.7/dist-packages (from spacy<3.0.0->texthero) (1.1.3)\n",
            "Requirement already satisfied: thinc==7.4.0 in /usr/local/lib/python3.7/dist-packages (from spacy<3.0.0->texthero) (7.4.0)\n",
            "Requirement already satisfied: murmurhash<1.1.0,>=0.28.0 in /usr/local/lib/python3.7/dist-packages (from spacy<3.0.0->texthero) (1.0.5)\n",
            "Requirement already satisfied: srsly<1.1.0,>=1.0.2 in /usr/local/lib/python3.7/dist-packages (from spacy<3.0.0->texthero) (1.0.5)\n",
            "Requirement already satisfied: blis<0.5.0,>=0.4.0 in /usr/local/lib/python3.7/dist-packages (from spacy<3.0.0->texthero) (0.4.1)\n",
            "Requirement already satisfied: preshed<3.1.0,>=3.0.2 in /usr/local/lib/python3.7/dist-packages (from spacy<3.0.0->texthero) (3.0.5)\n",
            "Requirement already satisfied: cymem<2.1.0,>=2.0.2 in /usr/local/lib/python3.7/dist-packages (from spacy<3.0.0->texthero) (2.0.5)\n",
            "Requirement already satisfied: setuptools in /usr/local/lib/python3.7/dist-packages (from spacy<3.0.0->texthero) (57.2.0)\n",
            "Requirement already satisfied: wasabi<1.1.0,>=0.4.0 in /usr/local/lib/python3.7/dist-packages (from spacy<3.0.0->texthero) (0.8.2)\n",
            "Requirement already satisfied: catalogue<1.1.0,>=0.0.7 in /usr/local/lib/python3.7/dist-packages (from spacy<3.0.0->texthero) (1.0.0)\n",
            "Requirement already satisfied: requests<3.0.0,>=2.13.0 in /usr/local/lib/python3.7/dist-packages (from spacy<3.0.0->texthero) (2.23.0)\n",
            "Requirement already satisfied: importlib-metadata>=0.20 in /usr/local/lib/python3.7/dist-packages (from catalogue<1.1.0,>=0.0.7->spacy<3.0.0->texthero) (4.6.1)\n",
            "Requirement already satisfied: zipp>=0.5 in /usr/local/lib/python3.7/dist-packages (from importlib-metadata>=0.20->catalogue<1.1.0,>=0.0.7->spacy<3.0.0->texthero) (3.5.0)\n",
            "Requirement already satisfied: typing-extensions>=3.6.4 in /usr/local/lib/python3.7/dist-packages (from importlib-metadata>=0.20->catalogue<1.1.0,>=0.0.7->spacy<3.0.0->texthero) (3.7.4.3)\n",
            "Requirement already satisfied: certifi>=2017.4.17 in /usr/local/lib/python3.7/dist-packages (from requests<3.0.0,>=2.13.0->spacy<3.0.0->texthero) (2021.5.30)\n",
            "Requirement already satisfied: idna<3,>=2.5 in /usr/local/lib/python3.7/dist-packages (from requests<3.0.0,>=2.13.0->spacy<3.0.0->texthero) (2.10)\n",
            "Requirement already satisfied: urllib3!=1.25.0,!=1.25.1,<1.26,>=1.21.1 in /usr/local/lib/python3.7/dist-packages (from requests<3.0.0,>=2.13.0->spacy<3.0.0->texthero) (1.24.3)\n",
            "Requirement already satisfied: chardet<4,>=3.0.2 in /usr/local/lib/python3.7/dist-packages (from requests<3.0.0,>=2.13.0->spacy<3.0.0->texthero) (3.0.4)\n",
            "Requirement already satisfied: pillow in /usr/local/lib/python3.7/dist-packages (from wordcloud>=1.5.0->texthero) (7.1.2)\n",
            "Installing collected packages: unidecode, nltk, texthero\n",
            "  Attempting uninstall: nltk\n",
            "    Found existing installation: nltk 3.2.5\n",
            "    Uninstalling nltk-3.2.5:\n",
            "      Successfully uninstalled nltk-3.2.5\n",
            "Successfully installed nltk-3.6.2 texthero-1.1.0 unidecode-1.2.0\n"
          ],
          "name": "stdout"
        }
      ]
    },
    {
      "cell_type": "code",
      "metadata": {
        "colab": {
          "base_uri": "https://localhost:8080/"
        },
        "id": "0orqy3mAn2O9",
        "outputId": "b85651e0-22cd-48d5-ef3e-df3a4573cc65"
      },
      "source": [
        "pip install transformers"
      ],
      "execution_count": null,
      "outputs": [
        {
          "output_type": "stream",
          "text": [
            "Collecting transformers\n",
            "  Downloading transformers-4.9.1-py3-none-any.whl (2.6 MB)\n",
            "\u001b[K     |████████████████████████████████| 2.6 MB 8.4 MB/s \n",
            "\u001b[?25hRequirement already satisfied: packaging in /usr/local/lib/python3.7/dist-packages (from transformers) (21.0)\n",
            "Collecting huggingface-hub==0.0.12\n",
            "  Downloading huggingface_hub-0.0.12-py3-none-any.whl (37 kB)\n",
            "Requirement already satisfied: tqdm>=4.27 in /usr/local/lib/python3.7/dist-packages (from transformers) (4.41.1)\n",
            "Collecting pyyaml>=5.1\n",
            "  Downloading PyYAML-5.4.1-cp37-cp37m-manylinux1_x86_64.whl (636 kB)\n",
            "\u001b[K     |████████████████████████████████| 636 kB 62.4 MB/s \n",
            "\u001b[?25hRequirement already satisfied: requests in /usr/local/lib/python3.7/dist-packages (from transformers) (2.23.0)\n",
            "Requirement already satisfied: importlib-metadata in /usr/local/lib/python3.7/dist-packages (from transformers) (4.6.1)\n",
            "Collecting sacremoses\n",
            "  Downloading sacremoses-0.0.45-py3-none-any.whl (895 kB)\n",
            "\u001b[K     |████████████████████████████████| 895 kB 61.8 MB/s \n",
            "\u001b[?25hRequirement already satisfied: filelock in /usr/local/lib/python3.7/dist-packages (from transformers) (3.0.12)\n",
            "Collecting tokenizers<0.11,>=0.10.1\n",
            "  Downloading tokenizers-0.10.3-cp37-cp37m-manylinux_2_5_x86_64.manylinux1_x86_64.manylinux_2_12_x86_64.manylinux2010_x86_64.whl (3.3 MB)\n",
            "\u001b[K     |████████████████████████████████| 3.3 MB 64.0 MB/s \n",
            "\u001b[?25hRequirement already satisfied: numpy>=1.17 in /usr/local/lib/python3.7/dist-packages (from transformers) (1.19.5)\n",
            "Requirement already satisfied: regex!=2019.12.17 in /usr/local/lib/python3.7/dist-packages (from transformers) (2019.12.20)\n",
            "Requirement already satisfied: typing-extensions in /usr/local/lib/python3.7/dist-packages (from huggingface-hub==0.0.12->transformers) (3.7.4.3)\n",
            "Requirement already satisfied: pyparsing>=2.0.2 in /usr/local/lib/python3.7/dist-packages (from packaging->transformers) (2.4.7)\n",
            "Requirement already satisfied: zipp>=0.5 in /usr/local/lib/python3.7/dist-packages (from importlib-metadata->transformers) (3.5.0)\n",
            "Requirement already satisfied: certifi>=2017.4.17 in /usr/local/lib/python3.7/dist-packages (from requests->transformers) (2021.5.30)\n",
            "Requirement already satisfied: urllib3!=1.25.0,!=1.25.1,<1.26,>=1.21.1 in /usr/local/lib/python3.7/dist-packages (from requests->transformers) (1.24.3)\n",
            "Requirement already satisfied: chardet<4,>=3.0.2 in /usr/local/lib/python3.7/dist-packages (from requests->transformers) (3.0.4)\n",
            "Requirement already satisfied: idna<3,>=2.5 in /usr/local/lib/python3.7/dist-packages (from requests->transformers) (2.10)\n",
            "Requirement already satisfied: click in /usr/local/lib/python3.7/dist-packages (from sacremoses->transformers) (7.1.2)\n",
            "Requirement already satisfied: six in /usr/local/lib/python3.7/dist-packages (from sacremoses->transformers) (1.15.0)\n",
            "Requirement already satisfied: joblib in /usr/local/lib/python3.7/dist-packages (from sacremoses->transformers) (1.0.1)\n",
            "Installing collected packages: tokenizers, sacremoses, pyyaml, huggingface-hub, transformers\n",
            "  Attempting uninstall: pyyaml\n",
            "    Found existing installation: PyYAML 3.13\n",
            "    Uninstalling PyYAML-3.13:\n",
            "      Successfully uninstalled PyYAML-3.13\n",
            "Successfully installed huggingface-hub-0.0.12 pyyaml-5.4.1 sacremoses-0.0.45 tokenizers-0.10.3 transformers-4.9.1\n"
          ],
          "name": "stdout"
        }
      ]
    },
    {
      "cell_type": "code",
      "metadata": {
        "colab": {
          "base_uri": "https://localhost:8080/"
        },
        "id": "s0BWkq5hn9UC",
        "outputId": "919db5a2-902a-4492-9ad3-4434f7039cd5"
      },
      "source": [
        "pip install sentencepiece"
      ],
      "execution_count": null,
      "outputs": [
        {
          "output_type": "stream",
          "text": [
            "Collecting sentencepiece\n",
            "  Downloading sentencepiece-0.1.96-cp37-cp37m-manylinux_2_17_x86_64.manylinux2014_x86_64.whl (1.2 MB)\n",
            "\u001b[?25l\r\u001b[K     |▎                               | 10 kB 25.4 MB/s eta 0:00:01\r\u001b[K     |▌                               | 20 kB 22.1 MB/s eta 0:00:01\r\u001b[K     |▉                               | 30 kB 15.6 MB/s eta 0:00:01\r\u001b[K     |█                               | 40 kB 14.8 MB/s eta 0:00:01\r\u001b[K     |█▍                              | 51 kB 7.9 MB/s eta 0:00:01\r\u001b[K     |█▋                              | 61 kB 7.7 MB/s eta 0:00:01\r\u001b[K     |██                              | 71 kB 7.9 MB/s eta 0:00:01\r\u001b[K     |██▏                             | 81 kB 8.8 MB/s eta 0:00:01\r\u001b[K     |██▍                             | 92 kB 9.4 MB/s eta 0:00:01\r\u001b[K     |██▊                             | 102 kB 7.4 MB/s eta 0:00:01\r\u001b[K     |███                             | 112 kB 7.4 MB/s eta 0:00:01\r\u001b[K     |███▎                            | 122 kB 7.4 MB/s eta 0:00:01\r\u001b[K     |███▌                            | 133 kB 7.4 MB/s eta 0:00:01\r\u001b[K     |███▉                            | 143 kB 7.4 MB/s eta 0:00:01\r\u001b[K     |████                            | 153 kB 7.4 MB/s eta 0:00:01\r\u001b[K     |████▎                           | 163 kB 7.4 MB/s eta 0:00:01\r\u001b[K     |████▋                           | 174 kB 7.4 MB/s eta 0:00:01\r\u001b[K     |████▉                           | 184 kB 7.4 MB/s eta 0:00:01\r\u001b[K     |█████▏                          | 194 kB 7.4 MB/s eta 0:00:01\r\u001b[K     |█████▍                          | 204 kB 7.4 MB/s eta 0:00:01\r\u001b[K     |█████▊                          | 215 kB 7.4 MB/s eta 0:00:01\r\u001b[K     |██████                          | 225 kB 7.4 MB/s eta 0:00:01\r\u001b[K     |██████▏                         | 235 kB 7.4 MB/s eta 0:00:01\r\u001b[K     |██████▌                         | 245 kB 7.4 MB/s eta 0:00:01\r\u001b[K     |██████▊                         | 256 kB 7.4 MB/s eta 0:00:01\r\u001b[K     |███████                         | 266 kB 7.4 MB/s eta 0:00:01\r\u001b[K     |███████▎                        | 276 kB 7.4 MB/s eta 0:00:01\r\u001b[K     |███████▋                        | 286 kB 7.4 MB/s eta 0:00:01\r\u001b[K     |███████▉                        | 296 kB 7.4 MB/s eta 0:00:01\r\u001b[K     |████████                        | 307 kB 7.4 MB/s eta 0:00:01\r\u001b[K     |████████▍                       | 317 kB 7.4 MB/s eta 0:00:01\r\u001b[K     |████████▋                       | 327 kB 7.4 MB/s eta 0:00:01\r\u001b[K     |█████████                       | 337 kB 7.4 MB/s eta 0:00:01\r\u001b[K     |█████████▏                      | 348 kB 7.4 MB/s eta 0:00:01\r\u001b[K     |█████████▌                      | 358 kB 7.4 MB/s eta 0:00:01\r\u001b[K     |█████████▊                      | 368 kB 7.4 MB/s eta 0:00:01\r\u001b[K     |██████████                      | 378 kB 7.4 MB/s eta 0:00:01\r\u001b[K     |██████████▎                     | 389 kB 7.4 MB/s eta 0:00:01\r\u001b[K     |██████████▌                     | 399 kB 7.4 MB/s eta 0:00:01\r\u001b[K     |██████████▉                     | 409 kB 7.4 MB/s eta 0:00:01\r\u001b[K     |███████████                     | 419 kB 7.4 MB/s eta 0:00:01\r\u001b[K     |███████████▍                    | 430 kB 7.4 MB/s eta 0:00:01\r\u001b[K     |███████████▋                    | 440 kB 7.4 MB/s eta 0:00:01\r\u001b[K     |███████████▉                    | 450 kB 7.4 MB/s eta 0:00:01\r\u001b[K     |████████████▏                   | 460 kB 7.4 MB/s eta 0:00:01\r\u001b[K     |████████████▍                   | 471 kB 7.4 MB/s eta 0:00:01\r\u001b[K     |████████████▊                   | 481 kB 7.4 MB/s eta 0:00:01\r\u001b[K     |█████████████                   | 491 kB 7.4 MB/s eta 0:00:01\r\u001b[K     |█████████████▎                  | 501 kB 7.4 MB/s eta 0:00:01\r\u001b[K     |█████████████▌                  | 512 kB 7.4 MB/s eta 0:00:01\r\u001b[K     |█████████████▊                  | 522 kB 7.4 MB/s eta 0:00:01\r\u001b[K     |██████████████                  | 532 kB 7.4 MB/s eta 0:00:01\r\u001b[K     |██████████████▎                 | 542 kB 7.4 MB/s eta 0:00:01\r\u001b[K     |██████████████▋                 | 552 kB 7.4 MB/s eta 0:00:01\r\u001b[K     |██████████████▉                 | 563 kB 7.4 MB/s eta 0:00:01\r\u001b[K     |███████████████▏                | 573 kB 7.4 MB/s eta 0:00:01\r\u001b[K     |███████████████▍                | 583 kB 7.4 MB/s eta 0:00:01\r\u001b[K     |███████████████▋                | 593 kB 7.4 MB/s eta 0:00:01\r\u001b[K     |████████████████                | 604 kB 7.4 MB/s eta 0:00:01\r\u001b[K     |████████████████▏               | 614 kB 7.4 MB/s eta 0:00:01\r\u001b[K     |████████████████▌               | 624 kB 7.4 MB/s eta 0:00:01\r\u001b[K     |████████████████▊               | 634 kB 7.4 MB/s eta 0:00:01\r\u001b[K     |█████████████████               | 645 kB 7.4 MB/s eta 0:00:01\r\u001b[K     |█████████████████▎              | 655 kB 7.4 MB/s eta 0:00:01\r\u001b[K     |█████████████████▌              | 665 kB 7.4 MB/s eta 0:00:01\r\u001b[K     |█████████████████▉              | 675 kB 7.4 MB/s eta 0:00:01\r\u001b[K     |██████████████████              | 686 kB 7.4 MB/s eta 0:00:01\r\u001b[K     |██████████████████▍             | 696 kB 7.4 MB/s eta 0:00:01\r\u001b[K     |██████████████████▋             | 706 kB 7.4 MB/s eta 0:00:01\r\u001b[K     |███████████████████             | 716 kB 7.4 MB/s eta 0:00:01\r\u001b[K     |███████████████████▏            | 727 kB 7.4 MB/s eta 0:00:01\r\u001b[K     |███████████████████▍            | 737 kB 7.4 MB/s eta 0:00:01\r\u001b[K     |███████████████████▊            | 747 kB 7.4 MB/s eta 0:00:01\r\u001b[K     |████████████████████            | 757 kB 7.4 MB/s eta 0:00:01\r\u001b[K     |████████████████████▎           | 768 kB 7.4 MB/s eta 0:00:01\r\u001b[K     |████████████████████▌           | 778 kB 7.4 MB/s eta 0:00:01\r\u001b[K     |████████████████████▉           | 788 kB 7.4 MB/s eta 0:00:01\r\u001b[K     |█████████████████████           | 798 kB 7.4 MB/s eta 0:00:01\r\u001b[K     |█████████████████████▎          | 808 kB 7.4 MB/s eta 0:00:01\r\u001b[K     |█████████████████████▋          | 819 kB 7.4 MB/s eta 0:00:01\r\u001b[K     |█████████████████████▉          | 829 kB 7.4 MB/s eta 0:00:01\r\u001b[K     |██████████████████████▏         | 839 kB 7.4 MB/s eta 0:00:01\r\u001b[K     |██████████████████████▍         | 849 kB 7.4 MB/s eta 0:00:01\r\u001b[K     |██████████████████████▊         | 860 kB 7.4 MB/s eta 0:00:01\r\u001b[K     |███████████████████████         | 870 kB 7.4 MB/s eta 0:00:01\r\u001b[K     |███████████████████████▏        | 880 kB 7.4 MB/s eta 0:00:01\r\u001b[K     |███████████████████████▌        | 890 kB 7.4 MB/s eta 0:00:01\r\u001b[K     |███████████████████████▊        | 901 kB 7.4 MB/s eta 0:00:01\r\u001b[K     |████████████████████████        | 911 kB 7.4 MB/s eta 0:00:01\r\u001b[K     |████████████████████████▎       | 921 kB 7.4 MB/s eta 0:00:01\r\u001b[K     |████████████████████████▋       | 931 kB 7.4 MB/s eta 0:00:01\r\u001b[K     |████████████████████████▉       | 942 kB 7.4 MB/s eta 0:00:01\r\u001b[K     |█████████████████████████       | 952 kB 7.4 MB/s eta 0:00:01\r\u001b[K     |█████████████████████████▍      | 962 kB 7.4 MB/s eta 0:00:01\r\u001b[K     |█████████████████████████▋      | 972 kB 7.4 MB/s eta 0:00:01\r\u001b[K     |██████████████████████████      | 983 kB 7.4 MB/s eta 0:00:01\r\u001b[K     |██████████████████████████▏     | 993 kB 7.4 MB/s eta 0:00:01\r\u001b[K     |██████████████████████████▌     | 1.0 MB 7.4 MB/s eta 0:00:01\r\u001b[K     |██████████████████████████▊     | 1.0 MB 7.4 MB/s eta 0:00:01\r\u001b[K     |███████████████████████████     | 1.0 MB 7.4 MB/s eta 0:00:01\r\u001b[K     |███████████████████████████▎    | 1.0 MB 7.4 MB/s eta 0:00:01\r\u001b[K     |███████████████████████████▌    | 1.0 MB 7.4 MB/s eta 0:00:01\r\u001b[K     |███████████████████████████▉    | 1.1 MB 7.4 MB/s eta 0:00:01\r\u001b[K     |████████████████████████████    | 1.1 MB 7.4 MB/s eta 0:00:01\r\u001b[K     |████████████████████████████▍   | 1.1 MB 7.4 MB/s eta 0:00:01\r\u001b[K     |████████████████████████████▋   | 1.1 MB 7.4 MB/s eta 0:00:01\r\u001b[K     |████████████████████████████▉   | 1.1 MB 7.4 MB/s eta 0:00:01\r\u001b[K     |█████████████████████████████▏  | 1.1 MB 7.4 MB/s eta 0:00:01\r\u001b[K     |█████████████████████████████▍  | 1.1 MB 7.4 MB/s eta 0:00:01\r\u001b[K     |█████████████████████████████▊  | 1.1 MB 7.4 MB/s eta 0:00:01\r\u001b[K     |██████████████████████████████  | 1.1 MB 7.4 MB/s eta 0:00:01\r\u001b[K     |██████████████████████████████▎ | 1.1 MB 7.4 MB/s eta 0:00:01\r\u001b[K     |██████████████████████████████▌ | 1.2 MB 7.4 MB/s eta 0:00:01\r\u001b[K     |██████████████████████████████▊ | 1.2 MB 7.4 MB/s eta 0:00:01\r\u001b[K     |███████████████████████████████ | 1.2 MB 7.4 MB/s eta 0:00:01\r\u001b[K     |███████████████████████████████▎| 1.2 MB 7.4 MB/s eta 0:00:01\r\u001b[K     |███████████████████████████████▋| 1.2 MB 7.4 MB/s eta 0:00:01\r\u001b[K     |███████████████████████████████▉| 1.2 MB 7.4 MB/s eta 0:00:01\r\u001b[K     |████████████████████████████████| 1.2 MB 7.4 MB/s \n",
            "\u001b[?25hInstalling collected packages: sentencepiece\n",
            "Successfully installed sentencepiece-0.1.96\n"
          ],
          "name": "stdout"
        }
      ]
    },
    {
      "cell_type": "code",
      "metadata": {
        "colab": {
          "base_uri": "https://localhost:8080/"
        },
        "id": "wMH2UJG0qYZq",
        "outputId": "5a95f485-a789-4bbb-fe74-3c5054287be9"
      },
      "source": [
        "pip install bert-serving-client"
      ],
      "execution_count": null,
      "outputs": [
        {
          "output_type": "stream",
          "text": [
            "Collecting bert-serving-client\n",
            "  Downloading bert_serving_client-1.10.0-py2.py3-none-any.whl (28 kB)\n",
            "Requirement already satisfied: pyzmq>=17.1.0 in /usr/local/lib/python3.7/dist-packages (from bert-serving-client) (22.1.0)\n",
            "Requirement already satisfied: numpy in /usr/local/lib/python3.7/dist-packages (from bert-serving-client) (1.19.5)\n",
            "Installing collected packages: bert-serving-client\n",
            "Successfully installed bert-serving-client-1.10.0\n"
          ],
          "name": "stdout"
        }
      ]
    },
    {
      "cell_type": "code",
      "metadata": {
        "colab": {
          "base_uri": "https://localhost:8080/"
        },
        "id": "hr1dZXUUqZC2",
        "outputId": "b96fddfe-6661-46eb-940d-9cd8ccf56120"
      },
      "source": [
        "pip install -U bert-serving-server[http]"
      ],
      "execution_count": null,
      "outputs": [
        {
          "output_type": "stream",
          "text": [
            "Collecting bert-serving-server[http]\n",
            "  Downloading bert_serving_server-1.10.0-py3-none-any.whl (61 kB)\n",
            "\u001b[?25l\r\u001b[K     |█████▎                          | 10 kB 31.3 MB/s eta 0:00:01\r\u001b[K     |██████████▋                     | 20 kB 27.6 MB/s eta 0:00:01\r\u001b[K     |████████████████                | 30 kB 20.0 MB/s eta 0:00:01\r\u001b[K     |█████████████████████▎          | 40 kB 17.2 MB/s eta 0:00:01\r\u001b[K     |██████████████████████████▋     | 51 kB 8.1 MB/s eta 0:00:01\r\u001b[K     |███████████████████████████████▉| 61 kB 9.4 MB/s eta 0:00:01\r\u001b[K     |████████████████████████████████| 61 kB 281 kB/s \n",
            "\u001b[?25hRequirement already satisfied: pyzmq>=17.1.0 in /usr/local/lib/python3.7/dist-packages (from bert-serving-server[http]) (22.1.0)\n",
            "Requirement already satisfied: termcolor>=1.1 in /usr/local/lib/python3.7/dist-packages (from bert-serving-server[http]) (1.1.0)\n",
            "Requirement already satisfied: numpy in /usr/local/lib/python3.7/dist-packages (from bert-serving-server[http]) (1.19.5)\n",
            "Collecting GPUtil>=1.3.0\n",
            "  Downloading GPUtil-1.4.0.tar.gz (5.5 kB)\n",
            "Requirement already satisfied: six in /usr/local/lib/python3.7/dist-packages (from bert-serving-server[http]) (1.15.0)\n",
            "Collecting flask-cors\n",
            "  Downloading Flask_Cors-3.0.10-py2.py3-none-any.whl (14 kB)\n",
            "Collecting flask-compress\n",
            "  Downloading Flask_Compress-1.10.1-py3-none-any.whl (7.9 kB)\n",
            "Collecting flask-json\n",
            "  Downloading Flask_JSON-0.3.4-py3-none-any.whl (9.0 kB)\n",
            "Requirement already satisfied: flask in /usr/local/lib/python3.7/dist-packages (from bert-serving-server[http]) (1.1.4)\n",
            "Requirement already satisfied: bert-serving-client in /usr/local/lib/python3.7/dist-packages (from bert-serving-server[http]) (1.10.0)\n",
            "Requirement already satisfied: itsdangerous<2.0,>=0.24 in /usr/local/lib/python3.7/dist-packages (from flask->bert-serving-server[http]) (1.1.0)\n",
            "Requirement already satisfied: click<8.0,>=5.1 in /usr/local/lib/python3.7/dist-packages (from flask->bert-serving-server[http]) (7.1.2)\n",
            "Requirement already satisfied: Jinja2<3.0,>=2.10.1 in /usr/local/lib/python3.7/dist-packages (from flask->bert-serving-server[http]) (2.11.3)\n",
            "Requirement already satisfied: Werkzeug<2.0,>=0.15 in /usr/local/lib/python3.7/dist-packages (from flask->bert-serving-server[http]) (1.0.1)\n",
            "Requirement already satisfied: MarkupSafe>=0.23 in /usr/local/lib/python3.7/dist-packages (from Jinja2<3.0,>=2.10.1->flask->bert-serving-server[http]) (2.0.1)\n",
            "Collecting brotli\n",
            "  Downloading Brotli-1.0.9-cp37-cp37m-manylinux1_x86_64.whl (357 kB)\n",
            "\u001b[K     |████████████████████████████████| 357 kB 17.9 MB/s \n",
            "\u001b[?25hBuilding wheels for collected packages: GPUtil\n",
            "  Building wheel for GPUtil (setup.py) ... \u001b[?25l\u001b[?25hdone\n",
            "  Created wheel for GPUtil: filename=GPUtil-1.4.0-py3-none-any.whl size=7410 sha256=612f1b900bda228bad0b1332d40235dd4172f98ca580adc1dc35a5438b63e0e5\n",
            "  Stored in directory: /root/.cache/pip/wheels/6e/f8/83/534c52482d6da64622ddbf72cd93c35d2ef2881b78fd08ff0c\n",
            "Successfully built GPUtil\n",
            "Installing collected packages: GPUtil, brotli, flask-json, flask-cors, flask-compress, bert-serving-server\n",
            "Successfully installed GPUtil-1.4.0 bert-serving-server-1.10.0 brotli-1.0.9 flask-compress-1.10.1 flask-cors-3.0.10 flask-json-0.3.4\n"
          ],
          "name": "stdout"
        }
      ]
    },
    {
      "cell_type": "code",
      "metadata": {
        "colab": {
          "base_uri": "https://localhost:8080/"
        },
        "id": "6EfopOCpqbj7",
        "outputId": "b2bb56ec-8e6e-45be-963d-7efc07c88fc4"
      },
      "source": [
        "#Download a model listed below, then uncompress the zip file into some folder, say /tmp/english_L-12_H-768_A-12/\n",
        "!wget https://storage.googleapis.com/bert_models/2018_10_18/uncased_L-12_H-768_A-12.zip"
      ],
      "execution_count": null,
      "outputs": [
        {
          "output_type": "stream",
          "text": [
            "--2021-07-29 19:48:27--  https://storage.googleapis.com/bert_models/2018_10_18/uncased_L-12_H-768_A-12.zip\n",
            "Resolving storage.googleapis.com (storage.googleapis.com)... 142.250.141.128, 142.251.2.128, 2607:f8b0:4023:c06::80, ...\n",
            "Connecting to storage.googleapis.com (storage.googleapis.com)|142.250.141.128|:443... connected.\n",
            "HTTP request sent, awaiting response... 200 OK\n",
            "Length: 407727028 (389M) [application/zip]\n",
            "Saving to: ‘uncased_L-12_H-768_A-12.zip’\n",
            "\n",
            "uncased_L-12_H-768_ 100%[===================>] 388.84M   151MB/s    in 2.6s    \n",
            "\n",
            "2021-07-29 19:48:29 (151 MB/s) - ‘uncased_L-12_H-768_A-12.zip’ saved [407727028/407727028]\n",
            "\n"
          ],
          "name": "stdout"
        }
      ]
    },
    {
      "cell_type": "code",
      "metadata": {
        "colab": {
          "base_uri": "https://localhost:8080/"
        },
        "id": "3jYrsRz2qhP9",
        "outputId": "f690fa57-8f53-4d96-aa18-97629253fdd8"
      },
      "source": [
        "!unzip uncased_L-12_H-768_A-12.zip"
      ],
      "execution_count": null,
      "outputs": [
        {
          "output_type": "stream",
          "text": [
            "Archive:  uncased_L-12_H-768_A-12.zip\n",
            "   creating: uncased_L-12_H-768_A-12/\n",
            "  inflating: uncased_L-12_H-768_A-12/bert_model.ckpt.meta  \n",
            "  inflating: uncased_L-12_H-768_A-12/bert_model.ckpt.data-00000-of-00001  \n",
            "  inflating: uncased_L-12_H-768_A-12/vocab.txt  \n",
            "  inflating: uncased_L-12_H-768_A-12/bert_model.ckpt.index  \n",
            "  inflating: uncased_L-12_H-768_A-12/bert_config.json  \n"
          ],
          "name": "stdout"
        }
      ]
    },
    {
      "cell_type": "code",
      "metadata": {
        "colab": {
          "base_uri": "https://localhost:8080/"
        },
        "id": "M_l7W-LKqjdJ",
        "outputId": "7fc2f221-630f-46d1-dee4-69d00fd5b5ff"
      },
      "source": [
        "%tensorflow_version 1.x"
      ],
      "execution_count": null,
      "outputs": [
        {
          "output_type": "stream",
          "text": [
            "TensorFlow 1.x selected.\n"
          ],
          "name": "stdout"
        }
      ]
    },
    {
      "cell_type": "code",
      "metadata": {
        "id": "SmBvN4Q3qmIn"
      },
      "source": [
        "!nohup bert-serving-start -model_dir=./uncased_L-12_H-768_A-12 > out.file 2>&1 -max_seq_len=512 &"
      ],
      "execution_count": null,
      "outputs": []
    },
    {
      "cell_type": "code",
      "metadata": {
        "id": "aNbM7umjqpht"
      },
      "source": [
        "from bert_serving.client import BertClient\n",
        "bc = BertClient()"
      ],
      "execution_count": null,
      "outputs": []
    },
    {
      "cell_type": "markdown",
      "metadata": {
        "id": "NG0Pgluzob-V"
      },
      "source": [
        "#Import Libraries"
      ]
    },
    {
      "cell_type": "code",
      "metadata": {
        "colab": {
          "base_uri": "https://localhost:8080/"
        },
        "id": "fMb8S5qonYbN",
        "outputId": "4bbc4a9e-71ca-49f0-bbe3-f9a9d3cd4efe"
      },
      "source": [
        "import texthero as hero\n",
        "import pandas as pd\n",
        "import difflib\n",
        "import numpy as np"
      ],
      "execution_count": null,
      "outputs": [
        {
          "output_type": "stream",
          "text": [
            "[nltk_data] Downloading package stopwords to /root/nltk_data...\n",
            "[nltk_data]   Unzipping corpora/stopwords.zip.\n"
          ],
          "name": "stderr"
        }
      ]
    },
    {
      "cell_type": "code",
      "metadata": {
        "id": "a1wTz8FHxxHR"
      },
      "source": [
        "import sklearn\n",
        "from sklearn.metrics.pairwise import cosine_similarity;"
      ],
      "execution_count": null,
      "outputs": []
    },
    {
      "cell_type": "markdown",
      "metadata": {
        "id": "ZT5tBAEEo6dH"
      },
      "source": [
        "#Read Data"
      ]
    },
    {
      "cell_type": "code",
      "metadata": {
        "id": "sz_5y7LUnarf"
      },
      "source": [
        "df_old= pd.read_excel(\"AT&T_current_policy.xlsx\")\n",
        "df_new= pd.read_excel(\"AT&T_previous_policy.xlsx\")"
      ],
      "execution_count": null,
      "outputs": []
    },
    {
      "cell_type": "code",
      "metadata": {
        "id": "lEv_im5Wnd1k"
      },
      "source": [
        "df_old['clean_text'] = hero.clean(df_old['policy'])\n",
        "df_new['clean_text'] = hero.clean(df_new['policy'])"
      ],
      "execution_count": null,
      "outputs": []
    },
    {
      "cell_type": "markdown",
      "metadata": {
        "id": "iXy76SnSpETo"
      },
      "source": [
        "#Create Embeddings"
      ]
    },
    {
      "cell_type": "markdown",
      "metadata": {
        "id": "hJhxiRD2xWuj"
      },
      "source": [
        "## BERT Embeddings"
      ]
    },
    {
      "cell_type": "code",
      "metadata": {
        "colab": {
          "base_uri": "https://localhost:8080/"
        },
        "id": "cG9d6VOGyQ0F",
        "outputId": "ad01ca5e-63e0-450c-ae3a-2123f139dce3"
      },
      "source": [
        "#Find similarity using bert embeddings\n",
        "df_new['Change_Score_BERT']=[None] * len(df_old['clean_text'])\n",
        "for i in range(len(df_old['clean_text'])):\n",
        "  sim=cosine_similarity(bc.encode([df_old['clean_text'][i]]),bc.encode([df_new['clean_text'][i]]))\n",
        "  print(sim)\n",
        "  df_new['Change_Score_BERT'][i]=1-sim"
      ],
      "execution_count": null,
      "outputs": [
        {
          "output_type": "stream",
          "text": [
            "[[0.9995442]]\n",
            "[[0.9783828]]\n",
            "[[0.99387085]]\n",
            "[[0.9082613]]\n",
            "[[0.9967585]]\n"
          ],
          "name": "stdout"
        }
      ]
    },
    {
      "cell_type": "code",
      "metadata": {
        "colab": {
          "base_uri": "https://localhost:8080/",
          "height": 204
        },
        "id": "KRBRPAGg0WVG",
        "outputId": "70112a08-6510-4ec5-8c0a-135200085ddb"
      },
      "source": [
        "df_new"
      ],
      "execution_count": null,
      "outputs": [
        {
          "output_type": "execute_result",
          "data": {
            "text/html": [
              "<div>\n",
              "<style scoped>\n",
              "    .dataframe tbody tr th:only-of-type {\n",
              "        vertical-align: middle;\n",
              "    }\n",
              "\n",
              "    .dataframe tbody tr th {\n",
              "        vertical-align: top;\n",
              "    }\n",
              "\n",
              "    .dataframe thead th {\n",
              "        text-align: right;\n",
              "    }\n",
              "</style>\n",
              "<table border=\"1\" class=\"dataframe\">\n",
              "  <thead>\n",
              "    <tr style=\"text-align: right;\">\n",
              "      <th></th>\n",
              "      <th>topic</th>\n",
              "      <th>policy</th>\n",
              "      <th>clean_text</th>\n",
              "      <th>Change_Score_BERT</th>\n",
              "    </tr>\n",
              "  </thead>\n",
              "  <tbody>\n",
              "    <tr>\n",
              "      <th>0</th>\n",
              "      <td>Payment Terms Introduction</td>\n",
              "      <td>Services purchased using AutoPay are subject t...</td>\n",
              "      <td>services purchased using autopay subject prepa...</td>\n",
              "      <td>[[0.00045579672]]</td>\n",
              "    </tr>\n",
              "    <tr>\n",
              "      <th>1</th>\n",
              "      <td>Account Authorization</td>\n",
              "      <td>By entering your checking account, credit card...</td>\n",
              "      <td>entering checking account credit card debit ca...</td>\n",
              "      <td>[[0.021617174]]</td>\n",
              "    </tr>\n",
              "    <tr>\n",
              "      <th>2</th>\n",
              "      <td>AutoPay</td>\n",
              "      <td>Account holders on a monthly plan will be noti...</td>\n",
              "      <td>account holders monthly plan notified via sms ...</td>\n",
              "      <td>[[0.0061291456]]</td>\n",
              "    </tr>\n",
              "    <tr>\n",
              "      <th>3</th>\n",
              "      <td>AutoPay details</td>\n",
              "      <td>This authorization will remain in effect until...</td>\n",
              "      <td>authorization remain effect cancel may cancel ...</td>\n",
              "      <td>[[0.0917387]]</td>\n",
              "    </tr>\n",
              "    <tr>\n",
              "      <th>4</th>\n",
              "      <td>ELECTRONIC COMMUNICATION CONSENT</td>\n",
              "      <td>By clicking Agree as Your electronic signature...</td>\n",
              "      <td>clicking agree electronic signature consent re...</td>\n",
              "      <td>[[0.0032414794]]</td>\n",
              "    </tr>\n",
              "  </tbody>\n",
              "</table>\n",
              "</div>"
            ],
            "text/plain": [
              "                              topic  ...  Change_Score_BERT\n",
              "0        Payment Terms Introduction  ...  [[0.00045579672]]\n",
              "1             Account Authorization  ...    [[0.021617174]]\n",
              "2                           AutoPay  ...   [[0.0061291456]]\n",
              "3                   AutoPay details  ...      [[0.0917387]]\n",
              "4  ELECTRONIC COMMUNICATION CONSENT  ...   [[0.0032414794]]\n",
              "\n",
              "[5 rows x 4 columns]"
            ]
          },
          "metadata": {
            "tags": []
          },
          "execution_count": 16
        }
      ]
    },
    {
      "cell_type": "markdown",
      "metadata": {
        "id": "i1y1wL6x8HNA"
      },
      "source": [
        "## Run for bert_ktrain"
      ]
    },
    {
      "cell_type": "code",
      "metadata": {
        "colab": {
          "base_uri": "https://localhost:8080/",
          "height": 547
        },
        "id": "AyVm8ctc6rpY",
        "outputId": "ae05fbf5-023d-47e4-b990-a2b13b7468da"
      },
      "source": [
        "df_xtrain_bert_embeddings= pd.read_excel(\"changedPolicy_AT&T_bert_and_ktrain.xlsx\")\n",
        "df_xtrain_bert_embeddings.head()"
      ],
      "execution_count": null,
      "outputs": [
        {
          "output_type": "execute_result",
          "data": {
            "text/html": [
              "<div>\n",
              "<style scoped>\n",
              "    .dataframe tbody tr th:only-of-type {\n",
              "        vertical-align: middle;\n",
              "    }\n",
              "\n",
              "    .dataframe tbody tr th {\n",
              "        vertical-align: top;\n",
              "    }\n",
              "\n",
              "    .dataframe thead th {\n",
              "        text-align: right;\n",
              "    }\n",
              "</style>\n",
              "<table border=\"1\" class=\"dataframe\">\n",
              "  <thead>\n",
              "    <tr style=\"text-align: right;\">\n",
              "      <th></th>\n",
              "      <th>Unnamed: 0</th>\n",
              "      <th>PolicyNumber</th>\n",
              "      <th>Severity</th>\n",
              "      <th>Question</th>\n",
              "      <th>Expected_PreviousPolicy_Answer</th>\n",
              "      <th>Expected_CurrentPolicy_Answer</th>\n",
              "      <th>Answer_PreviousPolicy</th>\n",
              "      <th>Answer_CurrentPolicy</th>\n",
              "      <th>Change_Score_TF_IDF</th>\n",
              "      <th>updated_Summary</th>\n",
              "    </tr>\n",
              "  </thead>\n",
              "  <tbody>\n",
              "    <tr>\n",
              "      <th>0</th>\n",
              "      <td>0</td>\n",
              "      <td>0</td>\n",
              "      <td>2</td>\n",
              "      <td>Is the AutoPay amount refundable?</td>\n",
              "      <td>NaN</td>\n",
              "      <td>NaN</td>\n",
              "      <td>account balance is not refundable and is forfe...</td>\n",
              "      <td>account balance is not refundable and is forfe...</td>\n",
              "      <td>[[0.7211626]]</td>\n",
              "      <td>Services purchased using AutoPay are subject t...</td>\n",
              "    </tr>\n",
              "    <tr>\n",
              "      <th>1</th>\n",
              "      <td>1</td>\n",
              "      <td>0</td>\n",
              "      <td>9</td>\n",
              "      <td>When will my account get cancelled?</td>\n",
              "      <td>NaN</td>\n",
              "      <td>NaN</td>\n",
              "      <td>accounts will be cancelled 60 days after expir...</td>\n",
              "      <td>accounts will be cancelled 60 days after expir...</td>\n",
              "      <td>[[0.18677966]]</td>\n",
              "      <td>Services purchased using AutoPay are subject t...</td>\n",
              "    </tr>\n",
              "    <tr>\n",
              "      <th>2</th>\n",
              "      <td>2</td>\n",
              "      <td>1</td>\n",
              "      <td>8</td>\n",
              "      <td>What are different payment methods for AutoPay?</td>\n",
              "      <td>NaN</td>\n",
              "      <td>NaN</td>\n",
              "      <td>you agree to keep your payment method informat...</td>\n",
              "      <td>you agree to keep your payment method informat...</td>\n",
              "      <td>[[0.15428874]]</td>\n",
              "      <td>Account holders on a monthly plan will be char...</td>\n",
              "    </tr>\n",
              "    <tr>\n",
              "      <th>3</th>\n",
              "      <td>3</td>\n",
              "      <td>1</td>\n",
              "      <td>1</td>\n",
              "      <td>Do you store payment method information?</td>\n",
              "      <td>NaN</td>\n",
              "      <td>NaN</td>\n",
              "      <td>you agree to keep your payment method informat...</td>\n",
              "      <td>you agree to keep your payment method informat...</td>\n",
              "      <td>[[0.15428874]]</td>\n",
              "      <td>Account holders on a monthly plan will be char...</td>\n",
              "    </tr>\n",
              "    <tr>\n",
              "      <th>4</th>\n",
              "      <td>4</td>\n",
              "      <td>1</td>\n",
              "      <td>12</td>\n",
              "      <td>How often do I need to pay for monthly plans?</td>\n",
              "      <td>NaN</td>\n",
              "      <td>NaN</td>\n",
              "      <td>monthly plans may require a payment each month...</td>\n",
              "      <td>monthly plans may require a payment each month...</td>\n",
              "      <td>[[0.22402846]]</td>\n",
              "      <td>Account holders on a monthly plan will be char...</td>\n",
              "    </tr>\n",
              "  </tbody>\n",
              "</table>\n",
              "</div>"
            ],
            "text/plain": [
              "   Unnamed: 0  ...                                    updated_Summary\n",
              "0           0  ...  Services purchased using AutoPay are subject t...\n",
              "1           1  ...  Services purchased using AutoPay are subject t...\n",
              "2           2  ...  Account holders on a monthly plan will be char...\n",
              "3           3  ...  Account holders on a monthly plan will be char...\n",
              "4           4  ...  Account holders on a monthly plan will be char...\n",
              "\n",
              "[5 rows x 10 columns]"
            ]
          },
          "metadata": {
            "tags": []
          },
          "execution_count": 33
        }
      ]
    },
    {
      "cell_type": "code",
      "metadata": {
        "id": "BPtZ52407FZP"
      },
      "source": [
        "#Find similarity using bert embeddings\n",
        "df_xtrain_bert_embeddings['Change_Score_BERT']=[None] * len(df_xtrain_bert_embeddings['Question'])\n",
        "for i in range(len(df_xtrain_bert_embeddings['Question'])):\n",
        "  sim=cosine_similarity(bc.encode([df_xtrain_bert_embeddings['Answer_PreviousPolicy'][i]]),bc.encode([df_xtrain_bert_embeddings['Answer_CurrentPolicy'][i]]))\n",
        "  print(sim)\n",
        "  df_xtrain_bert_embeddings['Change_Score_BERT'][i]=1-sim"
      ],
      "execution_count": null,
      "outputs": []
    },
    {
      "cell_type": "code",
      "metadata": {
        "colab": {
          "base_uri": "https://localhost:8080/",
          "height": 1000
        },
        "id": "e6_EHvxm7iE_",
        "outputId": "21aebe1f-7e4b-4d2b-8201-f9550cf3945a"
      },
      "source": [
        "df_xtrain_bert_embeddings"
      ],
      "execution_count": null,
      "outputs": [
        {
          "output_type": "execute_result",
          "data": {
            "text/html": [
              "<div>\n",
              "<style scoped>\n",
              "    .dataframe tbody tr th:only-of-type {\n",
              "        vertical-align: middle;\n",
              "    }\n",
              "\n",
              "    .dataframe tbody tr th {\n",
              "        vertical-align: top;\n",
              "    }\n",
              "\n",
              "    .dataframe thead th {\n",
              "        text-align: right;\n",
              "    }\n",
              "</style>\n",
              "<table border=\"1\" class=\"dataframe\">\n",
              "  <thead>\n",
              "    <tr style=\"text-align: right;\">\n",
              "      <th></th>\n",
              "      <th>Unnamed: 0</th>\n",
              "      <th>PolicyNumber</th>\n",
              "      <th>Severity</th>\n",
              "      <th>Question</th>\n",
              "      <th>Expected_PreviousPolicy_Answer</th>\n",
              "      <th>Expected_CurrentPolicy_Answer</th>\n",
              "      <th>Answer_PreviousPolicy</th>\n",
              "      <th>Answer_CurrentPolicy</th>\n",
              "      <th>Change_Score_TF_IDF</th>\n",
              "      <th>updated_Summary</th>\n",
              "      <th>Change_Score_BERT</th>\n",
              "    </tr>\n",
              "  </thead>\n",
              "  <tbody>\n",
              "    <tr>\n",
              "      <th>0</th>\n",
              "      <td>0</td>\n",
              "      <td>0</td>\n",
              "      <td>2</td>\n",
              "      <td>Is the AutoPay amount refundable?</td>\n",
              "      <td>NaN</td>\n",
              "      <td>NaN</td>\n",
              "      <td>account balance is not refundable and is forfe...</td>\n",
              "      <td>account balance is not refundable and is forfe...</td>\n",
              "      <td>[[0.7211626]]</td>\n",
              "      <td>Services purchased using AutoPay are subject t...</td>\n",
              "      <td>[[-1.1920929e-07]]</td>\n",
              "    </tr>\n",
              "    <tr>\n",
              "      <th>1</th>\n",
              "      <td>1</td>\n",
              "      <td>0</td>\n",
              "      <td>9</td>\n",
              "      <td>When will my account get cancelled?</td>\n",
              "      <td>NaN</td>\n",
              "      <td>NaN</td>\n",
              "      <td>accounts will be cancelled 60 days after expir...</td>\n",
              "      <td>accounts will be cancelled 60 days after expir...</td>\n",
              "      <td>[[0.18677966]]</td>\n",
              "      <td>Services purchased using AutoPay are subject t...</td>\n",
              "      <td>[[0.0]]</td>\n",
              "    </tr>\n",
              "    <tr>\n",
              "      <th>2</th>\n",
              "      <td>2</td>\n",
              "      <td>1</td>\n",
              "      <td>8</td>\n",
              "      <td>What are different payment methods for AutoPay?</td>\n",
              "      <td>NaN</td>\n",
              "      <td>NaN</td>\n",
              "      <td>you agree to keep your payment method informat...</td>\n",
              "      <td>you agree to keep your payment method informat...</td>\n",
              "      <td>[[0.15428874]]</td>\n",
              "      <td>Account holders on a monthly plan will be char...</td>\n",
              "      <td>[[0.0]]</td>\n",
              "    </tr>\n",
              "    <tr>\n",
              "      <th>3</th>\n",
              "      <td>3</td>\n",
              "      <td>1</td>\n",
              "      <td>1</td>\n",
              "      <td>Do you store payment method information?</td>\n",
              "      <td>NaN</td>\n",
              "      <td>NaN</td>\n",
              "      <td>you agree to keep your payment method informat...</td>\n",
              "      <td>you agree to keep your payment method informat...</td>\n",
              "      <td>[[0.15428874]]</td>\n",
              "      <td>Account holders on a monthly plan will be char...</td>\n",
              "      <td>[[0.0]]</td>\n",
              "    </tr>\n",
              "    <tr>\n",
              "      <th>4</th>\n",
              "      <td>4</td>\n",
              "      <td>1</td>\n",
              "      <td>12</td>\n",
              "      <td>How often do I need to pay for monthly plans?</td>\n",
              "      <td>NaN</td>\n",
              "      <td>NaN</td>\n",
              "      <td>monthly plans may require a payment each month...</td>\n",
              "      <td>monthly plans may require a payment each month...</td>\n",
              "      <td>[[0.22402846]]</td>\n",
              "      <td>Account holders on a monthly plan will be char...</td>\n",
              "      <td>[[1.1920929e-07]]</td>\n",
              "    </tr>\n",
              "    <tr>\n",
              "      <th>5</th>\n",
              "      <td>5</td>\n",
              "      <td>1</td>\n",
              "      <td>7</td>\n",
              "      <td>I have a monthly plan. When will I be charged?</td>\n",
              "      <td>NaN</td>\n",
              "      <td>NaN</td>\n",
              "      <td>account holders on a monthly plan will be char...</td>\n",
              "      <td>account holders on a monthly plan will be char...</td>\n",
              "      <td>[[0.18691898]]</td>\n",
              "      <td>Account holders on a monthly plan will be char...</td>\n",
              "      <td>[[-2.3841858e-07]]</td>\n",
              "    </tr>\n",
              "    <tr>\n",
              "      <th>6</th>\n",
              "      <td>6</td>\n",
              "      <td>2</td>\n",
              "      <td>4</td>\n",
              "      <td>I have a monthly plan. Do you send any notice ...</td>\n",
              "      <td>NaN</td>\n",
              "      <td>NaN</td>\n",
              "      <td>account holders on a monthly plan will be noti...</td>\n",
              "      <td>account holders on a monthly plan will be noti...</td>\n",
              "      <td>[[0.10865754]]</td>\n",
              "      <td>Account holders on a monthly plan will be noti...</td>\n",
              "      <td>[[0.0]]</td>\n",
              "    </tr>\n",
              "    <tr>\n",
              "      <th>7</th>\n",
              "      <td>7</td>\n",
              "      <td>3</td>\n",
              "      <td>13</td>\n",
              "      <td>How will AutoPay cancellation affect?</td>\n",
              "      <td>NaN</td>\n",
              "      <td>NaN</td>\n",
              "      <td>auto pay cancellation or unsuccessful payment ...</td>\n",
              "      <td>auto pay cancellation or unsuccessful payment ...</td>\n",
              "      <td>[[0.40232214]]</td>\n",
              "      <td>This authorization will remain in effect until...</td>\n",
              "      <td>[[0.0]]</td>\n",
              "    </tr>\n",
              "    <tr>\n",
              "      <th>8</th>\n",
              "      <td>8</td>\n",
              "      <td>3</td>\n",
              "      <td>3</td>\n",
              "      <td>Does AT&amp;T keep my card information?</td>\n",
              "      <td>NaN</td>\n",
              "      <td>NaN</td>\n",
              "      <td>you agree to keep your payment method informat...</td>\n",
              "      <td>you agree to keep your payment method informat...</td>\n",
              "      <td>[[0.15428874]]</td>\n",
              "      <td>This authorization will remain in effect until...</td>\n",
              "      <td>[[0.0]]</td>\n",
              "    </tr>\n",
              "    <tr>\n",
              "      <th>9</th>\n",
              "      <td>9</td>\n",
              "      <td>3</td>\n",
              "      <td>10</td>\n",
              "      <td>What will happen if I have insufficient funds ...</td>\n",
              "      <td>NaN</td>\n",
              "      <td>NaN</td>\n",
              "      <td>you can withdraw your consent at any time by c...</td>\n",
              "      <td>you can withdraw your consent at any time by c...</td>\n",
              "      <td>[[0.30445454]]</td>\n",
              "      <td>This authorization will remain in effect until...</td>\n",
              "      <td>[[-1.1920929e-07]]</td>\n",
              "    </tr>\n",
              "    <tr>\n",
              "      <th>10</th>\n",
              "      <td>10</td>\n",
              "      <td>4</td>\n",
              "      <td>6</td>\n",
              "      <td>How will I know that I am using AutoPay method...</td>\n",
              "      <td>NaN</td>\n",
              "      <td>NaN</td>\n",
              "      <td>this payment is not returnable, transferable o...</td>\n",
              "      <td>payments are not returnable, transferable or e...</td>\n",
              "      <td>[[0.96469955]]</td>\n",
              "      <td>In order to receive communications electronica...</td>\n",
              "      <td>[[0.19746459]]</td>\n",
              "    </tr>\n",
              "    <tr>\n",
              "      <th>11</th>\n",
              "      <td>11</td>\n",
              "      <td>4</td>\n",
              "      <td>5</td>\n",
              "      <td>What kind consents I am giving to AT&amp;T?</td>\n",
              "      <td>NaN</td>\n",
              "      <td>NaN</td>\n",
              "      <td>No Answer</td>\n",
              "      <td>No Answer</td>\n",
              "      <td>[[1.]]</td>\n",
              "      <td>In order to receive communications electronica...</td>\n",
              "      <td>[[-1.1920929e-07]]</td>\n",
              "    </tr>\n",
              "    <tr>\n",
              "      <th>12</th>\n",
              "      <td>12</td>\n",
              "      <td>4</td>\n",
              "      <td>11</td>\n",
              "      <td>How will AT&amp;T communicate with me?</td>\n",
              "      <td>NaN</td>\n",
              "      <td>NaN</td>\n",
              "      <td>No Answer</td>\n",
              "      <td>No Answer</td>\n",
              "      <td>[[1.]]</td>\n",
              "      <td>In order to receive communications electronica...</td>\n",
              "      <td>[[-1.1920929e-07]]</td>\n",
              "    </tr>\n",
              "  </tbody>\n",
              "</table>\n",
              "</div>"
            ],
            "text/plain": [
              "    Unnamed: 0  ...   Change_Score_BERT\n",
              "0            0  ...  [[-1.1920929e-07]]\n",
              "1            1  ...             [[0.0]]\n",
              "2            2  ...             [[0.0]]\n",
              "3            3  ...             [[0.0]]\n",
              "4            4  ...   [[1.1920929e-07]]\n",
              "5            5  ...  [[-2.3841858e-07]]\n",
              "6            6  ...             [[0.0]]\n",
              "7            7  ...             [[0.0]]\n",
              "8            8  ...             [[0.0]]\n",
              "9            9  ...  [[-1.1920929e-07]]\n",
              "10          10  ...      [[0.19746459]]\n",
              "11          11  ...  [[-1.1920929e-07]]\n",
              "12          12  ...  [[-1.1920929e-07]]\n",
              "\n",
              "[13 rows x 11 columns]"
            ]
          },
          "metadata": {
            "tags": []
          },
          "execution_count": 35
        }
      ]
    },
    {
      "cell_type": "code",
      "metadata": {
        "id": "sJUcIG_Y7m5O"
      },
      "source": [
        "df_xtrain_bert_embeddings.to_excel('changedPolicy_AT&T_bert_and_ktrain_new' +'.xlsx')"
      ],
      "execution_count": null,
      "outputs": []
    },
    {
      "cell_type": "markdown",
      "metadata": {
        "id": "xhn1UFGRxzh8"
      },
      "source": [
        "## TF-IDF Embeddings"
      ]
    },
    {
      "cell_type": "code",
      "metadata": {
        "id": "t4yWtY_nx-BC"
      },
      "source": [
        "df_new['TF_IDF_PreviousPolicy'] = (\n",
        "    hero.tfidf(df_old['clean_text'], max_features=50)\n",
        ")\n",
        "\n",
        "df_new['TF_IDF_CurrentPolicy'] = (\n",
        "    hero.tfidf(df_new['clean_text'], max_features=50)\n",
        ")"
      ],
      "execution_count": null,
      "outputs": []
    },
    {
      "cell_type": "code",
      "metadata": {
        "colab": {
          "base_uri": "https://localhost:8080/",
          "height": 306
        },
        "id": "b3Aoc86J0gAm",
        "outputId": "20c569ac-ea36-4bd8-d1fe-fc87d8b3ce7d"
      },
      "source": [
        "df_new"
      ],
      "execution_count": null,
      "outputs": [
        {
          "output_type": "execute_result",
          "data": {
            "text/html": [
              "<div>\n",
              "<style scoped>\n",
              "    .dataframe tbody tr th:only-of-type {\n",
              "        vertical-align: middle;\n",
              "    }\n",
              "\n",
              "    .dataframe tbody tr th {\n",
              "        vertical-align: top;\n",
              "    }\n",
              "\n",
              "    .dataframe thead th {\n",
              "        text-align: right;\n",
              "    }\n",
              "</style>\n",
              "<table border=\"1\" class=\"dataframe\">\n",
              "  <thead>\n",
              "    <tr style=\"text-align: right;\">\n",
              "      <th></th>\n",
              "      <th>topic</th>\n",
              "      <th>policy</th>\n",
              "      <th>clean_text</th>\n",
              "      <th>Change_Score_BERT</th>\n",
              "      <th>TF_IDF_PreviousPolicy</th>\n",
              "      <th>TF_IDF_CurrentPolicy</th>\n",
              "      <th>Change_Score_TF_IDF</th>\n",
              "    </tr>\n",
              "  </thead>\n",
              "  <tbody>\n",
              "    <tr>\n",
              "      <th>0</th>\n",
              "      <td>Payment Terms Introduction</td>\n",
              "      <td>Services purchased using AutoPay are subject t...</td>\n",
              "      <td>services purchased using autopay subject prepa...</td>\n",
              "      <td>[[0.00045579672]]</td>\n",
              "      <td>[0.12628605884559474, 0.0, 0.0, 0.0, 0.0, 0.0,...</td>\n",
              "      <td>[0.11065165787210039, 0.0, 0.0, 0.0, 0.0, 0.0,...</td>\n",
              "      <td>None</td>\n",
              "    </tr>\n",
              "    <tr>\n",
              "      <th>1</th>\n",
              "      <td>Account Authorization</td>\n",
              "      <td>By entering your checking account, credit card...</td>\n",
              "      <td>entering checking account credit card debit ca...</td>\n",
              "      <td>[[0.021617174]]</td>\n",
              "      <td>[0.3452657575383885, 0.05863270474170112, 0.0,...</td>\n",
              "      <td>[0.4990191824444814, 0.07940243751288335, 0.0,...</td>\n",
              "      <td>None</td>\n",
              "    </tr>\n",
              "    <tr>\n",
              "      <th>2</th>\n",
              "      <td>AutoPay</td>\n",
              "      <td>Account holders on a monthly plan will be noti...</td>\n",
              "      <td>account holders monthly plan notified via sms ...</td>\n",
              "      <td>[[0.0061291456]]</td>\n",
              "      <td>[0.3990435631107133, 0.06776520087528641, 0.30...</td>\n",
              "      <td>[0.4228082425331125, 0.0, 0.2144233142550092, ...</td>\n",
              "      <td>None</td>\n",
              "    </tr>\n",
              "    <tr>\n",
              "      <th>3</th>\n",
              "      <td>AutoPay details</td>\n",
              "      <td>This authorization will remain in effect until...</td>\n",
              "      <td>authorization remain effect cancel may cancel ...</td>\n",
              "      <td>[[0.0917387]]</td>\n",
              "      <td>[0.0, 0.09163010430986986, 0.0, 0.091630104309...</td>\n",
              "      <td>[0.0, 0.0, 0.0, 0.0, 0.0, 0.35668671975772626,...</td>\n",
              "      <td>None</td>\n",
              "    </tr>\n",
              "    <tr>\n",
              "      <th>4</th>\n",
              "      <td>ELECTRONIC COMMUNICATION CONSENT</td>\n",
              "      <td>By clicking Agree as Your electronic signature...</td>\n",
              "      <td>clicking agree electronic signature consent re...</td>\n",
              "      <td>[[0.0032414794]]</td>\n",
              "      <td>[0.18529654736247098, 0.0, 0.0, 0.146845461498...</td>\n",
              "      <td>[0.1606691331660769, 0.15339114713757002, 0.0,...</td>\n",
              "      <td>None</td>\n",
              "    </tr>\n",
              "  </tbody>\n",
              "</table>\n",
              "</div>"
            ],
            "text/plain": [
              "                              topic  ... Change_Score_TF_IDF\n",
              "0        Payment Terms Introduction  ...                None\n",
              "1             Account Authorization  ...                None\n",
              "2                           AutoPay  ...                None\n",
              "3                   AutoPay details  ...                None\n",
              "4  ELECTRONIC COMMUNICATION CONSENT  ...                None\n",
              "\n",
              "[5 rows x 7 columns]"
            ]
          },
          "metadata": {
            "tags": []
          },
          "execution_count": 19
        }
      ]
    },
    {
      "cell_type": "code",
      "metadata": {
        "id": "_3yVe7cQyOs_"
      },
      "source": [
        "#Find similarity using TF-IDF\n",
        "df_new['Change_Score_TF_IDF']=[None] * len(df_old['clean_text'])\n",
        "for i in range(len(df_old['clean_text'])):\n",
        "  sim=cosine_similarity([df_new['TF_IDF_PreviousPolicy'][i]],[df_new['TF_IDF_CurrentPolicy'][i]])\n",
        "  #print(sim)\n",
        "  df_new['Change_Score_TF_IDF'][i]=1-sim"
      ],
      "execution_count": null,
      "outputs": []
    },
    {
      "cell_type": "code",
      "metadata": {
        "colab": {
          "base_uri": "https://localhost:8080/",
          "height": 204
        },
        "id": "0Qt4wb0qzTsy",
        "outputId": "6cdc3bfa-15fa-4353-8a68-8fff969877b1"
      },
      "source": [
        "df_new = df_new.drop(columns=['TF_IDF_PreviousPolicy', 'TF_IDF_CurrentPolicy'])\n",
        "df_new"
      ],
      "execution_count": null,
      "outputs": [
        {
          "output_type": "execute_result",
          "data": {
            "text/html": [
              "<div>\n",
              "<style scoped>\n",
              "    .dataframe tbody tr th:only-of-type {\n",
              "        vertical-align: middle;\n",
              "    }\n",
              "\n",
              "    .dataframe tbody tr th {\n",
              "        vertical-align: top;\n",
              "    }\n",
              "\n",
              "    .dataframe thead th {\n",
              "        text-align: right;\n",
              "    }\n",
              "</style>\n",
              "<table border=\"1\" class=\"dataframe\">\n",
              "  <thead>\n",
              "    <tr style=\"text-align: right;\">\n",
              "      <th></th>\n",
              "      <th>topic</th>\n",
              "      <th>policy</th>\n",
              "      <th>clean_text</th>\n",
              "      <th>Change_Score_BERT</th>\n",
              "      <th>Change_Score_TF_IDF</th>\n",
              "    </tr>\n",
              "  </thead>\n",
              "  <tbody>\n",
              "    <tr>\n",
              "      <th>0</th>\n",
              "      <td>Payment Terms Introduction</td>\n",
              "      <td>Services purchased using AutoPay are subject t...</td>\n",
              "      <td>services purchased using autopay subject prepa...</td>\n",
              "      <td>[[0.00045579672]]</td>\n",
              "      <td>[[0.5236897835240916]]</td>\n",
              "    </tr>\n",
              "    <tr>\n",
              "      <th>1</th>\n",
              "      <td>Account Authorization</td>\n",
              "      <td>By entering your checking account, credit card...</td>\n",
              "      <td>entering checking account credit card debit ca...</td>\n",
              "      <td>[[0.021617174]]</td>\n",
              "      <td>[[0.25507163557277335]]</td>\n",
              "    </tr>\n",
              "    <tr>\n",
              "      <th>2</th>\n",
              "      <td>AutoPay</td>\n",
              "      <td>Account holders on a monthly plan will be noti...</td>\n",
              "      <td>account holders monthly plan notified via sms ...</td>\n",
              "      <td>[[0.0061291456]]</td>\n",
              "      <td>[[0.3376216539816145]]</td>\n",
              "    </tr>\n",
              "    <tr>\n",
              "      <th>3</th>\n",
              "      <td>AutoPay details</td>\n",
              "      <td>This authorization will remain in effect until...</td>\n",
              "      <td>authorization remain effect cancel may cancel ...</td>\n",
              "      <td>[[0.0917387]]</td>\n",
              "      <td>[[0.6308809735131118]]</td>\n",
              "    </tr>\n",
              "    <tr>\n",
              "      <th>4</th>\n",
              "      <td>ELECTRONIC COMMUNICATION CONSENT</td>\n",
              "      <td>By clicking Agree as Your electronic signature...</td>\n",
              "      <td>clicking agree electronic signature consent re...</td>\n",
              "      <td>[[0.0032414794]]</td>\n",
              "      <td>[[0.37377421641562414]]</td>\n",
              "    </tr>\n",
              "  </tbody>\n",
              "</table>\n",
              "</div>"
            ],
            "text/plain": [
              "                              topic  ...      Change_Score_TF_IDF\n",
              "0        Payment Terms Introduction  ...   [[0.5236897835240916]]\n",
              "1             Account Authorization  ...  [[0.25507163557277335]]\n",
              "2                           AutoPay  ...   [[0.3376216539816145]]\n",
              "3                   AutoPay details  ...   [[0.6308809735131118]]\n",
              "4  ELECTRONIC COMMUNICATION CONSENT  ...  [[0.37377421641562414]]\n",
              "\n",
              "[5 rows x 5 columns]"
            ]
          },
          "metadata": {
            "tags": []
          },
          "execution_count": 23
        }
      ]
    },
    {
      "cell_type": "markdown",
      "metadata": {
        "id": "f2t7S61XpKXt"
      },
      "source": [
        "#Compare Rows"
      ]
    },
    {
      "cell_type": "code",
      "metadata": {
        "id": "f3kzt3bLnqyq"
      },
      "source": [
        "def updated_policy(text1,text2):\n",
        "  text1=text1.lower()\n",
        "  text2=text2.lower()\n",
        "  text1Lines=text1.split('.')\n",
        "  text2Lines=text2.split('.') \n",
        "  \n",
        "  diffInstance = difflib.Differ()\n",
        "  diffList = list(diffInstance.compare(text1Lines, text2Lines))\n",
        "  updated_lines=[]\n",
        "  for line in diffList:\n",
        "    if line[0] == '-':\n",
        "      #print(line)\n",
        "      updated_lines.append(line)\n",
        "  updated_lines_joined = '.'.join(updated_lines)\n",
        "  return updated_lines_joined\n"
      ],
      "execution_count": null,
      "outputs": []
    },
    {
      "cell_type": "code",
      "metadata": {
        "id": "JTzuoXeYnti4"
      },
      "source": [
        "\n",
        "df_new['updated']=[None] * len(df_old[\"policy\"])\n",
        "for i in range(len(df_old[\"policy\"])):\n",
        "  df_new['updated'][i]=updated_policy(df_new[\"policy\"][i],df_old[\"policy\"][i])"
      ],
      "execution_count": null,
      "outputs": []
    },
    {
      "cell_type": "code",
      "metadata": {
        "id": "wbGuBLgWnvyK"
      },
      "source": [
        "df_new['omitted']=[None] * len(df_old[\"policy\"])\n",
        "for i in range(len(df_old[\"policy\"])):\n",
        "  df_new['omitted'][i]=updated_policy(df_old[\"policy\"][i],df_new[\"policy\"][i])"
      ],
      "execution_count": null,
      "outputs": []
    },
    {
      "cell_type": "markdown",
      "metadata": {
        "id": "DmgEreRFpPLG"
      },
      "source": [
        "#Summarize differences"
      ]
    },
    {
      "cell_type": "code",
      "metadata": {
        "colab": {
          "base_uri": "https://localhost:8080/",
          "height": 262,
          "referenced_widgets": [
            "fd1c63e93fa64e08aeac78fe3a175251",
            "fe3d4453dce441c7bfee4cf4eaab4d6e",
            "dc1725aac39044538bd485646d0db096",
            "90802f76f6754e6faea75889d8191ad3",
            "fd3e26d197ed40aca1fc622cd7e5fcf3",
            "8c967c170fcf473ca38db09ed0b47272",
            "f22a294cf61f4fb88824d1a20e176b99",
            "fa555b23e884446382d03d1815ea8f12",
            "fd70c7ec5905405180d11080d558647c",
            "f315701c52d14f73a6eeb99c91a9b434",
            "eeeb475cb0e44ef0ae5d24a4fd3dd6ef",
            "ffa9bb010e54411499dd82c38b767a9c",
            "2582571a528d4d1999b071cd05521817",
            "8597001b79354179a3384b3be048cd46",
            "31418cb57b9c437d8c9b83fa8ce93d45",
            "33f814f442524cbca03a48885f5ca966",
            "53c622ebefdb4935af34024cc866b4cf",
            "b692528ce55440e9ac9f09e21ae57c52",
            "776a50cecdf34a689c807000196c00a9",
            "4f07ae1858564f59b293bbc36c1917fc",
            "be4d7ce19ac147ef9730e4700287c925",
            "b3fbeb4f96854d3eae8094a9bf559a55",
            "a2b85ed71e3e48789965bd4b9af728e2",
            "a753636fc2604ad7a0fc2b30ea959917",
            "9b48af6cdf764d4981b2844df94b2e61",
            "ac45ce90a5fa4a999c0ae487fec8eeb6",
            "1d3b3f1210a3423fb36388168eb02585",
            "b7e3d60ac69c4835882dc32c640728b0",
            "192935e147274aba9c24c16f5d9b3264",
            "78e3d014205c4f2da8e7abb260eb8a5f",
            "5cae1e1e8e464b4a803a1f04a2591b02",
            "200d9f065b644fbba1cd659b78609afe",
            "4ac9dff1457943eba79cc5b21f9ae52f",
            "f53b5fda002b464b91adf1ecff3b47fc",
            "a7eb29d578da4d3b982c4e893f21b379",
            "b8725336436a4f5c87616444e69fb6be",
            "d4b0e09c2f2d40b7a8ba8e57777297ce",
            "f225d158df0c400d89725151665424f5",
            "91296e6e0bed4d698ad6369fdbe4f22f",
            "4ccbd7c5de16452f92a1f5ba52470f7e"
          ]
        },
        "id": "4E3dsjyToAhl",
        "outputId": "6c01e23a-0ac0-47e5-e18a-15aef483d44d"
      },
      "source": [
        "from transformers import AutoTokenizer, AutoModelForSeq2SeqLM\n",
        "  \n",
        "tokenizer = AutoTokenizer.from_pretrained(\"nsi319/legal-pegasus\", use_fast=False)\n",
        "\n",
        "model = AutoModelForSeq2SeqLM.from_pretrained(\"nsi319/legal-pegasus\")"
      ],
      "execution_count": null,
      "outputs": [
        {
          "output_type": "display_data",
          "data": {
            "application/vnd.jupyter.widget-view+json": {
              "model_id": "fd1c63e93fa64e08aeac78fe3a175251",
              "version_minor": 0,
              "version_major": 2
            },
            "text/plain": [
              "HBox(children=(FloatProgress(value=0.0, description='Downloading', max=1508.0, style=ProgressStyle(description…"
            ]
          },
          "metadata": {
            "tags": []
          }
        },
        {
          "output_type": "stream",
          "text": [
            "\n"
          ],
          "name": "stdout"
        },
        {
          "output_type": "display_data",
          "data": {
            "application/vnd.jupyter.widget-view+json": {
              "model_id": "fd70c7ec5905405180d11080d558647c",
              "version_minor": 0,
              "version_major": 2
            },
            "text/plain": [
              "HBox(children=(FloatProgress(value=0.0, description='Downloading', max=1328.0, style=ProgressStyle(description…"
            ]
          },
          "metadata": {
            "tags": []
          }
        },
        {
          "output_type": "stream",
          "text": [
            "\n"
          ],
          "name": "stdout"
        },
        {
          "output_type": "display_data",
          "data": {
            "application/vnd.jupyter.widget-view+json": {
              "model_id": "53c622ebefdb4935af34024cc866b4cf",
              "version_minor": 0,
              "version_major": 2
            },
            "text/plain": [
              "HBox(children=(FloatProgress(value=0.0, description='Downloading', max=1912529.0, style=ProgressStyle(descript…"
            ]
          },
          "metadata": {
            "tags": []
          }
        },
        {
          "output_type": "stream",
          "text": [
            "\n"
          ],
          "name": "stdout"
        },
        {
          "output_type": "display_data",
          "data": {
            "application/vnd.jupyter.widget-view+json": {
              "model_id": "9b48af6cdf764d4981b2844df94b2e61",
              "version_minor": 0,
              "version_major": 2
            },
            "text/plain": [
              "HBox(children=(FloatProgress(value=0.0, description='Downloading', max=1341.0, style=ProgressStyle(description…"
            ]
          },
          "metadata": {
            "tags": []
          }
        },
        {
          "output_type": "stream",
          "text": [
            "\n"
          ],
          "name": "stdout"
        },
        {
          "output_type": "display_data",
          "data": {
            "application/vnd.jupyter.widget-view+json": {
              "model_id": "4ac9dff1457943eba79cc5b21f9ae52f",
              "version_minor": 0,
              "version_major": 2
            },
            "text/plain": [
              "HBox(children=(FloatProgress(value=0.0, description='Downloading', max=2283841687.0, style=ProgressStyle(descr…"
            ]
          },
          "metadata": {
            "tags": []
          }
        },
        {
          "output_type": "stream",
          "text": [
            "\n"
          ],
          "name": "stdout"
        }
      ]
    },
    {
      "cell_type": "code",
      "metadata": {
        "id": "sIqj8NLwoC5-"
      },
      "source": [
        "def summ(text):\n",
        "  input_tokenized = tokenizer.encode(text, return_tensors='pt',max_length=1024,truncation=True)\n",
        "  summary_ids = model.generate(input_tokenized,\n",
        "                                  num_beams=9,\n",
        "                                  no_repeat_ngram_size=3,\n",
        "                                  length_penalty=2.0,\n",
        "                                  min_length=10,\n",
        "                                  max_length=250,\n",
        "                                  early_stopping=True)\n",
        "  summary = [tokenizer.decode(g, skip_special_tokens=True, clean_up_tokenization_spaces=False) for g in summary_ids][0]\n",
        "  return summary"
      ],
      "execution_count": null,
      "outputs": []
    },
    {
      "cell_type": "code",
      "metadata": {
        "id": "mD5YyctkoF6s",
        "colab": {
          "base_uri": "https://localhost:8080/"
        },
        "outputId": "98d6e4f9-2753-41ba-cb9a-16acb600dfaa"
      },
      "source": [
        "df_new['updated_Summary']=[None] * len(df_old[\"policy\"])\n",
        "for i in range(len(df_old[\"policy\"])):\n",
        "  df_new['updated_Summary'][i]=summ(df_new[\"updated\"][i])\n",
        "  print(i)"
      ],
      "execution_count": null,
      "outputs": [
        {
          "output_type": "stream",
          "text": [
            "/usr/local/lib/python3.7/dist-packages/torch/_tensor.py:575: UserWarning:\n",
            "\n",
            "floor_divide is deprecated, and will be removed in a future version of pytorch. It currently rounds toward 0 (like the 'trunc' function NOT 'floor'). This results in incorrect rounding for negative values.\n",
            "To keep the current behavior, use torch.div(a, b, rounding_mode='trunc'), or for actual floor division, use torch.div(a, b, rounding_mode='floor'). (Triggered internally at  /pytorch/aten/src/ATen/native/BinaryOps.cpp:467.)\n",
            "\n"
          ],
          "name": "stderr"
        },
        {
          "output_type": "stream",
          "text": [
            "0\n",
            "1\n",
            "2\n",
            "3\n",
            "4\n"
          ],
          "name": "stdout"
        }
      ]
    },
    {
      "cell_type": "code",
      "metadata": {
        "colab": {
          "base_uri": "https://localhost:8080/",
          "height": 374
        },
        "id": "-3w5HNH8oLbe",
        "outputId": "5f321f46-7d55-4fd6-bfe1-0b9d7525bc04"
      },
      "source": [
        "df_new"
      ],
      "execution_count": null,
      "outputs": [
        {
          "output_type": "execute_result",
          "data": {
            "text/html": [
              "<div>\n",
              "<style scoped>\n",
              "    .dataframe tbody tr th:only-of-type {\n",
              "        vertical-align: middle;\n",
              "    }\n",
              "\n",
              "    .dataframe tbody tr th {\n",
              "        vertical-align: top;\n",
              "    }\n",
              "\n",
              "    .dataframe thead th {\n",
              "        text-align: right;\n",
              "    }\n",
              "</style>\n",
              "<table border=\"1\" class=\"dataframe\">\n",
              "  <thead>\n",
              "    <tr style=\"text-align: right;\">\n",
              "      <th></th>\n",
              "      <th>topic</th>\n",
              "      <th>policy</th>\n",
              "      <th>clean_text</th>\n",
              "      <th>Change_Score_BERT</th>\n",
              "      <th>Change_Score_TF_IDF</th>\n",
              "      <th>updated</th>\n",
              "      <th>omitted</th>\n",
              "      <th>updated_Summary</th>\n",
              "    </tr>\n",
              "  </thead>\n",
              "  <tbody>\n",
              "    <tr>\n",
              "      <th>0</th>\n",
              "      <td>Payment Terms Introduction</td>\n",
              "      <td>Services purchased using AutoPay are subject t...</td>\n",
              "      <td>services purchased using autopay subject prepa...</td>\n",
              "      <td>[[0.00045579672]]</td>\n",
              "      <td>[[0.5236897835240916]]</td>\n",
              "      <td>-  this payment is not returnable, transferabl...</td>\n",
              "      <td>-  payments are not returnable, transferable o...</td>\n",
              "      <td>This payment is not returnable, transferable o...</td>\n",
              "    </tr>\n",
              "    <tr>\n",
              "      <th>1</th>\n",
              "      <td>Account Authorization</td>\n",
              "      <td>By entering your checking account, credit card...</td>\n",
              "      <td>entering checking account credit card debit ca...</td>\n",
              "      <td>[[0.021617174]]</td>\n",
              "      <td>[[0.25507163557277335]]</td>\n",
              "      <td>- by entering your checking account, credit ca...</td>\n",
              "      <td>- by entering your checking account, credit or...</td>\n",
              "      <td>You authorize at&amp;t and/or its agents and your ...</td>\n",
              "    </tr>\n",
              "    <tr>\n",
              "      <th>2</th>\n",
              "      <td>AutoPay</td>\n",
              "      <td>Account holders on a monthly plan will be noti...</td>\n",
              "      <td>account holders monthly plan notified via sms ...</td>\n",
              "      <td>[[0.0061291456]]</td>\n",
              "      <td>[[0.3376216539816145]]</td>\n",
              "      <td>- account holders on a monthly plan will be no...</td>\n",
              "      <td>- account holders on a monthly plan will be no...</td>\n",
              "      <td>Account holders on a monthly plan will be noti...</td>\n",
              "    </tr>\n",
              "    <tr>\n",
              "      <th>3</th>\n",
              "      <td>AutoPay details</td>\n",
              "      <td>This authorization will remain in effect until...</td>\n",
              "      <td>authorization remain effect cancel may cancel ...</td>\n",
              "      <td>[[0.0917387]]</td>\n",
              "      <td>[[0.6308809735131118]]</td>\n",
              "      <td>- this authorization will remain in effect unt...</td>\n",
              "      <td>- this autopay authorization will remain in ef...</td>\n",
              "      <td>This authorization will remain in effect until...</td>\n",
              "    </tr>\n",
              "    <tr>\n",
              "      <th>4</th>\n",
              "      <td>ELECTRONIC COMMUNICATION CONSENT</td>\n",
              "      <td>By clicking Agree as Your electronic signature...</td>\n",
              "      <td>clicking agree electronic signature consent re...</td>\n",
              "      <td>[[0.0032414794]]</td>\n",
              "      <td>[[0.37377421641562414]]</td>\n",
              "      <td>-  you can withdraw your consent at any time b...</td>\n",
              "      <td>-  you can withdraw your consent at any time b...</td>\n",
              "      <td>You can withdraw your consent at any time by c...</td>\n",
              "    </tr>\n",
              "  </tbody>\n",
              "</table>\n",
              "</div>"
            ],
            "text/plain": [
              "                              topic  ...                                    updated_Summary\n",
              "0        Payment Terms Introduction  ...  This payment is not returnable, transferable o...\n",
              "1             Account Authorization  ...  You authorize at&t and/or its agents and your ...\n",
              "2                           AutoPay  ...  Account holders on a monthly plan will be noti...\n",
              "3                   AutoPay details  ...  This authorization will remain in effect until...\n",
              "4  ELECTRONIC COMMUNICATION CONSENT  ...  You can withdraw your consent at any time by c...\n",
              "\n",
              "[5 rows x 8 columns]"
            ]
          },
          "metadata": {
            "tags": []
          },
          "execution_count": 30
        }
      ]
    },
    {
      "cell_type": "code",
      "metadata": {
        "id": "bBqR3gznoJWh"
      },
      "source": [
        "df_new.to_excel('changedPolicy_AT&T_diff_based_v2' +'.xlsx')"
      ],
      "execution_count": null,
      "outputs": []
    }
  ]
}